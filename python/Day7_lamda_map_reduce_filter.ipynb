{
 "cells": [
  {
   "cell_type": "markdown",
   "id": "a20c507c-c250-4e3d-a5b6-6e7ecf6d0020",
   "metadata": {},
   "source": [
    "## LAMBDA FUNCTION"
   ]
  },
  {
   "cell_type": "code",
   "execution_count": 1,
   "id": "76ee38cd-4f07-4185-bfb9-51a2bef5a2c2",
   "metadata": {},
   "outputs": [],
   "source": [
    "n=3\n",
    "p=2"
   ]
  },
  {
   "cell_type": "code",
   "execution_count": 2,
   "id": "b220f5f8-16b6-40a7-b18f-d40297919558",
   "metadata": {},
   "outputs": [],
   "source": [
    "def test(n,p):\n",
    "    return n**p"
   ]
  },
  {
   "cell_type": "code",
   "execution_count": 3,
   "id": "1e20fa3e-d8f5-4129-8517-a630d9aa095c",
   "metadata": {},
   "outputs": [
    {
     "data": {
      "text/plain": [
       "6561"
      ]
     },
     "execution_count": 3,
     "metadata": {},
     "output_type": "execute_result"
    }
   ],
   "source": [
    "test(9,4)"
   ]
  },
  {
   "cell_type": "code",
   "execution_count": 12,
   "id": "55a18f25-477a-436e-b19d-38f5299f42a1",
   "metadata": {},
   "outputs": [
    {
     "data": {
      "text/plain": [
       "81"
      ]
     },
     "execution_count": 12,
     "metadata": {},
     "output_type": "execute_result"
    }
   ],
   "source": [
    "a=lambda n,p : n**p\n",
    "a(3,4)"
   ]
  },
  {
   "cell_type": "code",
   "execution_count": 13,
   "id": "0d795485-e4e3-4c47-9c47-dfb48e48b42e",
   "metadata": {},
   "outputs": [
    {
     "data": {
      "text/plain": [
       "16"
      ]
     },
     "execution_count": 13,
     "metadata": {},
     "output_type": "execute_result"
    }
   ],
   "source": [
    "a(2,4)"
   ]
  },
  {
   "cell_type": "code",
   "execution_count": 14,
   "id": "2ff181c9-0272-40cd-acc4-e30cf03651a9",
   "metadata": {},
   "outputs": [],
   "source": [
    "add = lambda x,y:x+y"
   ]
  },
  {
   "cell_type": "code",
   "execution_count": 15,
   "id": "6450ec14-36c0-40e9-b20c-78a11ffb1ae5",
   "metadata": {},
   "outputs": [
    {
     "data": {
      "text/plain": [
       "336"
      ]
     },
     "execution_count": 15,
     "metadata": {},
     "output_type": "execute_result"
    }
   ],
   "source": [
    "add(213,123)"
   ]
  },
  {
   "cell_type": "code",
   "execution_count": 19,
   "id": "7d38ee87-1c82-4bfa-ab1b-5e5dc2a7409d",
   "metadata": {},
   "outputs": [],
   "source": [
    "c_to_f = lambda n: n * 9/5 + 32"
   ]
  },
  {
   "cell_type": "code",
   "execution_count": 20,
   "id": "c455fda1-16f0-4cbf-9760-1311b9b4c575",
   "metadata": {},
   "outputs": [
    {
     "data": {
      "text/plain": [
       "89.6"
      ]
     },
     "execution_count": 20,
     "metadata": {},
     "output_type": "execute_result"
    }
   ],
   "source": [
    "c_to_f(32)"
   ]
  },
  {
   "cell_type": "code",
   "execution_count": 21,
   "id": "00ea5c66-0af7-4d67-8cb4-ed9b14ca3b92",
   "metadata": {},
   "outputs": [
    {
     "data": {
      "text/plain": [
       "32.0"
      ]
     },
     "execution_count": 21,
     "metadata": {},
     "output_type": "execute_result"
    }
   ],
   "source": [
    "c_to_f(0)"
   ]
  },
  {
   "cell_type": "code",
   "execution_count": 22,
   "id": "6e84827a-a12e-40a4-bd09-d12304b59b6b",
   "metadata": {},
   "outputs": [],
   "source": [
    "maxi = lambda x,y: x if x>y else y"
   ]
  },
  {
   "cell_type": "code",
   "execution_count": 23,
   "id": "d3ff5275-20f6-45eb-85b0-8e78f6c291c0",
   "metadata": {},
   "outputs": [
    {
     "data": {
      "text/plain": [
       "3"
      ]
     },
     "execution_count": 23,
     "metadata": {},
     "output_type": "execute_result"
    }
   ],
   "source": [
    "maxi(2,3)"
   ]
  },
  {
   "cell_type": "code",
   "execution_count": 24,
   "id": "3ef021bb-22d3-4948-90cd-a5c5ee8c6927",
   "metadata": {},
   "outputs": [
    {
     "data": {
      "text/plain": [
       "1"
      ]
     },
     "execution_count": 24,
     "metadata": {},
     "output_type": "execute_result"
    }
   ],
   "source": [
    "maxi(1,-1)"
   ]
  },
  {
   "cell_type": "code",
   "execution_count": 25,
   "id": "ecb13713-e5b9-4d3e-8565-ea8f73ca3d5d",
   "metadata": {},
   "outputs": [],
   "source": [
    "length = lambda c: len(c)"
   ]
  },
  {
   "cell_type": "code",
   "execution_count": 26,
   "id": "b9b17d44-0bdd-4e29-bbd1-253b622e1a0c",
   "metadata": {},
   "outputs": [
    {
     "data": {
      "text/plain": [
       "4"
      ]
     },
     "execution_count": 26,
     "metadata": {},
     "output_type": "execute_result"
    }
   ],
   "source": [
    "length('klii')"
   ]
  },
  {
   "cell_type": "markdown",
   "id": "64e46bab-882b-4001-bd53-c5deaefad120",
   "metadata": {},
   "source": [
    "## MAP, REDUCE & FILTER FUNCTION"
   ]
  },
  {
   "cell_type": "markdown",
   "id": "5a087cfd-b8ef-437b-9ff7-6c824ed35b75",
   "metadata": {},
   "source": [
    "MAP"
   ]
  },
  {
   "cell_type": "code",
   "execution_count": 27,
   "id": "5e07d106-6af6-48f8-8de9-857a60b222f7",
   "metadata": {},
   "outputs": [],
   "source": [
    "l=[1,2,3,4,5]"
   ]
  },
  {
   "cell_type": "code",
   "execution_count": 28,
   "id": "5972deff-0ee8-465a-93b3-c8f1a8d357cb",
   "metadata": {},
   "outputs": [],
   "source": [
    "def test1(l):\n",
    "    l1=[]\n",
    "    for i in l:\n",
    "        l1.append(i**2)\n",
    "    return l1"
   ]
  },
  {
   "cell_type": "code",
   "execution_count": 29,
   "id": "d4230e75-f191-4acb-b639-a42a8d35a4e6",
   "metadata": {},
   "outputs": [
    {
     "data": {
      "text/plain": [
       "[1, 4, 9, 16, 25]"
      ]
     },
     "execution_count": 29,
     "metadata": {},
     "output_type": "execute_result"
    }
   ],
   "source": [
    "test1(l)"
   ]
  },
  {
   "cell_type": "code",
   "execution_count": 30,
   "id": "238a5ff5-8ac0-43fc-818a-a8ec38cdcb34",
   "metadata": {
    "tags": []
   },
   "outputs": [],
   "source": [
    "def sq(x):\n",
    "    return x**2"
   ]
  },
  {
   "cell_type": "code",
   "execution_count": 31,
   "id": "f6055b4f-53fb-4ccb-b43b-88831cf71230",
   "metadata": {},
   "outputs": [
    {
     "data": {
      "text/plain": [
       "[1, 4, 9, 16, 25]"
      ]
     },
     "execution_count": 31,
     "metadata": {},
     "output_type": "execute_result"
    }
   ],
   "source": [
    "list(map(sq,l))"
   ]
  },
  {
   "cell_type": "code",
   "execution_count": 33,
   "id": "f71f5e3d-df9c-451b-9243-af9581230147",
   "metadata": {},
   "outputs": [
    {
     "data": {
      "text/plain": [
       "[1, 4, 9, 16, 25]"
      ]
     },
     "execution_count": 33,
     "metadata": {},
     "output_type": "execute_result"
    }
   ],
   "source": [
    "list(map(lambda x : x**2,l))"
   ]
  },
  {
   "cell_type": "code",
   "execution_count": 34,
   "id": "4927865d-9d6c-4303-9ba7-aa4516500bfa",
   "metadata": {},
   "outputs": [
    {
     "data": {
      "text/plain": [
       "[11, 12, 13, 14, 15]"
      ]
     },
     "execution_count": 34,
     "metadata": {},
     "output_type": "execute_result"
    }
   ],
   "source": [
    "list (map(lambda x:x+10,l))"
   ]
  },
  {
   "cell_type": "code",
   "execution_count": 35,
   "id": "e11daba4-4462-47e2-ab85-8af7b34413b6",
   "metadata": {},
   "outputs": [
    {
     "data": {
      "text/plain": [
       "['1', '2', '3', '4', '5']"
      ]
     },
     "execution_count": 35,
     "metadata": {},
     "output_type": "execute_result"
    }
   ],
   "source": [
    "list (map(lambda x:str(x),l))"
   ]
  },
  {
   "cell_type": "code",
   "execution_count": 36,
   "id": "da05c266-c77e-42fd-a4d5-98221425501a",
   "metadata": {},
   "outputs": [],
   "source": [
    "l1=[1,2,3,4,5]\n",
    "l2=[1,2,3,4,5]"
   ]
  },
  {
   "cell_type": "code",
   "execution_count": 43,
   "id": "8991d105-111d-434e-9c11-2113da161c12",
   "metadata": {},
   "outputs": [
    {
     "data": {
      "text/plain": [
       "[2, 4, 6, 8, 10]"
      ]
     },
     "execution_count": 43,
     "metadata": {},
     "output_type": "execute_result"
    }
   ],
   "source": [
    "list(map(lambda x,y: x+y,l1,l2))"
   ]
  },
  {
   "cell_type": "code",
   "execution_count": 51,
   "id": "2d0c95e7-2ee4-40ef-b68b-2f8e9722b895",
   "metadata": {},
   "outputs": [],
   "source": [
    "l=[]\n",
    "f=lambda x,y: x+y"
   ]
  },
  {
   "cell_type": "code",
   "execution_count": 53,
   "id": "30d87e9d-b26f-4b21-8ea5-9716dca57df2",
   "metadata": {},
   "outputs": [
    {
     "data": {
      "text/plain": [
       "[2, 4, 6, 8, 10]"
      ]
     },
     "execution_count": 53,
     "metadata": {},
     "output_type": "execute_result"
    }
   ],
   "source": [
    "list(map(f,l1,l2))"
   ]
  },
  {
   "cell_type": "code",
   "execution_count": 54,
   "id": "91774c4b-02af-4dc5-ba0b-2b0902ec49ed",
   "metadata": {},
   "outputs": [],
   "source": [
    "a='pwsKILLS'"
   ]
  },
  {
   "cell_type": "code",
   "execution_count": 57,
   "id": "1a92ea69-10ce-4a14-ab0a-dfc07cce4ade",
   "metadata": {},
   "outputs": [
    {
     "data": {
      "text/plain": [
       "['P', 'W', 'S', 'K', 'I', 'L', 'L', 'S']"
      ]
     },
     "execution_count": 57,
     "metadata": {},
     "output_type": "execute_result"
    }
   ],
   "source": [
    "list(map(lambda x: x.upper(),a))"
   ]
  },
  {
   "cell_type": "markdown",
   "id": "84efecb4-e239-4dee-bb40-efa4a14eb14c",
   "metadata": {},
   "source": [
    "Reduce"
   ]
  },
  {
   "cell_type": "code",
   "execution_count": 58,
   "id": "3f9a6c29-6225-4614-b9c0-6eb8772b559f",
   "metadata": {},
   "outputs": [],
   "source": [
    "from functools import reduce"
   ]
  },
  {
   "cell_type": "code",
   "execution_count": 60,
   "id": "7b66b7e6-5291-465c-915b-76caba1656d3",
   "metadata": {},
   "outputs": [
    {
     "data": {
      "text/plain": [
       "15"
      ]
     },
     "execution_count": 60,
     "metadata": {},
     "output_type": "execute_result"
    }
   ],
   "source": [
    "l=[1,2,3,4,5]\n",
    "reduce(lambda x,y: x+y,l)"
   ]
  },
  {
   "cell_type": "code",
   "execution_count": 66,
   "id": "b05c57e5-f975-4866-8b0d-0db3e81c3ff0",
   "metadata": {},
   "outputs": [],
   "source": [
    "def add(x,y):\n",
    "    return x+y"
   ]
  },
  {
   "cell_type": "code",
   "execution_count": 67,
   "id": "27d42d63-5d78-4325-b307-14f75011242f",
   "metadata": {},
   "outputs": [
    {
     "data": {
      "text/plain": [
       "15"
      ]
     },
     "execution_count": 67,
     "metadata": {},
     "output_type": "execute_result"
    }
   ],
   "source": [
    "reduce(add,l)"
   ]
  },
  {
   "cell_type": "code",
   "execution_count": 68,
   "id": "0c8a95ce-18dd-4191-98e6-da8061f8003d",
   "metadata": {},
   "outputs": [
    {
     "data": {
      "text/plain": [
       "15"
      ]
     },
     "execution_count": 68,
     "metadata": {},
     "output_type": "execute_result"
    }
   ],
   "source": [
    "reduce(lambda x,y : x+y,l)"
   ]
  },
  {
   "cell_type": "code",
   "execution_count": 69,
   "id": "6c811539-a381-4414-9125-f55763e4dcd9",
   "metadata": {},
   "outputs": [],
   "source": [
    "# Reduce only takes two argument "
   ]
  },
  {
   "cell_type": "code",
   "execution_count": 70,
   "id": "600b537c-34a9-4701-8a2b-65ca605082f0",
   "metadata": {},
   "outputs": [
    {
     "data": {
      "text/plain": [
       "1"
      ]
     },
     "execution_count": 70,
     "metadata": {},
     "output_type": "execute_result"
    }
   ],
   "source": [
    "reduce(lambda x,y: x+y , [1])"
   ]
  },
  {
   "cell_type": "code",
   "execution_count": 71,
   "id": "74f30764-f1b8-4853-9538-412c011d7140",
   "metadata": {},
   "outputs": [
    {
     "data": {
      "text/plain": [
       "10"
      ]
     },
     "execution_count": 71,
     "metadata": {},
     "output_type": "execute_result"
    }
   ],
   "source": [
    "reduce(lambda x,y: x*y , [10])"
   ]
  },
  {
   "cell_type": "code",
   "execution_count": 83,
   "id": "2f07bd9d-a69e-456a-89a4-d85e3b2971da",
   "metadata": {},
   "outputs": [],
   "source": [
    "x=[1,2,3,4,5,0]"
   ]
  },
  {
   "cell_type": "code",
   "execution_count": 84,
   "id": "322fc0bb-1031-433c-80a2-d5006e16e0a0",
   "metadata": {},
   "outputs": [
    {
     "data": {
      "text/plain": [
       "[2, 4]"
      ]
     },
     "execution_count": 84,
     "metadata": {},
     "output_type": "execute_result"
    }
   ],
   "source": [
    "list(filter(lambda x: x%2==0,l))"
   ]
  },
  {
   "cell_type": "code",
   "execution_count": 88,
   "id": "a045b0ea-01f9-4846-96a3-9788bc35e4fd",
   "metadata": {},
   "outputs": [
    {
     "data": {
      "text/plain": [
       "[1, 3, 5]"
      ]
     },
     "execution_count": 88,
     "metadata": {},
     "output_type": "execute_result"
    }
   ],
   "source": [
    "list(filter(lambda x : x%2!=0,l))"
   ]
  },
  {
   "cell_type": "code",
   "execution_count": 90,
   "id": "f8eaabd2-d035-4aa8-9292-a5c14f08e5a0",
   "metadata": {},
   "outputs": [],
   "source": [
    "neg=[-1,2,-23,-22,10]"
   ]
  },
  {
   "cell_type": "code",
   "execution_count": 92,
   "id": "c7cf5714-f5d9-4ed7-86b1-ee26c31468de",
   "metadata": {},
   "outputs": [
    {
     "data": {
      "text/plain": [
       "[2, 10]"
      ]
     },
     "execution_count": 92,
     "metadata": {},
     "output_type": "execute_result"
    }
   ],
   "source": [
    "(list(filter(lambda x: x>=0,neg))) "
   ]
  },
  {
   "cell_type": "code",
   "execution_count": 93,
   "id": "294a0659-fbf1-4600-84b9-407aee0c2a71",
   "metadata": {},
   "outputs": [
    {
     "data": {
      "text/plain": [
       "[2, 10]"
      ]
     },
     "execution_count": 93,
     "metadata": {},
     "output_type": "execute_result"
    }
   ],
   "source": [
    "(list(filter(lambda x: x>=0,neg))) "
   ]
  },
  {
   "cell_type": "code",
   "execution_count": 94,
   "id": "52cadc92-42d6-4588-91de-2013a727c95c",
   "metadata": {},
   "outputs": [
    {
     "data": {
      "text/plain": [
       "[-1, -23, -22]"
      ]
     },
     "execution_count": 94,
     "metadata": {},
     "output_type": "execute_result"
    }
   ],
   "source": [
    "(list(filter(lambda x: x<=0,neg))) "
   ]
  },
  {
   "cell_type": "code",
   "execution_count": 97,
   "id": "2db91a14-b2fd-4ae8-934e-cfe1bd8fbe2f",
   "metadata": {},
   "outputs": [],
   "source": [
    "l2=['sudh','pwskills,''new','sut']"
   ]
  },
  {
   "cell_type": "code",
   "execution_count": 107,
   "id": "b02d15e9-b3fd-4ad3-8b02-93b31a0d0a68",
   "metadata": {},
   "outputs": [
    {
     "data": {
      "text/plain": [
       "['sudh', 'sut']"
      ]
     },
     "execution_count": 107,
     "metadata": {},
     "output_type": "execute_result"
    }
   ],
   "source": [
    "l2=['sudh','pwskills,''new','sut']\n",
    "list(filter(lambda x : len(x)<6 ,l2))"
   ]
  },
  {
   "cell_type": "code",
   "execution_count": null,
   "id": "9f0178f4-d3e2-43c3-98f4-3d669b38f685",
   "metadata": {},
   "outputs": [],
   "source": []
  }
 ],
 "metadata": {
  "kernelspec": {
   "display_name": "Python 3 (ipykernel)",
   "language": "python",
   "name": "python3"
  },
  "language_info": {
   "codemirror_mode": {
    "name": "ipython",
    "version": 3
   },
   "file_extension": ".py",
   "mimetype": "text/x-python",
   "name": "python",
   "nbconvert_exporter": "python",
   "pygments_lexer": "ipython3",
   "version": "3.10.8"
  }
 },
 "nbformat": 4,
 "nbformat_minor": 5
}
