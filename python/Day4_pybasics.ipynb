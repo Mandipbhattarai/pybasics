{
 "cells": [
  {
   "cell_type": "markdown",
   "id": "d74e53ce-73e8-4dec-85fe-e0faaad0df3f",
   "metadata": {},
   "source": [
    "String Operations"
   ]
  },
  {
   "cell_type": "code",
   "execution_count": 1,
   "id": "ac64ece7-63b9-4789-a6b9-5b6acb3e9333",
   "metadata": {},
   "outputs": [],
   "source": [
    "name=\"Data Science Masters\""
   ]
  },
  {
   "cell_type": "code",
   "execution_count": 7,
   "id": "09de4ee1-12b3-48ee-9b92-2175844718d5",
   "metadata": {},
   "outputs": [
    {
     "data": {
      "text/plain": [
       "'s r e t s a M   e c n e i c S   a t a D'"
      ]
     },
     "execution_count": 7,
     "metadata": {},
     "output_type": "execute_result"
    }
   ],
   "source": [
    "' '.join(reversed(name))"
   ]
  },
  {
   "cell_type": "code",
   "execution_count": 9,
   "id": "46cd6daf-78c4-4d00-8435-8a72287af7dc",
   "metadata": {},
   "outputs": [
    {
     "data": {
      "text/plain": [
       "'A b c d'"
      ]
     },
     "execution_count": 9,
     "metadata": {},
     "output_type": "execute_result"
    }
   ],
   "source": [
    "\" \".join(\"Abcd\")"
   ]
  },
  {
   "cell_type": "code",
   "execution_count": 10,
   "id": "10dfe33e-dc2f-4317-b452-534303ac72b3",
   "metadata": {},
   "outputs": [
    {
     "data": {
      "text/plain": [
       "'sretsaM ecneicS ataD'"
      ]
     },
     "execution_count": 10,
     "metadata": {},
     "output_type": "execute_result"
    }
   ],
   "source": [
    "''.join(reversed(name))"
   ]
  },
  {
   "cell_type": "code",
   "execution_count": 12,
   "id": "1969dba7-a2d1-42d2-88e6-796a4390c8aa",
   "metadata": {},
   "outputs": [
    {
     "data": {
      "text/plain": [
       "['s',\n",
       " 'r',\n",
       " 'e',\n",
       " 't',\n",
       " 's',\n",
       " 'a',\n",
       " 'M',\n",
       " ' ',\n",
       " 'e',\n",
       " 'c',\n",
       " 'n',\n",
       " 'e',\n",
       " 'i',\n",
       " 'c',\n",
       " 'S',\n",
       " ' ',\n",
       " 'a',\n",
       " 't',\n",
       " 'a',\n",
       " 'D']"
      ]
     },
     "execution_count": 12,
     "metadata": {},
     "output_type": "execute_result"
    }
   ],
   "source": [
    "## typecasting\n",
    "list(reversed(name))"
   ]
  },
  {
   "cell_type": "code",
   "execution_count": 13,
   "id": "f5bc5678-74e3-4575-a78b-13a3c90c9948",
   "metadata": {},
   "outputs": [
    {
     "name": "stdout",
     "output_type": "stream",
     "text": [
      "sretsaM ecneicS ataD"
     ]
    }
   ],
   "source": [
    "for i in list(reversed(name)):\n",
    "    print(i,end=\"\")"
   ]
  },
  {
   "cell_type": "code",
   "execution_count": 14,
   "id": "d87d07ee-b9d3-4ad3-98ad-e8d259be0226",
   "metadata": {},
   "outputs": [],
   "source": [
    "## Removing character from the end of the string"
   ]
  },
  {
   "cell_type": "code",
   "execution_count": 18,
   "id": "8a8fc2da-3014-4f2a-9ffc-90ac3ceab096",
   "metadata": {},
   "outputs": [
    {
     "data": {
      "text/plain": [
       "'Hello World'"
      ]
     },
     "execution_count": 18,
     "metadata": {},
     "output_type": "execute_result"
    }
   ],
   "source": [
    "name=\" Hello World\"\n",
    "name.strip(\" \")"
   ]
  },
  {
   "cell_type": "code",
   "execution_count": 24,
   "id": "6f68f74e-60ce-4aa2-a600-30b4ce0a1222",
   "metadata": {},
   "outputs": [
    {
     "data": {
      "text/plain": [
       "'Hello World '"
      ]
     },
     "execution_count": 24,
     "metadata": {},
     "output_type": "execute_result"
    }
   ],
   "source": [
    "## removes left space\n",
    "cs=\" Hello World \"\n",
    "cs.lstrip(\" \")"
   ]
  },
  {
   "cell_type": "code",
   "execution_count": 25,
   "id": "166b8eeb-c766-41dd-a9e1-9b516c912967",
   "metadata": {},
   "outputs": [
    {
     "data": {
      "text/plain": [
       "' Hello World'"
      ]
     },
     "execution_count": 25,
     "metadata": {},
     "output_type": "execute_result"
    }
   ],
   "source": [
    "## removes right space\n",
    "cs=\" Hello World \"\n",
    "cs.rstrip(\" \")"
   ]
  },
  {
   "cell_type": "code",
   "execution_count": 26,
   "id": "95125875-c3a2-4f94-960d-b9de0f43a450",
   "metadata": {},
   "outputs": [
    {
     "data": {
      "text/plain": [
       "' Hello Guys '"
      ]
     },
     "execution_count": 26,
     "metadata": {},
     "output_type": "execute_result"
    }
   ],
   "source": [
    "cs.replace(\"World\",\"Guys\")"
   ]
  },
  {
   "cell_type": "code",
   "execution_count": 27,
   "id": "e8070ab1-1d4e-456a-a3de-5421bceae3e7",
   "metadata": {},
   "outputs": [
    {
     "data": {
      "text/plain": [
       "'hello world'"
      ]
     },
     "execution_count": 27,
     "metadata": {},
     "output_type": "execute_result"
    }
   ],
   "source": [
    "'hello world'"
   ]
  },
  {
   "cell_type": "code",
   "execution_count": 30,
   "id": "c300e42b-1c6b-4523-ba8a-2d917c4121ac",
   "metadata": {},
   "outputs": [
    {
     "data": {
      "text/plain": [
       "'hello   world'"
      ]
     },
     "execution_count": 30,
     "metadata": {},
     "output_type": "execute_result"
    }
   ],
   "source": [
    "'hello\\tworld'.expandtabs()"
   ]
  },
  {
   "cell_type": "code",
   "execution_count": 31,
   "id": "b84b5702-8f7f-4b4a-b996-cc7e7711ea1d",
   "metadata": {},
   "outputs": [],
   "source": [
    "str1=\"Welcome to pwskills. Welcome to Dat cience Masters\""
   ]
  },
  {
   "cell_type": "code",
   "execution_count": 37,
   "id": "f5304bc6-0c6f-4ff7-9995-fe2e2cc501f7",
   "metadata": {},
   "outputs": [
    {
     "data": {
      "text/plain": [
       "'Welcome to pwskills. Welcome to Data Science Masters'"
      ]
     },
     "execution_count": 37,
     "metadata": {},
     "output_type": "execute_result"
    }
   ],
   "source": [
    "str1.replace(\"Dat cience\",\"Data Science\",)"
   ]
  },
  {
   "cell_type": "code",
   "execution_count": 39,
   "id": "6e619b84-cc71-4232-9b18-8eec26ea5d9a",
   "metadata": {},
   "outputs": [
    {
     "data": {
      "text/plain": [
       "'Welcome to pwskills. Welcome to Data Science Masters'"
      ]
     },
     "execution_count": 39,
     "metadata": {},
     "output_type": "execute_result"
    }
   ],
   "source": [
    "str1.replace(\"Dat\",\"Data\").replace(\"cience\",\"Science\")"
   ]
  },
  {
   "cell_type": "code",
   "execution_count": 1,
   "id": "bcd3bfbe-c63b-44c9-97c9-a915703b2730",
   "metadata": {},
   "outputs": [],
   "source": [
    "str1='krish'\n"
   ]
  },
  {
   "cell_type": "code",
   "execution_count": 2,
   "id": "00e329ee-990c-410b-aa9b-631dae802059",
   "metadata": {},
   "outputs": [
    {
     "data": {
      "text/plain": [
       "False"
      ]
     },
     "execution_count": 2,
     "metadata": {},
     "output_type": "execute_result"
    }
   ],
   "source": [
    "str1.isupper()"
   ]
  },
  {
   "cell_type": "code",
   "execution_count": 3,
   "id": "c36e54a9-3662-405e-9e7b-47006036c85b",
   "metadata": {},
   "outputs": [
    {
     "data": {
      "text/plain": [
       "True"
      ]
     },
     "execution_count": 3,
     "metadata": {},
     "output_type": "execute_result"
    }
   ],
   "source": [
    "str1.islower()"
   ]
  },
  {
   "cell_type": "code",
   "execution_count": 4,
   "id": "bf3a61b0-dffd-4394-bf96-2d944b5c789d",
   "metadata": {},
   "outputs": [],
   "source": [
    "str1= \" \""
   ]
  },
  {
   "cell_type": "code",
   "execution_count": 5,
   "id": "16d52134-4dbe-44dd-827b-d9a396306422",
   "metadata": {},
   "outputs": [
    {
     "data": {
      "text/plain": [
       "True"
      ]
     },
     "execution_count": 5,
     "metadata": {},
     "output_type": "execute_result"
    }
   ],
   "source": [
    "str1.isspace()"
   ]
  },
  {
   "cell_type": "code",
   "execution_count": 9,
   "id": "39755048-b808-45e1-bfc8-25aa75abf6f6",
   "metadata": {},
   "outputs": [
    {
     "name": "stdout",
     "output_type": "stream",
     "text": [
      "Not Empty\n"
     ]
    }
   ],
   "source": [
    "str1=\"New\"\n",
    "if str1==\" \":\n",
    "    print('Empty')\n",
    "else:\n",
    "    print(\"Not Empty\")"
   ]
  },
  {
   "cell_type": "code",
   "execution_count": 10,
   "id": "77c63d5c-2d7f-417a-81d6-0983e98dd701",
   "metadata": {},
   "outputs": [
    {
     "data": {
      "text/plain": [
       "True"
      ]
     },
     "execution_count": 10,
     "metadata": {},
     "output_type": "execute_result"
    }
   ],
   "source": [
    "str1.endswith('w')"
   ]
  },
  {
   "cell_type": "code",
   "execution_count": 11,
   "id": "0bbff0b2-5e0b-4e7e-ab34-3837e50286f0",
   "metadata": {},
   "outputs": [
    {
     "data": {
      "text/plain": [
       "True"
      ]
     },
     "execution_count": 11,
     "metadata": {},
     "output_type": "execute_result"
    }
   ],
   "source": [
    "str1.startswith('N')"
   ]
  },
  {
   "cell_type": "code",
   "execution_count": 12,
   "id": "ecb89791-e96e-4c93-991a-3ea2c8aae5f2",
   "metadata": {},
   "outputs": [],
   "source": [
    "## Check if all the char in string are alphanumeric"
   ]
  },
  {
   "cell_type": "code",
   "execution_count": 14,
   "id": "b5ba828d-207f-40f5-aac6-4cffb97bbc81",
   "metadata": {},
   "outputs": [
    {
     "data": {
      "text/plain": [
       "True"
      ]
     },
     "execution_count": 14,
     "metadata": {},
     "output_type": "execute_result"
    }
   ],
   "source": [
    "a='abcd2'\n",
    "a.isalnum()"
   ]
  },
  {
   "cell_type": "code",
   "execution_count": 19,
   "id": "481fc2da-cf8d-4b05-ad09-addf87c77fd5",
   "metadata": {},
   "outputs": [
    {
     "name": "stdout",
     "output_type": "stream",
     "text": [
      "7\n"
     ]
    }
   ],
   "source": [
    "a=\"ancient\"\n",
    "count=0\n",
    "for i in a:\n",
    "    count=count+1\n",
    "print(count)"
   ]
  },
  {
   "cell_type": "code",
   "execution_count": 20,
   "id": "c6996b64-1a5b-4b62-a641-66988010cbc6",
   "metadata": {},
   "outputs": [
    {
     "data": {
      "text/plain": [
       "7"
      ]
     },
     "execution_count": 20,
     "metadata": {},
     "output_type": "execute_result"
    }
   ],
   "source": [
    "len(a)"
   ]
  },
  {
   "cell_type": "code",
   "execution_count": 23,
   "id": "daeb479e-b21d-417e-8723-25a9a6524715",
   "metadata": {},
   "outputs": [
    {
     "name": "stdout",
     "output_type": "stream",
     "text": [
      "a\n",
      "n\n",
      "c\n",
      "i\n",
      "e\n",
      "n\n",
      "t\n"
     ]
    }
   ],
   "source": [
    "for i in a:\n",
    "    print(i)"
   ]
  },
  {
   "cell_type": "code",
   "execution_count": 27,
   "id": "1ac822b3-b8be-4888-bff4-5f22307e2fd8",
   "metadata": {},
   "outputs": [
    {
     "name": "stdout",
     "output_type": "stream",
     "text": [
      "0 => a\n",
      "1 => n\n",
      "2 => c\n",
      "3 => i\n",
      "4 => e\n",
      "5 => n\n",
      "6 => t\n"
     ]
    }
   ],
   "source": [
    "a=\"ancient\"\n",
    "c=0\n",
    "for i in a:\n",
    "    print(\"{index} => {word}\".format(index=c,word=i))\n",
    "    c=c+1"
   ]
  },
  {
   "cell_type": "code",
   "execution_count": 33,
   "id": "c26f0033-7ff5-4909-8b3e-5dc1b887222b",
   "metadata": {},
   "outputs": [
    {
     "name": "stdout",
     "output_type": "stream",
     "text": [
      "0 => a\n",
      "1 => n\n",
      "2 => c\n",
      "3 => i\n",
      "4 => e\n",
      "5 => n\n",
      "6 => t\n"
     ]
    }
   ],
   "source": [
    "a=\"ancient\"\n",
    "for i in range(len(a)):\n",
    "    print(i,\"=>\",a[i])"
   ]
  },
  {
   "cell_type": "code",
   "execution_count": 60,
   "id": "8bb6226d-f08e-466a-bbc4-96cf9ded6070",
   "metadata": {},
   "outputs": [
    {
     "name": "stdout",
     "output_type": "stream",
     "text": [
      "tneicna"
     ]
    }
   ],
   "source": [
    "a=\"ancient\"\n",
    "l=len(a)-1\n",
    "while l>=0:\n",
    "    print(a[l],end='')\n",
    "    l=l-1"
   ]
  },
  {
   "cell_type": "code",
   "execution_count": 53,
   "id": "2bf554d2-962d-415e-bbbf-c95173e08c29",
   "metadata": {},
   "outputs": [
    {
     "name": "stdout",
     "output_type": "stream",
     "text": [
      "4\n"
     ]
    }
   ],
   "source": [
    "b=4\n",
    "print(b)"
   ]
  },
  {
   "cell_type": "code",
   "execution_count": 61,
   "id": "6226fea6-278e-4317-83eb-7703e06330af",
   "metadata": {},
   "outputs": [],
   "source": [
    "a='ancient'"
   ]
  },
  {
   "cell_type": "code",
   "execution_count": 65,
   "id": "3ee2f626-3553-4aee-a398-36b152542a98",
   "metadata": {},
   "outputs": [
    {
     "name": "stdout",
     "output_type": "stream",
     "text": [
      "t\n",
      "n\n",
      "e\n",
      "i\n",
      "c\n",
      "n\n",
      "a\n"
     ]
    }
   ],
   "source": [
    "## optimal solution\n",
    "\n",
    "for i in range(len(a)-1,-1,-1):\n",
    "    print(a[i])"
   ]
  },
  {
   "cell_type": "code",
   "execution_count": 68,
   "id": "b092b7b4-68ed-46d1-92ba-d11f7fefbda6",
   "metadata": {},
   "outputs": [
    {
     "name": "stdout",
     "output_type": "stream",
     "text": [
      "2\n"
     ]
    }
   ],
   "source": [
    "n='Apple'\n",
    "vow='AaEeIiOoUu'\n",
    "count=0\n",
    "for i in range(len(n)):\n",
    "    for j in range(len(n)):\n",
    "        if n[i]==vow[j]:\n",
    "            count=count+1\n",
    "print(count)"
   ]
  },
  {
   "cell_type": "code",
   "execution_count": 70,
   "id": "1350bc86-50cc-405f-ac77-6a958dfe5e16",
   "metadata": {},
   "outputs": [
    {
     "name": "stdout",
     "output_type": "stream",
     "text": [
      "A is a vowel\n",
      "p is not a vowel\n",
      "p is not a vowel\n",
      "l is not a vowel\n",
      "e is a vowel\n"
     ]
    }
   ],
   "source": [
    "c=0\n",
    "for ch in n:\n",
    "        if  ch in vow:\n",
    "            print(\"{} is a vowel\".format(ch))\n",
    "        else:\n",
    "            print(\"{} is not a vowel\".format(ch))\n",
    "    "
   ]
  },
  {
   "cell_type": "markdown",
   "id": "9358044f-0bb0-4258-b30d-c8570c2d682d",
   "metadata": {},
   "source": [
    "## List"
   ]
  },
  {
   "cell_type": "code",
   "execution_count": 71,
   "id": "3e1ebf2c-3d3a-4854-b251-f94a88bf1928",
   "metadata": {},
   "outputs": [
    {
     "data": {
      "text/plain": [
       "[]"
      ]
     },
     "execution_count": 71,
     "metadata": {},
     "output_type": "execute_result"
    }
   ],
   "source": [
    "[]"
   ]
  },
  {
   "cell_type": "code",
   "execution_count": 73,
   "id": "43a404a8-0aed-46b9-ace7-a74806bf10b9",
   "metadata": {},
   "outputs": [
    {
     "data": {
      "text/plain": [
       "list"
      ]
     },
     "execution_count": 73,
     "metadata": {},
     "output_type": "execute_result"
    }
   ],
   "source": [
    "type([])"
   ]
  },
  {
   "cell_type": "code",
   "execution_count": 75,
   "id": "2f8cd397-4589-45a6-a43e-4b60b4acae65",
   "metadata": {},
   "outputs": [
    {
     "data": {
      "text/plain": [
       "list[12, 2, 3, 4, 5, 5]"
      ]
     },
     "execution_count": 75,
     "metadata": {},
     "output_type": "execute_result"
    }
   ],
   "source": [
    "list[12,2,3,4,5,5]"
   ]
  },
  {
   "cell_type": "code",
   "execution_count": 77,
   "id": "114b33b5-562b-445f-85dc-7f8d0fd37d93",
   "metadata": {},
   "outputs": [
    {
     "data": {
      "text/plain": [
       "['J', 'u', 'p', 'i', 't', 'e', 'r']"
      ]
     },
     "execution_count": 77,
     "metadata": {},
     "output_type": "execute_result"
    }
   ],
   "source": [
    "a='Jupiter'\n",
    "list(a)"
   ]
  },
  {
   "cell_type": "code",
   "execution_count": 78,
   "id": "91f9d92a-fd26-4151-8571-90f464b9735e",
   "metadata": {},
   "outputs": [
    {
     "name": "stdout",
     "output_type": "stream",
     "text": [
      "1\n",
      "2\n",
      "3\n",
      "4\n",
      "5\n",
      "6\n",
      "7\n",
      "8\n"
     ]
    }
   ],
   "source": [
    "for i in range(1,9):\n",
    "    print(i)"
   ]
  },
  {
   "cell_type": "code",
   "execution_count": 81,
   "id": "b73f1513-5631-4f62-ac2e-c9712c9e43b5",
   "metadata": {},
   "outputs": [
    {
     "data": {
      "text/plain": [
       "['Pw', 'skills', 'masters', 'in', 'DS']"
      ]
     },
     "execution_count": 81,
     "metadata": {},
     "output_type": "execute_result"
    }
   ],
   "source": [
    "i='Pw skills masters in DS'\n",
    "list(i.split(\" \"))"
   ]
  },
  {
   "cell_type": "code",
   "execution_count": 83,
   "id": "7601512d-d334-4ee2-bc57-f6f92b110b74",
   "metadata": {},
   "outputs": [],
   "source": [
    "lst=list(i.split(\" \"))"
   ]
  },
  {
   "cell_type": "code",
   "execution_count": 84,
   "id": "b421db05-cebd-47ba-8038-70695d2a8e74",
   "metadata": {},
   "outputs": [
    {
     "name": "stdout",
     "output_type": "stream",
     "text": [
      "['Pw', 'skills', 'masters', 'in', 'DS']\n"
     ]
    }
   ],
   "source": [
    "print(lst)"
   ]
  },
  {
   "cell_type": "code",
   "execution_count": 85,
   "id": "2aa36438-db51-4892-a258-05871f2ea7bc",
   "metadata": {},
   "outputs": [],
   "source": [
    "lst[2]='new'"
   ]
  },
  {
   "cell_type": "code",
   "execution_count": 86,
   "id": "a5b5c0ab-1d4d-4d48-b552-8e23ead20fc4",
   "metadata": {},
   "outputs": [
    {
     "name": "stdout",
     "output_type": "stream",
     "text": [
      "['Pw', 'skills', 'new', 'in', 'DS']\n"
     ]
    }
   ],
   "source": [
    "print(lst)"
   ]
  },
  {
   "cell_type": "code",
   "execution_count": 88,
   "id": "f0f58d6e-633b-4ae2-9f2e-eded8758a43c",
   "metadata": {},
   "outputs": [
    {
     "data": {
      "text/plain": [
       "['skills', 'new', 'in', 'DS']"
      ]
     },
     "execution_count": 88,
     "metadata": {},
     "output_type": "execute_result"
    }
   ],
   "source": [
    "lst[1:]"
   ]
  },
  {
   "cell_type": "code",
   "execution_count": 90,
   "id": "2cab4423-9b9f-4a91-b0fb-6d1503d0a895",
   "metadata": {},
   "outputs": [
    {
     "data": {
      "text/plain": [
       "['new', 'Pw']"
      ]
     },
     "execution_count": 90,
     "metadata": {},
     "output_type": "execute_result"
    }
   ],
   "source": [
    "lst[2::-2]"
   ]
  },
  {
   "cell_type": "code",
   "execution_count": 98,
   "id": "1900f4f9-c959-4c21-86c8-a38e61cfc4d7",
   "metadata": {},
   "outputs": [
    {
     "data": {
      "text/plain": [
       "[]"
      ]
     },
     "execution_count": 98,
     "metadata": {},
     "output_type": "execute_result"
    }
   ],
   "source": [
    "lst[-5:-4:-1]"
   ]
  },
  {
   "cell_type": "code",
   "execution_count": 99,
   "id": "8fbb1555-c5fb-45af-a0be-0a6e46537e3e",
   "metadata": {},
   "outputs": [
    {
     "data": {
      "text/plain": [
       "['Pw', 'skills', 'new', 'in', 'DS', 'this one is new']"
      ]
     },
     "execution_count": 99,
     "metadata": {},
     "output_type": "execute_result"
    }
   ],
   "source": [
    "lst + ['this one is new']"
   ]
  },
  {
   "cell_type": "code",
   "execution_count": 101,
   "id": "ff87eae9-933b-4236-be46-b7409644826d",
   "metadata": {},
   "outputs": [],
   "source": [
    "nn = lst + [['new']]"
   ]
  },
  {
   "cell_type": "code",
   "execution_count": 102,
   "id": "9957601f-1de5-49f2-abb1-5455baad0c3c",
   "metadata": {},
   "outputs": [
    {
     "data": {
      "text/plain": [
       "['Pw', 'skills', 'new', 'in', 'DS', ['new']]"
      ]
     },
     "execution_count": 102,
     "metadata": {},
     "output_type": "execute_result"
    }
   ],
   "source": [
    "nn"
   ]
  },
  {
   "cell_type": "code",
   "execution_count": 104,
   "id": "9d2c9808-e72d-43b9-8b17-d68d70605e7c",
   "metadata": {},
   "outputs": [
    {
     "data": {
      "text/plain": [
       "'new'"
      ]
     },
     "execution_count": 104,
     "metadata": {},
     "output_type": "execute_result"
    }
   ],
   "source": [
    "nn[-1][0]"
   ]
  },
  {
   "cell_type": "code",
   "execution_count": 105,
   "id": "626d5cd1-8e6e-460c-b9b3-ed80d37800f7",
   "metadata": {},
   "outputs": [
    {
     "data": {
      "text/plain": [
       "str"
      ]
     },
     "execution_count": 105,
     "metadata": {},
     "output_type": "execute_result"
    }
   ],
   "source": [
    "type(nn[-1][0])"
   ]
  },
  {
   "cell_type": "code",
   "execution_count": 106,
   "id": "3d3400db-dbdf-4afa-bf25-08f932332530",
   "metadata": {},
   "outputs": [
    {
     "data": {
      "text/plain": [
       "['Pw',\n",
       " 'skills',\n",
       " 'new',\n",
       " 'in',\n",
       " 'DS',\n",
       " ['new'],\n",
       " 'Pw',\n",
       " 'skills',\n",
       " 'new',\n",
       " 'in',\n",
       " 'DS',\n",
       " ['new']]"
      ]
     },
     "execution_count": 106,
     "metadata": {},
     "output_type": "execute_result"
    }
   ],
   "source": [
    "nn * 2"
   ]
  },
  {
   "cell_type": "code",
   "execution_count": 107,
   "id": "2707f853-b1d0-45d3-9dfe-38de18b6723a",
   "metadata": {},
   "outputs": [],
   "source": [
    "nn = nn * 2"
   ]
  },
  {
   "cell_type": "code",
   "execution_count": 108,
   "id": "ced97f68-f8b3-41e3-a2a2-2d523486d651",
   "metadata": {},
   "outputs": [
    {
     "data": {
      "text/plain": [
       "['Pw',\n",
       " 'skills',\n",
       " 'new',\n",
       " 'in',\n",
       " 'DS',\n",
       " ['new'],\n",
       " 'Pw',\n",
       " 'skills',\n",
       " 'new',\n",
       " 'in',\n",
       " 'DS',\n",
       " ['new']]"
      ]
     },
     "execution_count": 108,
     "metadata": {},
     "output_type": "execute_result"
    }
   ],
   "source": [
    "nn"
   ]
  },
  {
   "cell_type": "code",
   "execution_count": 111,
   "id": "07da2489-c804-435a-993c-44eb88bed916",
   "metadata": {},
   "outputs": [
    {
     "data": {
      "text/plain": [
       "['Pw',\n",
       " 'skills',\n",
       " 'new',\n",
       " 'in',\n",
       " 'DS',\n",
       " ['new'],\n",
       " 'Pw',\n",
       " 'skills',\n",
       " 'new',\n",
       " 'in',\n",
       " 'DS',\n",
       " ['new']]"
      ]
     },
     "execution_count": 111,
     "metadata": {},
     "output_type": "execute_result"
    }
   ],
   "source": [
    "nn "
   ]
  },
  {
   "cell_type": "code",
   "execution_count": 124,
   "id": "b0547528-e56f-4330-a510-5246dd945b70",
   "metadata": {},
   "outputs": [
    {
     "name": "stdout",
     "output_type": "stream",
     "text": [
      "Pw\n",
      "skills\n",
      "new\n"
     ]
    }
   ],
   "source": [
    "count=1\n",
    "\n",
    "for i in range(len(nn)):\n",
    "    if(nn[i]=='in'):\n",
    "        break\n",
    "    print(nn[i])  "
   ]
  },
  {
   "cell_type": "code",
   "execution_count": 127,
   "id": "e63cf3d2-f17f-45bc-8c5c-025cec51aa65",
   "metadata": {},
   "outputs": [
    {
     "name": "stdout",
     "output_type": "stream",
     "text": [
      "Present\n",
      "Absent\n"
     ]
    }
   ],
   "source": [
    "if \"in\" in nn:\n",
    "    print(\"Present\")\n",
    "if \"Hello\" in nn:\n",
    "    print(\"Present\")\n",
    "else:\n",
    "    print(\"Absent\")"
   ]
  },
  {
   "cell_type": "code",
   "execution_count": 128,
   "id": "1ca01278-b728-4e8b-a2cd-deea39e645c5",
   "metadata": {},
   "outputs": [
    {
     "name": "stdout",
     "output_type": "stream",
     "text": [
      "in\n"
     ]
    }
   ],
   "source": [
    "for k in nn:\n",
    "    if k==\"in\":\n",
    "        print(k)\n",
    "        break"
   ]
  },
  {
   "cell_type": "code",
   "execution_count": 129,
   "id": "8b9ddc08-a528-42b9-86ad-f90639bd1eb4",
   "metadata": {},
   "outputs": [],
   "source": [
    "## check inside a list\n",
    "l=[1,2,3,4,5,6]"
   ]
  },
  {
   "cell_type": "code",
   "execution_count": 130,
   "id": "70f475fd-3f41-4dd5-9b30-dab0dced92fc",
   "metadata": {},
   "outputs": [
    {
     "data": {
      "text/plain": [
       "True"
      ]
     },
     "execution_count": 130,
     "metadata": {},
     "output_type": "execute_result"
    }
   ],
   "source": [
    "6 in l"
   ]
  },
  {
   "cell_type": "code",
   "execution_count": 135,
   "id": "7fc9381f-d4f6-4a2f-9462-da85be8c6ee9",
   "metadata": {},
   "outputs": [],
   "source": [
    "lst1=[\"Zebra\", \"Monkey\",\"Donkey\",\"Lion\"]\n",
    "## for alphabets it looks for ASCII value\n",
    "lst2=[1,2,3,4,5,6]"
   ]
  },
  {
   "cell_type": "code",
   "execution_count": 136,
   "id": "9af3e1ac-54bd-4879-afb8-5b137f5d2f92",
   "metadata": {},
   "outputs": [
    {
     "name": "stdout",
     "output_type": "stream",
     "text": [
      "Zebra\n"
     ]
    }
   ],
   "source": [
    "print(max(lst1))"
   ]
  },
  {
   "cell_type": "code",
   "execution_count": 137,
   "id": "08c9609a-759c-4cf4-862a-5675cab7c2fc",
   "metadata": {},
   "outputs": [
    {
     "name": "stdout",
     "output_type": "stream",
     "text": [
      "6\n"
     ]
    }
   ],
   "source": [
    "print(max(lst2))"
   ]
  },
  {
   "cell_type": "code",
   "execution_count": 139,
   "id": "222a4a2e-3691-4ac8-9ddd-e585b5018911",
   "metadata": {},
   "outputs": [
    {
     "data": {
      "text/plain": [
       "'D'"
      ]
     },
     "execution_count": 139,
     "metadata": {},
     "output_type": "execute_result"
    }
   ],
   "source": [
    "min(lst1[2])"
   ]
  },
  {
   "cell_type": "code",
   "execution_count": 141,
   "id": "3f1e87ac-fbe5-4dfb-a0ad-7633241134bb",
   "metadata": {},
   "outputs": [
    {
     "data": {
      "text/plain": [
       "1"
      ]
     },
     "execution_count": 141,
     "metadata": {},
     "output_type": "execute_result"
    }
   ],
   "source": [
    "lst2=[1,2,3,4,5,6]\n",
    "min(lst2)"
   ]
  },
  {
   "cell_type": "code",
   "execution_count": 142,
   "id": "04ce3cbd-cda8-41f4-bb6a-b1a85dbe6b13",
   "metadata": {},
   "outputs": [
    {
     "data": {
      "text/plain": [
       "True"
      ]
     },
     "execution_count": 142,
     "metadata": {},
     "output_type": "execute_result"
    }
   ],
   "source": [
    "1.99999999999999999999 in [2,3,4]"
   ]
  },
  {
   "cell_type": "code",
   "execution_count": 143,
   "id": "76981243-6580-4e85-a1c1-b67aa23ce8b8",
   "metadata": {},
   "outputs": [
    {
     "data": {
      "text/plain": [
       "False"
      ]
     },
     "execution_count": 143,
     "metadata": {},
     "output_type": "execute_result"
    }
   ],
   "source": [
    "1.99 in [2,3,4]"
   ]
  },
  {
   "cell_type": "code",
   "execution_count": 144,
   "id": "246436aa-5a9a-499e-9d60-c552ae940c1e",
   "metadata": {},
   "outputs": [
    {
     "data": {
      "text/plain": [
       "False"
      ]
     },
     "execution_count": 144,
     "metadata": {},
     "output_type": "execute_result"
    }
   ],
   "source": [
    "1.99999999 in [2,3,4]"
   ]
  },
  {
   "cell_type": "code",
   "execution_count": 145,
   "id": "6e373009-d2ad-475c-9d15-02ccab3e7a1f",
   "metadata": {},
   "outputs": [
    {
     "data": {
      "text/plain": [
       "True"
      ]
     },
     "execution_count": 145,
     "metadata": {},
     "output_type": "execute_result"
    }
   ],
   "source": [
    "1.9999999999999999 in [2,3,4]"
   ]
  },
  {
   "cell_type": "code",
   "execution_count": 146,
   "id": "0764feef-ae1a-48ae-aab1-5c7b1176c866",
   "metadata": {},
   "outputs": [
    {
     "data": {
      "text/plain": [
       "True"
      ]
     },
     "execution_count": 146,
     "metadata": {},
     "output_type": "execute_result"
    }
   ],
   "source": [
    "1.99999999999999999 in [2,3,4]"
   ]
  },
  {
   "cell_type": "code",
   "execution_count": 147,
   "id": "36ac7e68-e829-470e-8d27-1ab6b30a6f03",
   "metadata": {},
   "outputs": [],
   "source": [
    "l=[1,2,3,4,5]"
   ]
  },
  {
   "cell_type": "code",
   "execution_count": 149,
   "id": "352fb88c-6c21-465a-a411-375e7102437a",
   "metadata": {},
   "outputs": [],
   "source": [
    "l.append(8)"
   ]
  },
  {
   "cell_type": "code",
   "execution_count": 150,
   "id": "8a86c523-b6ab-4999-95f8-95cacc18fac3",
   "metadata": {},
   "outputs": [
    {
     "data": {
      "text/plain": [
       "[1, 2, 3, 4, 5, 8]"
      ]
     },
     "execution_count": 150,
     "metadata": {},
     "output_type": "execute_result"
    }
   ],
   "source": [
    "l"
   ]
  },
  {
   "cell_type": "code",
   "execution_count": 155,
   "id": "62ffb1c0-d9db-451e-83fe-d449d93dd4f0",
   "metadata": {},
   "outputs": [],
   "source": [
    "l=[1,2,3,4,5]\n",
    "l.append([6,7,8])"
   ]
  },
  {
   "cell_type": "code",
   "execution_count": 156,
   "id": "32ac0224-bf78-4890-8ca2-b947fef28a1a",
   "metadata": {},
   "outputs": [
    {
     "data": {
      "text/plain": [
       "[1, 2, 3, 4, 5, [6, 7, 8]]"
      ]
     },
     "execution_count": 156,
     "metadata": {},
     "output_type": "execute_result"
    }
   ],
   "source": [
    "l"
   ]
  },
  {
   "cell_type": "code",
   "execution_count": 157,
   "id": "868fd4fb-0dea-48f5-ab27-c941bbcf3f11",
   "metadata": {},
   "outputs": [
    {
     "data": {
      "text/plain": [
       "2"
      ]
     },
     "execution_count": 157,
     "metadata": {},
     "output_type": "execute_result"
    }
   ],
   "source": [
    "l.pop(1)"
   ]
  },
  {
   "cell_type": "code",
   "execution_count": 158,
   "id": "e6c2de39-e609-462e-b9ee-6ef0c91c4370",
   "metadata": {},
   "outputs": [
    {
     "data": {
      "text/plain": [
       "[1, 3, 4, 5, [6, 7, 8]]"
      ]
     },
     "execution_count": 158,
     "metadata": {},
     "output_type": "execute_result"
    }
   ],
   "source": [
    "l"
   ]
  },
  {
   "cell_type": "code",
   "execution_count": 159,
   "id": "fee874f1-c3e8-41e8-8206-511fc1ebc57e",
   "metadata": {},
   "outputs": [
    {
     "data": {
      "text/plain": [
       "[6, 7, 8]"
      ]
     },
     "execution_count": 159,
     "metadata": {},
     "output_type": "execute_result"
    }
   ],
   "source": [
    "l.pop()"
   ]
  },
  {
   "cell_type": "code",
   "execution_count": 162,
   "id": "6cbc65c8-0e18-412a-b7fe-abae3d32aaf0",
   "metadata": {},
   "outputs": [
    {
     "data": {
      "text/plain": [
       "5"
      ]
     },
     "execution_count": 162,
     "metadata": {},
     "output_type": "execute_result"
    }
   ],
   "source": [
    "l.pop(3)"
   ]
  },
  {
   "cell_type": "code",
   "execution_count": 163,
   "id": "854cdf02-cf52-4761-a3ca-511a388014c0",
   "metadata": {},
   "outputs": [
    {
     "data": {
      "text/plain": [
       "[1, 3, 4]"
      ]
     },
     "execution_count": 163,
     "metadata": {},
     "output_type": "execute_result"
    }
   ],
   "source": [
    "l"
   ]
  },
  {
   "cell_type": "code",
   "execution_count": 164,
   "id": "0bb013dd-f636-44a2-ac2c-299fe126ba8f",
   "metadata": {},
   "outputs": [],
   "source": [
    "## removes from last one if no index is given"
   ]
  },
  {
   "cell_type": "code",
   "execution_count": 165,
   "id": "b9b6696f-0dba-4dcb-b6c8-07a81085f240",
   "metadata": {},
   "outputs": [],
   "source": [
    "l=[1,2,3,4,5,6]\n",
    "c=l.pop(3)"
   ]
  },
  {
   "cell_type": "code",
   "execution_count": 166,
   "id": "c7d48317-31af-41c5-bf27-3aabe4579640",
   "metadata": {},
   "outputs": [
    {
     "data": {
      "text/plain": [
       "4"
      ]
     },
     "execution_count": 166,
     "metadata": {},
     "output_type": "execute_result"
    }
   ],
   "source": [
    "c"
   ]
  },
  {
   "cell_type": "markdown",
   "id": "01a022ed-d1ee-4a97-a0eb-2e19876aab1f",
   "metadata": {},
   "source": [
    "## Soorting and Reverse Methods in List"
   ]
  },
  {
   "cell_type": "code",
   "execution_count": 177,
   "id": "a60188cc-0c7e-4e26-bcd5-1b9f57315f69",
   "metadata": {},
   "outputs": [
    {
     "data": {
      "text/plain": [
       "['z', 'w', 'y', 'e', 's', 'a']"
      ]
     },
     "execution_count": 177,
     "metadata": {},
     "output_type": "execute_result"
    }
   ],
   "source": [
    "n=['a','s','e','y','w','z']\n",
    "n.reverse()\n",
    "n"
   ]
  },
  {
   "cell_type": "code",
   "execution_count": 168,
   "id": "d549b94b-1a81-495c-8505-a557acaa9de4",
   "metadata": {},
   "outputs": [
    {
     "data": {
      "text/plain": [
       "['a', 's', 'e', 'y', 'w', 'z']"
      ]
     },
     "execution_count": 168,
     "metadata": {},
     "output_type": "execute_result"
    }
   ],
   "source": [
    "n"
   ]
  },
  {
   "cell_type": "code",
   "execution_count": 178,
   "id": "c17a585b-d949-4778-a601-5c60ec5eaa86",
   "metadata": {},
   "outputs": [
    {
     "data": {
      "text/plain": [
       "['a', 'e', 's', 'w', 'y', 'z']"
      ]
     },
     "execution_count": 178,
     "metadata": {},
     "output_type": "execute_result"
    }
   ],
   "source": [
    "n.sort()\n",
    "n"
   ]
  },
  {
   "cell_type": "code",
   "execution_count": 179,
   "id": "abfded46-8899-4bf8-89cf-9f3964a12300",
   "metadata": {},
   "outputs": [],
   "source": [
    "n.extend(['j','k'])"
   ]
  },
  {
   "cell_type": "code",
   "execution_count": 184,
   "id": "f6657f5b-b447-408e-80f5-66bf02694e24",
   "metadata": {},
   "outputs": [
    {
     "data": {
      "text/plain": [
       "['z', 'y', 'w', 's', 'k', 'j', 'e', 'a']"
      ]
     },
     "execution_count": 184,
     "metadata": {},
     "output_type": "execute_result"
    }
   ],
   "source": [
    "n.sort(reverse=True)\n",
    "n"
   ]
  },
  {
   "cell_type": "markdown",
   "id": "82d10b2e-e903-4662-b621-8913868951e3",
   "metadata": {},
   "source": [
    "## Nested List"
   ]
  },
  {
   "cell_type": "code",
   "execution_count": 185,
   "id": "3a71c1f3-92df-4de6-850d-1c9a6e832330",
   "metadata": {},
   "outputs": [],
   "source": [
    "l=[1,2,3,4]\n",
    "m=[5,6,7,8]\n",
    "n=[9,10,11,12]\n",
    "\n",
    "matrix=[l,m,n]"
   ]
  },
  {
   "cell_type": "code",
   "execution_count": 186,
   "id": "cc2b030a-c22a-41e5-a017-ecd6fc783e50",
   "metadata": {},
   "outputs": [
    {
     "data": {
      "text/plain": [
       "[[1, 2, 3, 4], [5, 6, 7, 8], [9, 10, 11, 12]]"
      ]
     },
     "execution_count": 186,
     "metadata": {},
     "output_type": "execute_result"
    }
   ],
   "source": [
    "matrix"
   ]
  },
  {
   "cell_type": "code",
   "execution_count": 187,
   "id": "6cc069d8-8a12-4ea6-a776-216e3ec64c46",
   "metadata": {},
   "outputs": [
    {
     "data": {
      "text/plain": [
       "10"
      ]
     },
     "execution_count": 187,
     "metadata": {},
     "output_type": "execute_result"
    }
   ],
   "source": [
    "matrix[2][1]"
   ]
  },
  {
   "cell_type": "code",
   "execution_count": 190,
   "id": "ff69bbc4-4bbc-47fd-957b-f30eef2ac506",
   "metadata": {},
   "outputs": [
    {
     "data": {
      "text/plain": [
       "[10, 11]"
      ]
     },
     "execution_count": 190,
     "metadata": {},
     "output_type": "execute_result"
    }
   ],
   "source": [
    "matrix[2][1:3]"
   ]
  },
  {
   "cell_type": "code",
   "execution_count": 195,
   "id": "3447339c-2a6b-4469-8d2c-914d88177033",
   "metadata": {},
   "outputs": [
    {
     "data": {
      "text/plain": [
       "[5, 6, 7, 8]"
      ]
     },
     "execution_count": 195,
     "metadata": {},
     "output_type": "execute_result"
    }
   ],
   "source": [
    "matrix[0:4][1]"
   ]
  },
  {
   "cell_type": "code",
   "execution_count": 197,
   "id": "c57f5f3f-1e3a-498c-b263-af58a2975ab5",
   "metadata": {},
   "outputs": [
    {
     "data": {
      "text/plain": [
       "11"
      ]
     },
     "execution_count": 197,
     "metadata": {},
     "output_type": "execute_result"
    }
   ],
   "source": [
    "matrix[2][2]"
   ]
  },
  {
   "cell_type": "code",
   "execution_count": 208,
   "id": "e87e977d-228e-4b9d-bbe0-67668c490ea9",
   "metadata": {},
   "outputs": [],
   "source": [
    "## List Comprhension"
   ]
  },
  {
   "cell_type": "code",
   "execution_count": 209,
   "id": "457f7e2a-7f0f-4358-9312-8e854cfa690c",
   "metadata": {},
   "outputs": [
    {
     "data": {
      "text/plain": [
       "[0, 1, 2, 3, 4, 5, 6, 7, 8, 9, 10, 11, 12, 13, 14, 15, 16, 17, 18, 19]"
      ]
     },
     "execution_count": 209,
     "metadata": {},
     "output_type": "execute_result"
    }
   ],
   "source": [
    "[a for a in range(20)]"
   ]
  },
  {
   "cell_type": "code",
   "execution_count": 211,
   "id": "63bb5e5e-8f7f-47f9-af01-0abcf5e38b46",
   "metadata": {},
   "outputs": [
    {
     "data": {
      "text/plain": [
       "[0, 1, 2]"
      ]
     },
     "execution_count": 211,
     "metadata": {},
     "output_type": "execute_result"
    }
   ],
   "source": [
    "[a for a in range(3)]"
   ]
  },
  {
   "cell_type": "code",
   "execution_count": 229,
   "id": "9cbcc95c-3e4c-4c44-afc0-c98e9aa25649",
   "metadata": {},
   "outputs": [
    {
     "data": {
      "text/plain": [
       "[0, '', 2, '', 4, '', 6, '', 8, '', 10, '', 12, '', 14, '', 16, '', 18, '']"
      ]
     },
     "execution_count": 229,
     "metadata": {},
     "output_type": "execute_result"
    }
   ],
   "source": [
    "[a if a%2==0 else\"\" for a in range(20)]"
   ]
  },
  {
   "cell_type": "code",
   "execution_count": 225,
   "id": "02e1e401-a643-440e-a05b-90c50e3aead3",
   "metadata": {},
   "outputs": [
    {
     "data": {
      "text/plain": [
       "[0,\n",
       " 'Odd',\n",
       " 2,\n",
       " 'Odd',\n",
       " 4,\n",
       " 'Odd',\n",
       " 6,\n",
       " 'Odd',\n",
       " 8,\n",
       " 'Odd',\n",
       " 10,\n",
       " 'Odd',\n",
       " 12,\n",
       " 'Odd',\n",
       " 14,\n",
       " 'Odd',\n",
       " 16,\n",
       " 'Odd',\n",
       " 18,\n",
       " 'Odd']"
      ]
     },
     "execution_count": 225,
     "metadata": {},
     "output_type": "execute_result"
    }
   ],
   "source": [
    "[a if a%2==0 else \"Odd\" for a in range(20)]"
   ]
  },
  {
   "cell_type": "code",
   "execution_count": 225,
   "id": "ae055e70-0fcc-4f60-a1bd-5fea8e648791",
   "metadata": {},
   "outputs": [
    {
     "data": {
      "text/plain": [
       "[0,\n",
       " 'Odd',\n",
       " 2,\n",
       " 'Odd',\n",
       " 4,\n",
       " 'Odd',\n",
       " 6,\n",
       " 'Odd',\n",
       " 8,\n",
       " 'Odd',\n",
       " 10,\n",
       " 'Odd',\n",
       " 12,\n",
       " 'Odd',\n",
       " 14,\n",
       " 'Odd',\n",
       " 16,\n",
       " 'Odd',\n",
       " 18,\n",
       " 'Odd']"
      ]
     },
     "execution_count": 225,
     "metadata": {},
     "output_type": "execute_result"
    }
   ],
   "source": [
    "[a if a%2==0 else \"Odd\" for a in range(20)]"
   ]
  },
  {
   "cell_type": "code",
   "execution_count": 231,
   "id": "e13c9ed3-7c6a-4b79-b559-f0feb5b5dcb3",
   "metadata": {},
   "outputs": [
    {
     "data": {
      "text/plain": [
       "[0, '', '', 3, '', '', 6, '', '', 9, '', '', 12, '', '', 15, '', '', 18, '']"
      ]
     },
     "execution_count": 231,
     "metadata": {},
     "output_type": "execute_result"
    }
   ],
   "source": [
    "## if else is compulsory \n",
    "[i if i%3==0 else \"\" for i in range(0,20)]"
   ]
  },
  {
   "cell_type": "markdown",
   "id": "e53f130d-f5b0-4dec-b4b3-ba53de10d2bf",
   "metadata": {},
   "source": [
    "## Task"
   ]
  },
  {
   "cell_type": "code",
   "execution_count": 235,
   "id": "a1ce354b-e179-40b2-8503-0baab86df1ca",
   "metadata": {},
   "outputs": [
    {
     "name": "stdout",
     "output_type": "stream",
     "text": [
      "16 and 20\n"
     ]
    }
   ],
   "source": [
    "a=[1,2,3,4,5,6,7,8]\n",
    "even =0\n",
    "odd=0\n",
    "for a in range(1,9):\n",
    "    if a%2==0:\n",
    "        even=even+a\n",
    "    else:\n",
    "        odd=odd+a\n",
    "print(f\"{odd} and {even}\")"
   ]
  },
  {
   "cell_type": "code",
   "execution_count": 237,
   "id": "704122ad-439b-41d2-8203-5c5669da55f0",
   "metadata": {},
   "outputs": [
    {
     "name": "stdout",
     "output_type": "stream",
     "text": [
      "9 and 12\n"
     ]
    }
   ],
   "source": [
    "even = sum(a for a in range(0, 7) if a % 2 == 0)\n",
    "odd = sum(a for a in range(0, 7) if a % 2 != 0)\n",
    "print(f\"{odd} and {even}\")\n"
   ]
  },
  {
   "cell_type": "code",
   "execution_count": 1,
   "id": "7d174b8e-9a37-4ae6-af21-a498871a9210",
   "metadata": {},
   "outputs": [
    {
     "name": "stdout",
     "output_type": "stream",
     "text": [
      "[20, 16]\n"
     ]
    }
   ],
   "source": [
    "random_numbers=[1,2,3,4,5,6,7,8]\n",
    "result_list = [sum(num for num in random_numbers if num % 2 == 0), sum(num for num in random_numbers if num % 2 != 0)]\n",
    "print(result_list)\n"
   ]
  },
  {
   "cell_type": "code",
   "execution_count": 3,
   "id": "90557ae0-a940-4d14-b68f-e31391f0b6a9",
   "metadata": {},
   "outputs": [
    {
     "name": "stdout",
     "output_type": "stream",
     "text": [
      "[20, 25]\n"
     ]
    }
   ],
   "source": [
    "lst=[1,2,3,4,5,6,7,8,9]\n",
    "even=sum([num for num in lst if num%2==0])\n",
    "odd=sum([num for num in lst if num%2!=0])\n",
    "print([even,odd])"
   ]
  },
  {
   "cell_type": "code",
   "execution_count": 6,
   "id": "1431349e-6b09-420b-b527-a9274e5dc68e",
   "metadata": {},
   "outputs": [
    {
     "data": {
      "text/plain": [
       "[1, 4, 9, 16, 25, 36, 49, 64, 81]"
      ]
     },
     "execution_count": 6,
     "metadata": {},
     "output_type": "execute_result"
    }
   ],
   "source": [
    "[i**2 for i in lst] "
   ]
  },
  {
   "cell_type": "code",
   "execution_count": 7,
   "id": "0095e501-796a-4141-9b2f-cae21350c27c",
   "metadata": {},
   "outputs": [
    {
     "data": {
      "text/plain": [
       "[1, 2, 3, 4]"
      ]
     },
     "execution_count": 7,
     "metadata": {},
     "output_type": "execute_result"
    }
   ],
   "source": [
    "num=[-2,-1,0,1,2,3,4]\n",
    "[i for i in num if i>0]"
   ]
  },
  {
   "cell_type": "code",
   "execution_count": 4,
   "id": "8856e405-9c6f-4ad2-ab54-9eee134632a1",
   "metadata": {},
   "outputs": [
    {
     "data": {
      "text/plain": [
       "['a', 'm', 'b', 'c']"
      ]
     },
     "execution_count": 4,
     "metadata": {},
     "output_type": "execute_result"
    }
   ],
   "source": [
    "l=['apple','mango','banana','cherry']\n",
    "[cl[0] for cl in l]"
   ]
  },
  {
   "cell_type": "code",
   "execution_count": 12,
   "id": "e1e7429f-65e7-4a24-b701-441ff8ff4569",
   "metadata": {},
   "outputs": [
    {
     "data": {
      "text/plain": [
       "[32.0, 50.0, 68.0, 86.0, 104.0, 122.0]"
      ]
     },
     "execution_count": 12,
     "metadata": {},
     "output_type": "execute_result"
    }
   ],
   "source": [
    "c=[0,10,20,30,40,50]\n",
    "[(9/5)*i+32 for i in c]"
   ]
  },
  {
   "cell_type": "code",
   "execution_count": 13,
   "id": "be17c51d-59d5-4d6f-b06c-d903e293b91d",
   "metadata": {},
   "outputs": [],
   "source": [
    "lists=[[1,2,3],[4,5,6],[7,8,9]]"
   ]
  },
  {
   "cell_type": "code",
   "execution_count": 23,
   "id": "6eb12337-5ad1-4ac3-bf5d-cd41ec73c4ac",
   "metadata": {},
   "outputs": [
    {
     "data": {
      "text/plain": [
       "[1, 2, 3, 4, 5, 6, 7, 8, 9]"
      ]
     },
     "execution_count": 23,
     "metadata": {},
     "output_type": "execute_result"
    }
   ],
   "source": [
    "lists=[[1,2,3],[4,5,6],[7,8,9]]\n",
    "[num for sublist in lists for num in sublist]"
   ]
  },
  {
   "cell_type": "code",
   "execution_count": 17,
   "id": "49b0e06e-e856-4559-8955-d49e1a334c18",
   "metadata": {},
   "outputs": [
    {
     "data": {
      "text/plain": [
       "[[1, 2, 3], [4, 5, 6], [7, 8, 9]]"
      ]
     },
     "execution_count": 17,
     "metadata": {},
     "output_type": "execute_result"
    }
   ],
   "source": [
    "l"
   ]
  },
  {
   "cell_type": "markdown",
   "id": "cdf04b30-5df9-42e3-99e7-9ac9822db01e",
   "metadata": {},
   "source": [
    "## Assignment"
   ]
  },
  {
   "cell_type": "code",
   "execution_count": 24,
   "id": "4a40f620-8916-4283-a9e4-39e8d48d794e",
   "metadata": {},
   "outputs": [],
   "source": [
    "n=[1,2,3,4,5,6,7,8,9,10]"
   ]
  },
  {
   "cell_type": "code",
   "execution_count": 56,
   "id": "eb6065f3-9f05-47a2-a18a-d8e810d3fe32",
   "metadata": {},
   "outputs": [
    {
     "data": {
      "text/plain": [
       "[True, False, False, True, False, False, False, False, True, False]"
      ]
     },
     "execution_count": 56,
     "metadata": {},
     "output_type": "execute_result"
    }
   ],
   "source": [
    "import math\n",
    "\n",
    "n = [1, 2, 3, 4, 5, 6, 7, 8, 9, 10]\n",
    "[math.isqrt(i)**2 == i for i in n]"
   ]
  },
  {
   "cell_type": "code",
   "execution_count": 1,
   "id": "1515c932-e0fb-4ba4-9943-d20cf1785e73",
   "metadata": {},
   "outputs": [],
   "source": [
    "lst=[1,2,3,4,5,6,7]"
   ]
  },
  {
   "cell_type": "code",
   "execution_count": 4,
   "id": "fb8d8c36-9c07-4da5-b776-80358c876edb",
   "metadata": {},
   "outputs": [],
   "source": [
    "lst.insert(0,2)"
   ]
  },
  {
   "cell_type": "code",
   "execution_count": 3,
   "id": "3f0321a8-feb0-4996-8ca0-942425c54a5f",
   "metadata": {},
   "outputs": [
    {
     "data": {
      "text/plain": [
       "[2, 1, 2, 3, 4, 5, 6, 7]"
      ]
     },
     "execution_count": 3,
     "metadata": {},
     "output_type": "execute_result"
    }
   ],
   "source": [
    "lst"
   ]
  },
  {
   "cell_type": "code",
   "execution_count": 5,
   "id": "03a4dfd5-0f98-44cf-a2e2-a8715eb503eb",
   "metadata": {},
   "outputs": [],
   "source": [
    "lst.insert(-2,2)"
   ]
  },
  {
   "cell_type": "code",
   "execution_count": 6,
   "id": "a3d7f8e6-36bf-4a0b-84bc-93b477ca450e",
   "metadata": {},
   "outputs": [
    {
     "data": {
      "text/plain": [
       "[2, 2, 1, 2, 3, 4, 5, 2, 6, 7]"
      ]
     },
     "execution_count": 6,
     "metadata": {},
     "output_type": "execute_result"
    }
   ],
   "source": [
    "lst"
   ]
  },
  {
   "cell_type": "code",
   "execution_count": 7,
   "id": "024eeca5-15ad-4de9-8b00-93cefc50dba5",
   "metadata": {},
   "outputs": [],
   "source": [
    "lst.insert(len(lst)+1,200)"
   ]
  },
  {
   "cell_type": "code",
   "execution_count": 8,
   "id": "59dcc304-60f5-4199-b981-97ceb8314369",
   "metadata": {},
   "outputs": [
    {
     "data": {
      "text/plain": [
       "[2, 2, 1, 2, 3, 4, 5, 2, 6, 7, 200]"
      ]
     },
     "execution_count": 8,
     "metadata": {},
     "output_type": "execute_result"
    }
   ],
   "source": [
    "lst"
   ]
  }
 ],
 "metadata": {
  "kernelspec": {
   "display_name": "Python 3 (ipykernel)",
   "language": "python",
   "name": "python3"
  },
  "language_info": {
   "codemirror_mode": {
    "name": "ipython",
    "version": 3
   },
   "file_extension": ".py",
   "mimetype": "text/x-python",
   "name": "python",
   "nbconvert_exporter": "python",
   "pygments_lexer": "ipython3",
   "version": "3.10.8"
  }
 },
 "nbformat": 4,
 "nbformat_minor": 5
}
