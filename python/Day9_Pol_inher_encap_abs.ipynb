{
 "cells": [
  {
   "cell_type": "markdown",
   "id": "f50db97c-a81c-470f-b894-446810d2116d",
   "metadata": {},
   "source": [
    "## Polymorphism"
   ]
  },
  {
   "cell_type": "code",
   "execution_count": 1,
   "id": "bdc1d360-422a-459c-95e1-f01806b2e575",
   "metadata": {},
   "outputs": [],
   "source": [
    "def test(a,b):\n",
    "    return a+b"
   ]
  },
  {
   "cell_type": "code",
   "execution_count": 2,
   "id": "e57343d1-63ba-41e1-a9a3-2e875bcb0b71",
   "metadata": {},
   "outputs": [
    {
     "data": {
      "text/plain": [
       "9"
      ]
     },
     "execution_count": 2,
     "metadata": {},
     "output_type": "execute_result"
    }
   ],
   "source": [
    "test(4,5)"
   ]
  },
  {
   "cell_type": "code",
   "execution_count": 3,
   "id": "acd72c6f-39d1-4ab3-8f0c-9b8a213c50dd",
   "metadata": {},
   "outputs": [
    {
     "data": {
      "text/plain": [
       "'sudhkumar'"
      ]
     },
     "execution_count": 3,
     "metadata": {},
     "output_type": "execute_result"
    }
   ],
   "source": [
    "test('sudh','kumar')"
   ]
  },
  {
   "cell_type": "code",
   "execution_count": 4,
   "id": "ab20818d-6c60-450e-8a24-d368d53e2585",
   "metadata": {},
   "outputs": [
    {
     "data": {
      "text/plain": [
       "[2, 3, 4, 5, 1, 2, 3, 4]"
      ]
     },
     "execution_count": 4,
     "metadata": {},
     "output_type": "execute_result"
    }
   ],
   "source": [
    "test([2,3,4,5],[1,2,3,4])"
   ]
  },
  {
   "cell_type": "code",
   "execution_count": 21,
   "id": "cf190177-7b99-4152-a6c2-1e55b3c0db38",
   "metadata": {},
   "outputs": [],
   "source": [
    "class data_science:\n",
    "    def syllabus(self):\n",
    "        print(\"this is my method for data science syllabus\")"
   ]
  },
  {
   "cell_type": "code",
   "execution_count": 22,
   "id": "8e46f6ff-f1db-4c22-a7b1-81ddffc6f209",
   "metadata": {},
   "outputs": [],
   "source": [
    "class web_dev:\n",
    "    def syllabus(self):\n",
    "        print('this is my method for web dev')"
   ]
  },
  {
   "cell_type": "code",
   "execution_count": 24,
   "id": "43243c24-e9c5-435b-9fcf-75e67a10e7ef",
   "metadata": {},
   "outputs": [],
   "source": [
    "obj_data_science=data_science()"
   ]
  },
  {
   "cell_type": "code",
   "execution_count": 23,
   "id": "3eaf3f64-572c-42f2-bac9-1ea512dcd831",
   "metadata": {},
   "outputs": [],
   "source": [
    "def class_parcer(class_obj):\n",
    "    for i in class_obj:\n",
    "        i.syllabus()"
   ]
  },
  {
   "cell_type": "code",
   "execution_count": 25,
   "id": "5696b333-1577-4050-8885-54b0dd14e4a5",
   "metadata": {},
   "outputs": [],
   "source": [
    "obj_web_dev=web_dev()"
   ]
  },
  {
   "cell_type": "code",
   "execution_count": 26,
   "id": "8a9890cb-f686-4da7-a5ee-ff6cc9b1bf4a",
   "metadata": {},
   "outputs": [],
   "source": [
    "class_ojb=[obj_data_science,obj_web_dev]"
   ]
  },
  {
   "cell_type": "code",
   "execution_count": 28,
   "id": "d2dd32ea-c747-4c48-b1a2-c6bb83852dc0",
   "metadata": {},
   "outputs": [
    {
     "name": "stdout",
     "output_type": "stream",
     "text": [
      "this is my method for data science syllabus\n",
      "this is my method for web dev\n"
     ]
    }
   ],
   "source": [
    "class_parcer(class_ojb)"
   ]
  },
  {
   "cell_type": "code",
   "execution_count": null,
   "id": "f9fa7442-6c38-4277-8c2e-f9fc3bbce4eb",
   "metadata": {},
   "outputs": [],
   "source": []
  },
  {
   "cell_type": "markdown",
   "id": "f897fd84-3af1-46d1-a7ca-0714cdd384f8",
   "metadata": {},
   "source": [
    "##  Encapsulation"
   ]
  },
  {
   "cell_type": "code",
   "execution_count": 1,
   "id": "be0d2da6-33fe-4930-808e-6c0b2c68eec0",
   "metadata": {},
   "outputs": [],
   "source": [
    "class test:\n",
    "    def __init__(self,a,b):\n",
    "        self.a=a\n",
    "        self.b=b"
   ]
  },
  {
   "cell_type": "code",
   "execution_count": 2,
   "id": "dda4c34d-4895-43ac-8733-6bbfb9ce808e",
   "metadata": {},
   "outputs": [],
   "source": [
    "t=test(45,56)"
   ]
  },
  {
   "cell_type": "code",
   "execution_count": 4,
   "id": "f503539c-e598-4cf6-87e1-2bbedab75de3",
   "metadata": {},
   "outputs": [
    {
     "data": {
      "text/plain": [
       "45"
      ]
     },
     "execution_count": 4,
     "metadata": {},
     "output_type": "execute_result"
    }
   ],
   "source": [
    "t.a"
   ]
  },
  {
   "cell_type": "code",
   "execution_count": 5,
   "id": "b486c305-6ba3-40f9-bead-9e5bcc38eecc",
   "metadata": {},
   "outputs": [
    {
     "data": {
      "text/plain": [
       "56"
      ]
     },
     "execution_count": 5,
     "metadata": {},
     "output_type": "execute_result"
    }
   ],
   "source": [
    "t.b"
   ]
  },
  {
   "cell_type": "code",
   "execution_count": 6,
   "id": "73b617e9-152d-4333-9775-1c3ac27eaf80",
   "metadata": {},
   "outputs": [],
   "source": [
    "t.a=231"
   ]
  },
  {
   "cell_type": "code",
   "execution_count": 7,
   "id": "1e377dff-1955-4cc5-9b22-bf6338397215",
   "metadata": {},
   "outputs": [
    {
     "data": {
      "text/plain": [
       "231"
      ]
     },
     "execution_count": 7,
     "metadata": {},
     "output_type": "execute_result"
    }
   ],
   "source": [
    "t.a"
   ]
  },
  {
   "cell_type": "code",
   "execution_count": 38,
   "id": "5a62d8c6-fbd1-4977-8375-69fce16aa091",
   "metadata": {},
   "outputs": [],
   "source": [
    "class car:\n",
    "    def __init__(self,year,make,model,speed):\n",
    "        self.__year =year\n",
    "        self.__make=make\n",
    "        self.__model=model\n",
    "        self.__speed = 0\n",
    "    \n",
    "    def set_spped(self,speed):\n",
    "        self.__speed = 0 if speed<0 else speed\n",
    "        \n",
    "    def get_speed(self):\n",
    "        return self.__speed"
   ]
  },
  {
   "cell_type": "code",
   "execution_count": 39,
   "id": "9358389b-cf39-4bf6-8022-1411ac23aa90",
   "metadata": {},
   "outputs": [],
   "source": [
    "obj_car=car(2021,'toyota','inova',12)"
   ]
  },
  {
   "cell_type": "code",
   "execution_count": 40,
   "id": "3c1d5b1d-8c74-4aad-8a25-9ad980f44c77",
   "metadata": {},
   "outputs": [
    {
     "ename": "AttributeError",
     "evalue": "'car' object has no attribute '__year'",
     "output_type": "error",
     "traceback": [
      "\u001b[0;31m---------------------------------------------------------------------------\u001b[0m",
      "\u001b[0;31mAttributeError\u001b[0m                            Traceback (most recent call last)",
      "Cell \u001b[0;32mIn[40], line 1\u001b[0m\n\u001b[0;32m----> 1\u001b[0m \u001b[43mobj_car\u001b[49m\u001b[38;5;241;43m.\u001b[39;49m\u001b[43m__year\u001b[49m\n",
      "\u001b[0;31mAttributeError\u001b[0m: 'car' object has no attribute '__year'"
     ]
    }
   ],
   "source": [
    "obj_car.__year"
   ]
  },
  {
   "cell_type": "code",
   "execution_count": 41,
   "id": "6b44b22a-8e9b-4f54-ac5c-d893e91059ca",
   "metadata": {},
   "outputs": [
    {
     "data": {
      "text/plain": [
       "2021"
      ]
     },
     "execution_count": 41,
     "metadata": {},
     "output_type": "execute_result"
    }
   ],
   "source": [
    "obj_car._car__year"
   ]
  },
  {
   "cell_type": "code",
   "execution_count": 42,
   "id": "cd3a8e98-2be1-4471-a334-6c0a3fd3f478",
   "metadata": {},
   "outputs": [],
   "source": [
    "obj_car._car__year=2023"
   ]
  },
  {
   "cell_type": "code",
   "execution_count": 43,
   "id": "75302043-ac2d-4a42-952d-016fa526f815",
   "metadata": {},
   "outputs": [
    {
     "data": {
      "text/plain": [
       "2023"
      ]
     },
     "execution_count": 43,
     "metadata": {},
     "output_type": "execute_result"
    }
   ],
   "source": [
    "obj_car._car__year"
   ]
  },
  {
   "cell_type": "code",
   "execution_count": 44,
   "id": "7c10fed7-3cbe-4cad-9a9b-fe7dd358c632",
   "metadata": {},
   "outputs": [],
   "source": [
    "obj_car.set_spped(-1)"
   ]
  },
  {
   "cell_type": "code",
   "execution_count": 45,
   "id": "85bd8418-8212-48ec-8fdd-cc3ed163cefe",
   "metadata": {},
   "outputs": [
    {
     "data": {
      "text/plain": [
       "0"
      ]
     },
     "execution_count": 45,
     "metadata": {},
     "output_type": "execute_result"
    }
   ],
   "source": [
    "obj_car._car__speed"
   ]
  },
  {
   "cell_type": "code",
   "execution_count": 46,
   "id": "0ae1f179-c1ef-4b8c-a71a-fd07b591ba14",
   "metadata": {},
   "outputs": [],
   "source": [
    "obj_car.set_spped(12)"
   ]
  },
  {
   "cell_type": "code",
   "execution_count": 47,
   "id": "e3fb570e-f8e8-4d33-9835-dc02680a06a6",
   "metadata": {},
   "outputs": [
    {
     "data": {
      "text/plain": [
       "12"
      ]
     },
     "execution_count": 47,
     "metadata": {},
     "output_type": "execute_result"
    }
   ],
   "source": [
    "obj_car._car__speed"
   ]
  },
  {
   "cell_type": "code",
   "execution_count": 49,
   "id": "97c4073c-bc2c-4d8c-9b69-221c4fa42ee6",
   "metadata": {},
   "outputs": [
    {
     "data": {
      "text/plain": [
       "12"
      ]
     },
     "execution_count": 49,
     "metadata": {},
     "output_type": "execute_result"
    }
   ],
   "source": [
    "obj_car.get_speed()"
   ]
  },
  {
   "cell_type": "code",
   "execution_count": 52,
   "id": "36836ea8-de85-4810-b0af-a474336dc89c",
   "metadata": {},
   "outputs": [
    {
     "ename": "NameError",
     "evalue": "name 'bank_acount' is not defined",
     "output_type": "error",
     "traceback": [
      "\u001b[0;31m---------------------------------------------------------------------------\u001b[0m",
      "\u001b[0;31mNameError\u001b[0m                                 Traceback (most recent call last)",
      "Cell \u001b[0;32mIn[52], line 1\u001b[0m\n\u001b[0;32m----> 1\u001b[0m obj_bank_account\u001b[38;5;241m=\u001b[39m\u001b[43mbank_acount\u001b[49m(\u001b[38;5;241m1000\u001b[39m)\n",
      "\u001b[0;31mNameError\u001b[0m: name 'bank_acount' is not defined"
     ]
    }
   ],
   "source": [
    "obj_bank_account=bank_acount(1000)"
   ]
  },
  {
   "cell_type": "code",
   "execution_count": 56,
   "id": "e1cc8946-9646-4bd5-b2de-d340221ed7e0",
   "metadata": {},
   "outputs": [],
   "source": [
    "class bank_account:\n",
    "    def __init__(self,balance):\n",
    "        self.__balance=balance\n",
    "    \n",
    "    def deposit (self,amount):\n",
    "        self.__balance =self.__balance+amount\n",
    "    \n",
    "    def withdraw(self,amount):\n",
    "        if self.__balance >=amount:\n",
    "            self.__balance=self.__balance-amount\n",
    "            return True\n",
    "            \n",
    "        else:\n",
    "            print(\"Not enough balance\")\n",
    "            return False\n",
    "    def get_balance(self):\n",
    "        return self.__balance"
   ]
  },
  {
   "cell_type": "code",
   "execution_count": 57,
   "id": "d49879e8-ea55-4930-bf03-3916ba439ed4",
   "metadata": {},
   "outputs": [],
   "source": [
    "obj_bank_account = bank_account(1000)"
   ]
  },
  {
   "cell_type": "code",
   "execution_count": 58,
   "id": "6fd433c0-be6e-4728-b713-bb469234581a",
   "metadata": {},
   "outputs": [],
   "source": [
    "obj_bank_account.deposit(100)"
   ]
  },
  {
   "cell_type": "code",
   "execution_count": 64,
   "id": "a32582e0-c49c-481e-ac99-31c55df3eb76",
   "metadata": {},
   "outputs": [
    {
     "data": {
      "text/plain": [
       "1100"
      ]
     },
     "execution_count": 64,
     "metadata": {},
     "output_type": "execute_result"
    }
   ],
   "source": [
    "obj_bank_account.get_balance()"
   ]
  },
  {
   "cell_type": "code",
   "execution_count": 65,
   "id": "3d43021b-941b-4d9c-a771-1d0f92e2b143",
   "metadata": {},
   "outputs": [
    {
     "name": "stdout",
     "output_type": "stream",
     "text": [
      "Not enough balance\n"
     ]
    },
    {
     "data": {
      "text/plain": [
       "False"
      ]
     },
     "execution_count": 65,
     "metadata": {},
     "output_type": "execute_result"
    }
   ],
   "source": [
    "obj_bank_account.withdraw(2000)"
   ]
  },
  {
   "cell_type": "code",
   "execution_count": 66,
   "id": "d5184ca4-6d59-43d9-b3d9-2268fbb684d1",
   "metadata": {},
   "outputs": [
    {
     "data": {
      "text/plain": [
       "True"
      ]
     },
     "execution_count": 66,
     "metadata": {},
     "output_type": "execute_result"
    }
   ],
   "source": [
    "obj_bank_account.withdraw(1100)"
   ]
  },
  {
   "cell_type": "code",
   "execution_count": 67,
   "id": "3a985716-38e4-4623-b77c-c458584b600d",
   "metadata": {},
   "outputs": [
    {
     "data": {
      "text/plain": [
       "0"
      ]
     },
     "execution_count": 67,
     "metadata": {},
     "output_type": "execute_result"
    }
   ],
   "source": [
    "obj_bank_account.get_balance()"
   ]
  },
  {
   "cell_type": "markdown",
   "id": "5897a4ae-eb9d-4d67-a07a-f3169af1dc44",
   "metadata": {},
   "source": [
    "## Inheritance"
   ]
  },
  {
   "cell_type": "code",
   "execution_count": 68,
   "id": "792486fc-df8f-47f6-8aad-9e7acdab99b6",
   "metadata": {},
   "outputs": [],
   "source": [
    "class parent:\n",
    "    def test_parent(self):\n",
    "        print('this is my parent class')"
   ]
  },
  {
   "cell_type": "code",
   "execution_count": 69,
   "id": "7d551e60-9f2b-49b1-9913-8771e57c726d",
   "metadata": {},
   "outputs": [],
   "source": [
    "class child(parent):\n",
    "    pass"
   ]
  },
  {
   "cell_type": "code",
   "execution_count": 73,
   "id": "f13e5774-abd6-4251-b5e4-8ecf492b0e5d",
   "metadata": {},
   "outputs": [],
   "source": [
    "child_obj = child()"
   ]
  },
  {
   "cell_type": "code",
   "execution_count": 74,
   "id": "d63cbf81-ea0e-44b1-af92-080ec0bb04dd",
   "metadata": {},
   "outputs": [
    {
     "name": "stdout",
     "output_type": "stream",
     "text": [
      "this is my parent class\n"
     ]
    }
   ],
   "source": [
    "child_obj.test_parent()"
   ]
  },
  {
   "cell_type": "code",
   "execution_count": 75,
   "id": "f2400a17-a549-4394-bd26-638bc6ded422",
   "metadata": {},
   "outputs": [],
   "source": [
    "class class1:\n",
    "    def test_class1(self):\n",
    "        print(\"this is class 1 guys\")"
   ]
  },
  {
   "cell_type": "code",
   "execution_count": 76,
   "id": "fd8c4353-e1bb-48b4-a295-0c4d1d4dffb8",
   "metadata": {},
   "outputs": [],
   "source": [
    "class class2(class1):\n",
    "    def test_class2(self):\n",
    "        print(\"this is class 2 guys\")"
   ]
  },
  {
   "cell_type": "code",
   "execution_count": 91,
   "id": "e29bd0d4-db2d-4819-99ec-99b9b805e5ae",
   "metadata": {},
   "outputs": [],
   "source": [
    "class class3(class2):\n",
    "    def test_class3(self):\n",
    "        print(\"this is class 3 guys\")"
   ]
  },
  {
   "cell_type": "code",
   "execution_count": 92,
   "id": "c9399dce-0c27-4418-9092-15741e34290a",
   "metadata": {},
   "outputs": [],
   "source": [
    "obj_class3=class3()"
   ]
  },
  {
   "cell_type": "code",
   "execution_count": 93,
   "id": "fcb4fb0d-cba9-4a3c-b8e8-d316cbcf707d",
   "metadata": {},
   "outputs": [
    {
     "name": "stdout",
     "output_type": "stream",
     "text": [
      "this is class 2 guys\n"
     ]
    }
   ],
   "source": [
    "obj_class3.test_class2()"
   ]
  },
  {
   "cell_type": "code",
   "execution_count": 94,
   "id": "ec63419e-2c56-4dec-944d-d461f5006914",
   "metadata": {},
   "outputs": [
    {
     "name": "stdout",
     "output_type": "stream",
     "text": [
      "this is class 1 guys\n"
     ]
    }
   ],
   "source": [
    "obj_class3.test_class1()"
   ]
  },
  {
   "cell_type": "code",
   "execution_count": 95,
   "id": "0685364e-d11b-4e1c-a9b4-a1bb373bd133",
   "metadata": {},
   "outputs": [
    {
     "name": "stdout",
     "output_type": "stream",
     "text": [
      "this is class 3 guys\n"
     ]
    }
   ],
   "source": [
    "obj_class3.test_class3()"
   ]
  },
  {
   "cell_type": "code",
   "execution_count": 96,
   "id": "c5608bd7-4d1d-4d3e-8246-e53598d45898",
   "metadata": {},
   "outputs": [],
   "source": [
    "class class1:\n",
    "    def test_class1(self):\n",
    "        print(\"this is my class 1\")"
   ]
  },
  {
   "cell_type": "code",
   "execution_count": 97,
   "id": "a4b1eca6-68e4-4011-9a62-5daf5b5e2029",
   "metadata": {},
   "outputs": [],
   "source": [
    "class class2:\n",
    "    def test_class2(self):\n",
    "        print(\"this is my class 2\")"
   ]
  },
  {
   "cell_type": "code",
   "execution_count": 99,
   "id": "384f41f7-a2d5-460a-82d0-ad5c9742b68b",
   "metadata": {},
   "outputs": [],
   "source": [
    "class class3(class1,class2):\n",
    "    def test_class3(self):\n",
    "        print(\"this is my class 3\")"
   ]
  },
  {
   "cell_type": "code",
   "execution_count": 104,
   "id": "dd03aa83-4856-4f86-8b54-d11740336d50",
   "metadata": {},
   "outputs": [],
   "source": [
    "obj_class3 = class3()"
   ]
  },
  {
   "cell_type": "code",
   "execution_count": 105,
   "id": "d156d249-f8f8-483b-9c86-78b6f4dbfd5e",
   "metadata": {},
   "outputs": [
    {
     "name": "stdout",
     "output_type": "stream",
     "text": [
      "this is my class 3\n"
     ]
    }
   ],
   "source": [
    "obj_class3.test_class3()"
   ]
  },
  {
   "cell_type": "code",
   "execution_count": 106,
   "id": "db335f40-e128-4c46-b89b-28d050b67391",
   "metadata": {},
   "outputs": [
    {
     "name": "stdout",
     "output_type": "stream",
     "text": [
      "this is my class 1\n"
     ]
    }
   ],
   "source": [
    "obj_class3.test_class1()"
   ]
  },
  {
   "cell_type": "code",
   "execution_count": 107,
   "id": "51f0b6fd-bf39-433a-91f3-149ce1d4f5c6",
   "metadata": {},
   "outputs": [
    {
     "name": "stdout",
     "output_type": "stream",
     "text": [
      "this is my class 2\n"
     ]
    }
   ],
   "source": [
    "obj_class3.test_class2()"
   ]
  },
  {
   "cell_type": "markdown",
   "id": "c56b17ae-dc58-49b8-99fc-197a68dc81ae",
   "metadata": {},
   "source": [
    "## Abstraction"
   ]
  },
  {
   "cell_type": "code",
   "execution_count": 109,
   "id": "31894b87-444c-4ca4-8fcc-e72b97a6fbf3",
   "metadata": {},
   "outputs": [],
   "source": [
    "import abc\n",
    "class pwskillss:\n",
    "    @abc.abstractmethod\n",
    "    def student_details(self):\n",
    "        pass\n",
    "    @abc.abstractmethod\n",
    "    def student_assignment(self):\n",
    "        pass\n",
    "    @abc.abstractmethod\n",
    "    def student_marks(self):\n",
    "        pass"
   ]
  },
  {
   "cell_type": "code",
   "execution_count": 111,
   "id": "86c4ee78-2d61-4f68-b2bf-0f2d6f48b4ce",
   "metadata": {},
   "outputs": [],
   "source": [
    "class data_science(pwskillss):\n",
    "    def student_details(self):\n",
    "        return \"it will try to return a details of data science masters\"\n",
    "    \n",
    "    def student_assignments(self):\n",
    "        return \"it will return a detail of student assignment for data scinece masters\""
   ]
  },
  {
   "cell_type": "code",
   "execution_count": 112,
   "id": "a1e0a1c1-1506-4cb2-9149-3e7f05921d8b",
   "metadata": {},
   "outputs": [],
   "source": [
    "class web_dev(pwskillss):\n",
    "    def student_details(self):\n",
    "        return \"it will try to return a details of web dev\"\n",
    "    \n",
    "    def student_marks(self):\n",
    "        return \"it will return marks of web dev class\""
   ]
  },
  {
   "cell_type": "code",
   "execution_count": 113,
   "id": "c9a2f27d-530d-49eb-8b78-f865a6e3475a",
   "metadata": {},
   "outputs": [],
   "source": [
    "ds=data_science()"
   ]
  },
  {
   "cell_type": "code",
   "execution_count": 114,
   "id": "77e21348-2cc6-45e6-a2da-0fbbe3194c90",
   "metadata": {},
   "outputs": [
    {
     "data": {
      "text/plain": [
       "'it will try to return a details of data science masters'"
      ]
     },
     "execution_count": 114,
     "metadata": {},
     "output_type": "execute_result"
    }
   ],
   "source": [
    "ds.student_details()"
   ]
  },
  {
   "cell_type": "code",
   "execution_count": 115,
   "id": "fb4085c3-9e61-44ce-8ebe-69ad51edacf2",
   "metadata": {},
   "outputs": [],
   "source": [
    "web=web_dev()"
   ]
  },
  {
   "cell_type": "code",
   "execution_count": 116,
   "id": "78e39182-c002-4783-b7be-3ca3a14f34e0",
   "metadata": {},
   "outputs": [
    {
     "data": {
      "text/plain": [
       "'it will try to return a details of web dev'"
      ]
     },
     "execution_count": 116,
     "metadata": {},
     "output_type": "execute_result"
    }
   ],
   "source": [
    "web.student_details()"
   ]
  }
 ],
 "metadata": {
  "kernelspec": {
   "display_name": "Python 3 (ipykernel)",
   "language": "python",
   "name": "python3"
  },
  "language_info": {
   "codemirror_mode": {
    "name": "ipython",
    "version": 3
   },
   "file_extension": ".py",
   "mimetype": "text/x-python",
   "name": "python",
   "nbconvert_exporter": "python",
   "pygments_lexer": "ipython3",
   "version": "3.10.8"
  }
 },
 "nbformat": 4,
 "nbformat_minor": 5
}
