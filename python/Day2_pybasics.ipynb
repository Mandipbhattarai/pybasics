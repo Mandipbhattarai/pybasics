{
 "cells": [
  {
   "cell_type": "markdown",
   "id": "5e923fc0-2954-4ed9-8a7d-f9344dda2988",
   "metadata": {},
   "source": [
    "## types of print statement "
   ]
  },
  {
   "cell_type": "code",
   "execution_count": 1,
   "id": "3a0b49d7-0f04-46d7-af0a-6b329d72f881",
   "metadata": {},
   "outputs": [
    {
     "name": "stdout",
     "output_type": "stream",
     "text": [
      "Hello World!\n"
     ]
    }
   ],
   "source": [
    "print(\"Hello World!\")"
   ]
  },
  {
   "cell_type": "code",
   "execution_count": 2,
   "id": "cbb5a79e-c54f-4c7e-b232-716681aef89b",
   "metadata": {},
   "outputs": [
    {
     "name": "stdout",
     "output_type": "stream",
     "text": [
      "123\n"
     ]
    }
   ],
   "source": [
    "print(123)"
   ]
  },
  {
   "cell_type": "code",
   "execution_count": 3,
   "id": "bba2fab8-8314-4aa1-8857-c01d5d7b956c",
   "metadata": {},
   "outputs": [
    {
     "name": "stdout",
     "output_type": "stream",
     "text": [
      "My age is: 32\n"
     ]
    }
   ],
   "source": [
    "age=32; \n",
    "print(\"My age is:\",age)"
   ]
  },
  {
   "cell_type": "code",
   "execution_count": 5,
   "id": "03166306-51ab-45c7-b41e-76962636ddf3",
   "metadata": {},
   "outputs": [
    {
     "name": "stdout",
     "output_type": "stream",
     "text": [
      "My age is 32\n"
     ]
    }
   ],
   "source": [
    "## fstring\n",
    "print(f\"My age is {age}\")"
   ]
  },
  {
   "cell_type": "code",
   "execution_count": 7,
   "id": "6c182775-bd2e-4275-8b8a-ebc2009a0b3c",
   "metadata": {},
   "outputs": [
    {
     "name": "stdout",
     "output_type": "stream",
     "text": [
      "My name is krish and age is 32\n"
     ]
    }
   ],
   "source": [
    "## format\n",
    "name=\"krish\"\n",
    "age=32\n",
    "print(\"My name is {} and age is {}\".format(name,age))"
   ]
  },
  {
   "cell_type": "code",
   "execution_count": 8,
   "id": "cfc468ee-3c1d-4483-ab61-bf9fa8f0fc76",
   "metadata": {},
   "outputs": [
    {
     "name": "stdout",
     "output_type": "stream",
     "text": [
      "My name is krish and age is 32\n"
     ]
    }
   ],
   "source": [
    "## placeholder\n",
    "print(\"My name is {firstname} and age is {firstage}\".format(firstage=age,firstname=name))"
   ]
  },
  {
   "cell_type": "code",
   "execution_count": 11,
   "id": "791dbe0c-ae2f-45df-81c5-df8b19a7ad99",
   "metadata": {},
   "outputs": [
    {
     "name": "stdout",
     "output_type": "stream",
     "text": [
      "My age is 32 and i have completed: my degree of BE with the name of Krish Naik\n"
     ]
    }
   ],
   "source": [
    "name = \"Krish Naik\"\n",
    "age = 32\n",
    "degree = \"BE\"\n",
    "print(\"My age is {nage} and i have completed: my degree of {ndegree} with the name of {nname}\".format(nname=name,nage=age,ndegree=degree))"
   ]
  },
  {
   "cell_type": "markdown",
   "id": "417f1390-83d9-49e4-b7c0-3fee6f5763c6",
   "metadata": {},
   "source": [
    "## Control Flow \n",
    "### Decision Making Statements"
   ]
  },
  {
   "cell_type": "code",
   "execution_count": 12,
   "id": "39ee1fe2-45cd-4fbe-93d8-850d2195a966",
   "metadata": {},
   "outputs": [
    {
     "name": "stdout",
     "output_type": "stream",
     "text": [
      "You're eligible to vote!\n"
     ]
    }
   ],
   "source": [
    "## IF Statenent \n",
    "age =18\n",
    "if age>=18:\n",
    "    print(\"You're eligible to vote!\")"
   ]
  },
  {
   "cell_type": "code",
   "execution_count": 14,
   "id": "11fbd64f-4d32-47da-89d7-abe883b0dde7",
   "metadata": {},
   "outputs": [
    {
     "name": "stdout",
     "output_type": "stream",
     "text": [
      "Enter the age 32\n"
     ]
    }
   ],
   "source": [
    "age=int(input(\"Enter the age\"))"
   ]
  },
  {
   "cell_type": "code",
   "execution_count": 15,
   "id": "af99d0be-8f48-4fcb-9231-84d51f5fa10f",
   "metadata": {},
   "outputs": [
    {
     "data": {
      "text/plain": [
       "int"
      ]
     },
     "execution_count": 15,
     "metadata": {},
     "output_type": "execute_result"
    }
   ],
   "source": [
    "type(age)"
   ]
  },
  {
   "cell_type": "code",
   "execution_count": 17,
   "id": "8b233bcf-2459-486c-8cec-a35fc66e2413",
   "metadata": {},
   "outputs": [
    {
     "name": "stdout",
     "output_type": "stream",
     "text": [
      "Enter your age 32\n"
     ]
    },
    {
     "name": "stdout",
     "output_type": "stream",
     "text": [
      "You are young blood!\n"
     ]
    }
   ],
   "source": [
    "age=int(input(\"Enter your age\"))\n",
    "if (age>=18 and age<=45): \n",
    "    print(\"You are young blood!\")"
   ]
  },
  {
   "cell_type": "code",
   "execution_count": 18,
   "id": "bc9cd488-831d-49bf-905b-ce26f096a1de",
   "metadata": {},
   "outputs": [
    {
     "name": "stdout",
     "output_type": "stream",
     "text": [
      "Enter your age 55\n"
     ]
    },
    {
     "name": "stdout",
     "output_type": "stream",
     "text": [
      "You aren't young blood!\n"
     ]
    }
   ],
   "source": [
    "## if else statement\n",
    "age=int(input(\"Enter your age\"))\n",
    "if (age>=18 and age<=45): \n",
    "    print(\"You are young blood!\")\n",
    "else:\n",
    "    print(\"You aren't young blood!\")"
   ]
  },
  {
   "cell_type": "markdown",
   "id": "4ae66488-3889-4aaf-93b9-df1fdc0e3026",
   "metadata": {},
   "source": [
    "## Task"
   ]
  },
  {
   "cell_type": "code",
   "execution_count": 21,
   "id": "fe2d2162-2506-4c89-b1a0-e9150e145190",
   "metadata": {},
   "outputs": [
    {
     "name": "stdout",
     "output_type": "stream",
     "text": [
      "Enter the product price! 200\n"
     ]
    },
    {
     "name": "stdout",
     "output_type": "stream",
     "text": [
      "The new price is: 140.0\n"
     ]
    }
   ],
   "source": [
    "price=int(input(\"Enter the product price!\"))\n",
    "if price>1000:\n",
    "    newPrice=price-0.2*price\n",
    "    print(f\"The new price is: {newPrice}\")\n",
    "else:\n",
    "    newPrice=price-0.3*price\n",
    "    print(f\"The new price is: {newPrice}\")"
   ]
  },
  {
   "cell_type": "code",
   "execution_count": 23,
   "id": "d477f1d5-ea4e-4360-8179-40f4c7808fce",
   "metadata": {},
   "outputs": [
    {
     "name": "stdout",
     "output_type": "stream",
     "text": [
      "Enter the product price! 2122\n"
     ]
    },
    {
     "name": "stdout",
     "output_type": "stream",
     "text": [
      "The new price is: 1485.4\n"
     ]
    }
   ],
   "source": [
    "price=int(input(\"Enter the product price!\"))\n",
    "if price>3000:\n",
    "    newPrice=price-0.2*price\n",
    "    print(f\"The new price is: {newPrice}\")\n",
    "elif price>=2000 and price<=3000:\n",
    "    newPrice=price-0.3*price\n",
    "    print(f\"The new price is: {newPrice}\")\n",
    "elif price>=1000 and price<=2000:\n",
    "    newPrice=price-0.4*price\n",
    "    print(f\"The new price is: {newPrice}\")"
   ]
  },
  {
   "cell_type": "code",
   "execution_count": 13,
   "id": "753a37d8-cb5a-4007-a058-ae5554b179dd",
   "metadata": {},
   "outputs": [
    {
     "name": "stdout",
     "output_type": "stream",
     "text": [
      "Enter the price:  3200\n"
     ]
    },
    {
     "name": "stdout",
     "output_type": "stream",
     "text": [
      "Congrats you got a trip to Goa\n",
      "The price of the product is: 2560.0\n"
     ]
    }
   ],
   "source": [
    "product_price = int(input(\"Enter the price: \"))\n",
    "if product_price>3000:\n",
    "    if product_price>=3000 and product_price<=4000:\n",
    "        print(\"Congrats you got a trip to Goa\")\n",
    "    print(f\"The price of the product is: {product_price*0.8}\")\n",
    "    \n",
    "elif product_price>=2000 and product_price<=3000:\n",
    "    print(f\"The price of the product is: {product_price*0.7}\")\n",
    "    if product_price==2999:\n",
    "        print(\"Also You have got a suitcase free!\")\n",
    "\n",
    "elif produc_price>=100 and product_price<=2000:\n",
    "    print(f\"The price of the product is: {product_price*0.6}\")\n",
    "else:\n",
    "    print(\"Lets drink tea!\")"
   ]
  },
  {
   "cell_type": "code",
   "execution_count": 15,
   "id": "3343223a-dfa5-411f-a2b5-72d6f0b0c9e8",
   "metadata": {},
   "outputs": [
    {
     "name": "stdout",
     "output_type": "stream",
     "text": [
      "Enter the number 1000\n"
     ]
    },
    {
     "name": "stdout",
     "output_type": "stream",
     "text": [
      "Go Home\n"
     ]
    }
   ],
   "source": [
    "## Single Statement\n",
    "val = int(input('Enter the number'))\n",
    "if(val<=999):print(\"Value is less than equal to 999\")\n",
    "else:print(\"Go Home\")"
   ]
  },
  {
   "cell_type": "markdown",
   "id": "5e20be4d-b460-4259-9fa3-20bdcf158bfc",
   "metadata": {},
   "source": [
    "## Loops Statements\n",
    "1. While loop \n",
    "2. for loop\n",
    "3. nested loop\n",
    "4. loop control (Break,continue,pass)"
   ]
  },
  {
   "cell_type": "code",
   "execution_count": 25,
   "id": "1c746f39-0438-4b27-95e8-e560ea6191dd",
   "metadata": {},
   "outputs": [
    {
     "name": "stdout",
     "output_type": "stream",
     "text": [
      "1000\n",
      "900\n",
      "800\n",
      "700\n",
      "600\n",
      "500\n",
      "400\n",
      "300\n",
      "200\n",
      "100\n",
      "Put more money bank people\n"
     ]
    }
   ],
   "source": [
    "#while loop\n",
    "amount=1000\n",
    "while amount !=0:\n",
    "    print(amount)\n",
    "    amount=amount-100\n",
    "else:\n",
    "    print(\"Put more money bank people\")"
   ]
  },
  {
   "cell_type": "code",
   "execution_count": 27,
   "id": "55052b8c-3616-40bb-915b-f867a8fb2262",
   "metadata": {},
   "outputs": [],
   "source": [
    "a=2"
   ]
  },
  {
   "cell_type": "markdown",
   "id": "73919311-1855-4b03-893a-1620329d4758",
   "metadata": {},
   "source": [
    "## For loop"
   ]
  },
  {
   "cell_type": "code",
   "execution_count": 21,
   "id": "ef290193-f015-421e-ba22-3cec4021f92d",
   "metadata": {},
   "outputs": [],
   "source": [
    "first=['apple','new','mango']"
   ]
  },
  {
   "cell_type": "code",
   "execution_count": 22,
   "id": "94a9b8a9-5a17-4241-a1a4-5d83f9f70773",
   "metadata": {},
   "outputs": [
    {
     "data": {
      "text/plain": [
       "'apple'"
      ]
     },
     "execution_count": 22,
     "metadata": {},
     "output_type": "execute_result"
    }
   ],
   "source": [
    "first[0]"
   ]
  },
  {
   "cell_type": "code",
   "execution_count": 28,
   "id": "883df623-8bbe-46ab-8eb5-a475e5fc3d24",
   "metadata": {},
   "outputs": [
    {
     "data": {
      "text/plain": [
       "['apple', 'new', 'mango']"
      ]
     },
     "execution_count": 28,
     "metadata": {},
     "output_type": "execute_result"
    }
   ],
   "source": [
    "first"
   ]
  },
  {
   "cell_type": "code",
   "execution_count": 29,
   "id": "78edabb8-b8f8-4d75-ab15-13665789c53d",
   "metadata": {},
   "outputs": [
    {
     "name": "stdout",
     "output_type": "stream",
     "text": [
      "apple\n",
      "new\n",
      "mango\n"
     ]
    }
   ],
   "source": [
    "for x in first:\n",
    "    print(f\"{x}\")"
   ]
  },
  {
   "cell_type": "code",
   "execution_count": 33,
   "id": "7daad660-b08a-4cd2-9342-65a26f834107",
   "metadata": {},
   "outputs": [
    {
     "name": "stdout",
     "output_type": "stream",
     "text": [
      "apple\n",
      "Found\n"
     ]
    }
   ],
   "source": [
    "for a in first:\n",
    "    print(a)\n",
    "    if a==\"apple\":\n",
    "        print(\"Found\")\n",
    "        break"
   ]
  },
  {
   "cell_type": "code",
   "execution_count": 35,
   "id": "fa772192-1520-4dda-bece-c7624e329b22",
   "metadata": {},
   "outputs": [
    {
     "name": "stdout",
     "output_type": "stream",
     "text": [
      "m a n g o "
     ]
    }
   ],
   "source": [
    "fruit = 'mango'\n",
    "for x in fruit:\n",
    "    print (x, end=' ')"
   ]
  },
  {
   "cell_type": "code",
   "execution_count": 36,
   "id": "0db0a236-327b-4fb3-b252-e41d99d6bc07",
   "metadata": {},
   "outputs": [],
   "source": [
    "## Nested loops"
   ]
  },
  {
   "cell_type": "code",
   "execution_count": 38,
   "id": "cd4386bc-eb51-4d89-bbd3-3686ed7ec453",
   "metadata": {},
   "outputs": [
    {
     "name": "stdout",
     "output_type": "stream",
     "text": [
      "1\n",
      "2\n",
      "3\n",
      "4\n",
      "5\n",
      "6\n"
     ]
    }
   ],
   "source": [
    "n=7\n",
    "for x in range(1,n):\n",
    "    print(x)"
   ]
  },
  {
   "cell_type": "code",
   "execution_count": 39,
   "id": "8aeaacdc-d6c7-42e0-87bd-7956bdf15a84",
   "metadata": {},
   "outputs": [
    {
     "name": "stdout",
     "output_type": "stream",
     "text": [
      "1\n",
      "3\n",
      "5\n"
     ]
    }
   ],
   "source": [
    "n=7\n",
    "for x in range(1,n,2):\n",
    "    print(x)"
   ]
  },
  {
   "cell_type": "code",
   "execution_count": 41,
   "id": "0e2ed03a-a52b-489a-8db9-9fe8a70126cc",
   "metadata": {},
   "outputs": [
    {
     "name": "stdout",
     "output_type": "stream",
     "text": [
      "* \n",
      "* * \n",
      "* * * \n",
      "* * * * \n",
      "* * * * * \n"
     ]
    }
   ],
   "source": [
    "n=5\n",
    "for i in range(0,n):\n",
    "    for j in range(0,i+1):\n",
    "        print(\"*\", end =' ')\n",
    "    print(\"\\r\")"
   ]
  },
  {
   "cell_type": "code",
   "execution_count": 45,
   "id": "7964ce9f-0a61-4ab5-912a-2b21854310a3",
   "metadata": {},
   "outputs": [],
   "source": [
    "## Loop control \n",
    "## Break and continue\n",
    "fruit = ['mango', 'apple', 'orange', 'banana']\n"
   ]
  },
  {
   "cell_type": "code",
   "execution_count": 60,
   "id": "3b6a3d23-b658-441a-a088-7ffe4e24ddb8",
   "metadata": {},
   "outputs": [
    {
     "name": "stdout",
     "output_type": "stream",
     "text": [
      "mango\n",
      "apple\n"
     ]
    }
   ],
   "source": [
    "for i in fruit:\n",
    "        print(i)\n",
    "        if i=='apple':\n",
    "            break\n",
    "        "
   ]
  }
 ],
 "metadata": {
  "kernelspec": {
   "display_name": "Python 3 (ipykernel)",
   "language": "python",
   "name": "python3"
  },
  "language_info": {
   "codemirror_mode": {
    "name": "ipython",
    "version": 3
   },
   "file_extension": ".py",
   "mimetype": "text/x-python",
   "name": "python",
   "nbconvert_exporter": "python",
   "pygments_lexer": "ipython3",
   "version": "3.10.8"
  }
 },
 "nbformat": 4,
 "nbformat_minor": 5
}
