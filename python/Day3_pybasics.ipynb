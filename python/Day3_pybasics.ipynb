{
 "cells": [
  {
   "cell_type": "markdown",
   "id": "36889bd6-cf47-4211-9056-8be09fbd7d48",
   "metadata": {},
   "source": [
    "## Logical Operators\n",
    "1. And\n",
    "2. Or\n",
    "3. Not"
   ]
  },
  {
   "cell_type": "code",
   "execution_count": 1,
   "id": "ee64ac12-e7b0-4c01-9cbc-18e1bad33504",
   "metadata": {},
   "outputs": [
    {
     "data": {
      "text/plain": [
       "True"
      ]
     },
     "execution_count": 1,
     "metadata": {},
     "output_type": "execute_result"
    }
   ],
   "source": [
    "True and True"
   ]
  },
  {
   "cell_type": "code",
   "execution_count": 2,
   "id": "31f063bc-fb7a-45bf-beca-26b7812ccc05",
   "metadata": {},
   "outputs": [
    {
     "data": {
      "text/plain": [
       "True"
      ]
     },
     "execution_count": 2,
     "metadata": {},
     "output_type": "execute_result"
    }
   ],
   "source": [
    "False or True\n"
   ]
  },
  {
   "cell_type": "code",
   "execution_count": 3,
   "id": "20c9186b-80ff-4866-a6e6-4b70593dda0b",
   "metadata": {},
   "outputs": [
    {
     "data": {
      "text/plain": [
       "False"
      ]
     },
     "execution_count": 3,
     "metadata": {},
     "output_type": "execute_result"
    }
   ],
   "source": [
    "not True"
   ]
  },
  {
   "cell_type": "code",
   "execution_count": 4,
   "id": "f8c09b8e-e65d-4321-bb78-a268f528432f",
   "metadata": {},
   "outputs": [
    {
     "data": {
      "text/plain": [
       "True"
      ]
     },
     "execution_count": 4,
     "metadata": {},
     "output_type": "execute_result"
    }
   ],
   "source": [
    "not(0)"
   ]
  },
  {
   "cell_type": "code",
   "execution_count": 5,
   "id": "35f98345-cfc0-4b88-b4dc-8d93e9093df8",
   "metadata": {},
   "outputs": [
    {
     "data": {
      "text/plain": [
       "False"
      ]
     },
     "execution_count": 5,
     "metadata": {},
     "output_type": "execute_result"
    }
   ],
   "source": [
    "not 1"
   ]
  },
  {
   "cell_type": "code",
   "execution_count": 6,
   "id": "24806cb1-965b-4a0b-bcc9-877777122f52",
   "metadata": {},
   "outputs": [
    {
     "data": {
      "text/plain": [
       "True"
      ]
     },
     "execution_count": 6,
     "metadata": {},
     "output_type": "execute_result"
    }
   ],
   "source": [
    "bool(5)"
   ]
  },
  {
   "cell_type": "code",
   "execution_count": 7,
   "id": "eadeafaf-ec6d-4941-a1e8-be0fd92208f0",
   "metadata": {},
   "outputs": [
    {
     "data": {
      "text/plain": [
       "False"
      ]
     },
     "execution_count": 7,
     "metadata": {},
     "output_type": "execute_result"
    }
   ],
   "source": [
    "not 5"
   ]
  },
  {
   "cell_type": "markdown",
   "id": "e84fba9c-b738-45bb-9905-0b8eca592fe7",
   "metadata": {},
   "source": [
    "## Logical AND"
   ]
  },
  {
   "cell_type": "code",
   "execution_count": 8,
   "id": "552be178-ec21-4831-80a3-462997e2c34d",
   "metadata": {},
   "outputs": [
    {
     "data": {
      "text/plain": [
       "False"
      ]
     },
     "execution_count": 8,
     "metadata": {},
     "output_type": "execute_result"
    }
   ],
   "source": [
    "True and False"
   ]
  },
  {
   "cell_type": "code",
   "execution_count": 9,
   "id": "e0fbc339-9a44-4b59-97a1-ab9aa65c3cd6",
   "metadata": {},
   "outputs": [
    {
     "data": {
      "text/plain": [
       "1"
      ]
     },
     "execution_count": 9,
     "metadata": {},
     "output_type": "execute_result"
    }
   ],
   "source": [
    "True * True"
   ]
  },
  {
   "cell_type": "code",
   "execution_count": 14,
   "id": "e36552cc-eee2-419b-a803-89c741f8716f",
   "metadata": {},
   "outputs": [
    {
     "data": {
      "text/plain": [
       "0"
      ]
     },
     "execution_count": 14,
     "metadata": {},
     "output_type": "execute_result"
    }
   ],
   "source": [
    "(not False )* False"
   ]
  },
  {
   "cell_type": "code",
   "execution_count": 15,
   "id": "0fc4987a-5818-401d-8086-80f78d100961",
   "metadata": {},
   "outputs": [
    {
     "data": {
      "text/plain": [
       "True"
      ]
     },
     "execution_count": 15,
     "metadata": {},
     "output_type": "execute_result"
    }
   ],
   "source": [
    "not True * False"
   ]
  },
  {
   "cell_type": "code",
   "execution_count": 16,
   "id": "b607d571-6b0b-46c3-aa21-991915167577",
   "metadata": {},
   "outputs": [
    {
     "data": {
      "text/plain": [
       "10"
      ]
     },
     "execution_count": 16,
     "metadata": {},
     "output_type": "execute_result"
    }
   ],
   "source": [
    "1+3*3"
   ]
  },
  {
   "cell_type": "code",
   "execution_count": 5,
   "id": "0d40e8bc-cdda-434a-bf0b-ea6841655500",
   "metadata": {},
   "outputs": [
    {
     "name": "stdout",
     "output_type": "stream",
     "text": [
      "        *  \n",
      "      * *  \n",
      "    * * *  \n",
      "  * * * *  \n",
      "* * * * *  \n"
     ]
    }
   ],
   "source": [
    "n=5\n",
    "k=2*n-2\n",
    "for i in range (0,n):\n",
    "    for j in range(0,k):\n",
    "        print(end=\" \")\n",
    "    k=k-2\n",
    "    for j in range(0,i+1):\n",
    "        print (\"*\",end=\" \")\n",
    "    print(\" \")"
   ]
  },
  {
   "cell_type": "code",
   "execution_count": 6,
   "id": "cc37833f-8cc8-4b8b-ad91-1804133e7adf",
   "metadata": {},
   "outputs": [
    {
     "name": "stdout",
     "output_type": "stream",
     "text": [
      "        * \n",
      "      * * \n",
      "    * * * \n",
      "  * * * * \n",
      "* * * * * \n"
     ]
    }
   ],
   "source": [
    "# This is the example of print simple reversed right angle pyramid pattern  \n",
    "rows = 5 \n",
    "k = 2 * rows - 2  \n",
    "for i in range(0, rows):  \n",
    "    for j in range(0, k):  \n",
    "        print(end=\" \")  \n",
    "    k = k - 2     \n",
    "    for j in range(0, i + 1):  \n",
    "        print(\"* \", end=\"\")  \n",
    "    print(\"\")  \n"
   ]
  },
  {
   "cell_type": "code",
   "execution_count": 8,
   "id": "907dc29c-e080-4b1b-a4b7-e081316861b0",
   "metadata": {},
   "outputs": [
    {
     "name": "stdout",
     "output_type": "stream",
     "text": [
      "        *   \n",
      "       *  *   \n",
      "      *  *  *   \n",
      "     *  *  *  *   \n",
      "    *  *  *  *  *   \n"
     ]
    }
   ],
   "source": [
    "m = (2 * n) - 2  \n",
    "for i in range(0, n):  \n",
    "    for j in range(0, m):  \n",
    "        print(end=\" \")  \n",
    "    m = m - 1 \n",
    "    for j in range(0, i + 1):   \n",
    "        print(\"* \", end=' ')  \n",
    "    print(\" \")  "
   ]
  },
  {
   "cell_type": "code",
   "execution_count": 9,
   "id": "480cacbb-9b3f-47c7-a884-fe9123b52e22",
   "metadata": {},
   "outputs": [],
   "source": [
    "lst_a = [1,2,3,4]\n",
    "lst_b = [1,2,3,4]"
   ]
  },
  {
   "cell_type": "code",
   "execution_count": 13,
   "id": "eb668750-6c70-41bb-bcf0-786922bc0dfa",
   "metadata": {},
   "outputs": [
    {
     "name": "stdout",
     "output_type": "stream",
     "text": [
      "139988518872384\n",
      "139988518953856\n"
     ]
    }
   ],
   "source": [
    "print(id(lst_a))\n",
    "print(id(lst_b))"
   ]
  },
  {
   "cell_type": "code",
   "execution_count": 12,
   "id": "cd789627-dd1a-4efe-98bf-397cf62e6f9c",
   "metadata": {},
   "outputs": [
    {
     "data": {
      "text/plain": [
       "False"
      ]
     },
     "execution_count": 12,
     "metadata": {},
     "output_type": "execute_result"
    }
   ],
   "source": [
    "lst_a is lst_b\n"
   ]
  },
  {
   "cell_type": "code",
   "execution_count": 14,
   "id": "b4077c9b-aeb7-4aa4-ae20-f803f84f5f68",
   "metadata": {},
   "outputs": [
    {
     "data": {
      "text/plain": [
       "True"
      ]
     },
     "execution_count": 14,
     "metadata": {},
     "output_type": "execute_result"
    }
   ],
   "source": [
    "lst_a is not lst_b"
   ]
  },
  {
   "cell_type": "code",
   "execution_count": 15,
   "id": "408b9b07-1e02-47d7-b026-4ba3245a6298",
   "metadata": {},
   "outputs": [
    {
     "data": {
      "text/plain": [
       "True"
      ]
     },
     "execution_count": 15,
     "metadata": {},
     "output_type": "execute_result"
    }
   ],
   "source": [
    "lst_a == lst_b"
   ]
  },
  {
   "cell_type": "code",
   "execution_count": 16,
   "id": "350856e5-fbd7-41a2-afdf-52c0346d37d0",
   "metadata": {},
   "outputs": [],
   "source": [
    "str1=\"Krish\""
   ]
  },
  {
   "cell_type": "code",
   "execution_count": 17,
   "id": "9582cdd2-2f57-4e9a-bac2-08b3caf9dd17",
   "metadata": {},
   "outputs": [
    {
     "data": {
      "text/plain": [
       "'K'"
      ]
     },
     "execution_count": 17,
     "metadata": {},
     "output_type": "execute_result"
    }
   ],
   "source": [
    "str1[0]"
   ]
  },
  {
   "cell_type": "code",
   "execution_count": 19,
   "id": "5cd702b0-ea7d-4ee6-a967-08a99cd653db",
   "metadata": {},
   "outputs": [
    {
     "ename": "TypeError",
     "evalue": "'str' object does not support item assignment",
     "output_type": "error",
     "traceback": [
      "\u001b[0;31m---------------------------------------------------------------------------\u001b[0m",
      "\u001b[0;31mTypeError\u001b[0m                                 Traceback (most recent call last)",
      "Cell \u001b[0;32mIn[19], line 1\u001b[0m\n\u001b[0;32m----> 1\u001b[0m \u001b[43mstr1\u001b[49m\u001b[43m[\u001b[49m\u001b[38;5;241;43m0\u001b[39;49m\u001b[43m]\u001b[49m\u001b[38;5;241m=\u001b[39m\u001b[38;5;124m'\u001b[39m\u001b[38;5;124mc\u001b[39m\u001b[38;5;124m'\u001b[39m  \u001b[38;5;66;03m## immutable\u001b[39;00m\n",
      "\u001b[0;31mTypeError\u001b[0m: 'str' object does not support item assignment"
     ]
    }
   ],
   "source": [
    "str1[0]='c'  ## immutable"
   ]
  },
  {
   "cell_type": "markdown",
   "id": "5579bb38-304f-4573-9903-da7b1d34a2d8",
   "metadata": {},
   "source": [
    "## Arithmentic Operations"
   ]
  },
  {
   "cell_type": "code",
   "execution_count": 28,
   "id": "cc17e2f9-a544-43e0-9a88-3db0ca6d6a6f",
   "metadata": {},
   "outputs": [
    {
     "name": "stdout",
     "output_type": "stream",
     "text": [
      "250\n",
      "35\n",
      "-15\n",
      "0\n",
      "2\n",
      "10\n",
      "0.4\n"
     ]
    }
   ],
   "source": [
    "a=25\n",
    "b=10\n",
    "print(b*a)\n",
    "print(b+a)\n",
    "print(b-a)\n",
    "print(b//a)\n",
    "print(a//b)\n",
    "print(b%a)\n",
    "print(b/a)"
   ]
  },
  {
   "cell_type": "code",
   "execution_count": 30,
   "id": "3f0cc5a1-a1e3-4cd4-ac54-545a84234a69",
   "metadata": {},
   "outputs": [
    {
     "data": {
      "text/plain": [
       "'0b1010'"
      ]
     },
     "execution_count": 30,
     "metadata": {},
     "output_type": "execute_result"
    }
   ],
   "source": [
    "var = 10\n",
    "bin(var)"
   ]
  },
  {
   "cell_type": "code",
   "execution_count": 31,
   "id": "8ea3142b-eb67-4fe7-9027-997997726528",
   "metadata": {},
   "outputs": [
    {
     "data": {
      "text/plain": [
       "-11"
      ]
     },
     "execution_count": 31,
     "metadata": {},
     "output_type": "execute_result"
    }
   ],
   "source": [
    "~var"
   ]
  },
  {
   "cell_type": "code",
   "execution_count": 32,
   "id": "dec27248-7a6b-4019-a1b7-f9f7058b1e9f",
   "metadata": {},
   "outputs": [
    {
     "data": {
      "text/plain": [
       "10"
      ]
     },
     "execution_count": 32,
     "metadata": {},
     "output_type": "execute_result"
    }
   ],
   "source": [
    "10 & 11\n"
   ]
  },
  {
   "cell_type": "code",
   "execution_count": 33,
   "id": "a65d07ce-5b8a-43aa-a281-f0053ba81bd9",
   "metadata": {},
   "outputs": [
    {
     "data": {
      "text/plain": [
       "10239"
      ]
     },
     "execution_count": 33,
     "metadata": {},
     "output_type": "execute_result"
    }
   ],
   "source": [
    "10110 | 1001\n"
   ]
  },
  {
   "cell_type": "code",
   "execution_count": 34,
   "id": "11c64b91-e771-4ac6-83de-fecab1b9f813",
   "metadata": {},
   "outputs": [
    {
     "data": {
      "text/plain": [
       "2"
      ]
     },
     "execution_count": 34,
     "metadata": {},
     "output_type": "execute_result"
    }
   ],
   "source": [
    "10 >> 2"
   ]
  },
  {
   "cell_type": "markdown",
   "id": "a14391ac-8062-4e77-b3ed-ff50c4316e0f",
   "metadata": {},
   "source": [
    "## Strings "
   ]
  },
  {
   "cell_type": "code",
   "execution_count": 36,
   "id": "3bfc0b98-b598-4717-9617-f9f023841da8",
   "metadata": {},
   "outputs": [
    {
     "name": "stdout",
     "output_type": "stream",
     "text": [
      "Welcome to the Data Science\n"
     ]
    }
   ],
   "source": [
    "str1='Welcome to the Data Science'\n",
    "print(str1)"
   ]
  },
  {
   "cell_type": "code",
   "execution_count": 37,
   "id": "480eac7c-ccb8-4b8e-8d9e-5987d0a2f929",
   "metadata": {},
   "outputs": [
    {
     "data": {
      "text/plain": [
       "str"
      ]
     },
     "execution_count": 37,
     "metadata": {},
     "output_type": "execute_result"
    }
   ],
   "source": [
    "type(str1)"
   ]
  },
  {
   "cell_type": "code",
   "execution_count": 38,
   "id": "2a6a9c3c-5b88-4a85-abc4-37852ebedd97",
   "metadata": {},
   "outputs": [
    {
     "data": {
      "text/plain": [
       "'W'"
      ]
     },
     "execution_count": 38,
     "metadata": {},
     "output_type": "execute_result"
    }
   ],
   "source": [
    "str1[0]"
   ]
  },
  {
   "cell_type": "code",
   "execution_count": 39,
   "id": "a589a054-0e72-4580-8ad8-40343bd2c250",
   "metadata": {},
   "outputs": [],
   "source": [
    "## we cannot change elements of strings. immutable"
   ]
  },
  {
   "cell_type": "code",
   "execution_count": 42,
   "id": "fe2a36ad-70ca-4125-9ef5-e9d7f84e18c0",
   "metadata": {},
   "outputs": [
    {
     "data": {
      "text/plain": [
       "'lcome to the Data Science'"
      ]
     },
     "execution_count": 42,
     "metadata": {},
     "output_type": "execute_result"
    }
   ],
   "source": [
    "str1[2:]"
   ]
  },
  {
   "cell_type": "code",
   "execution_count": 43,
   "id": "7b9e25e3-808c-4a36-8a2b-fbfed293545f",
   "metadata": {},
   "outputs": [
    {
     "data": {
      "text/plain": [
       "'me'"
      ]
     },
     "execution_count": 43,
     "metadata": {},
     "output_type": "execute_result"
    }
   ],
   "source": [
    "str1[5:7]"
   ]
  },
  {
   "cell_type": "code",
   "execution_count": 44,
   "id": "fadc69de-807f-4b31-8af1-9fd78244b3c5",
   "metadata": {},
   "outputs": [
    {
     "data": {
      "text/plain": [
       "'e'"
      ]
     },
     "execution_count": 44,
     "metadata": {},
     "output_type": "execute_result"
    }
   ],
   "source": [
    "str1[-1]"
   ]
  },
  {
   "cell_type": "code",
   "execution_count": 45,
   "id": "4ad0b0ff-bff9-4605-adba-0855f664632d",
   "metadata": {},
   "outputs": [
    {
     "data": {
      "text/plain": [
       "'Scie'"
      ]
     },
     "execution_count": 45,
     "metadata": {},
     "output_type": "execute_result"
    }
   ],
   "source": [
    "str1[-7:-3]"
   ]
  },
  {
   "cell_type": "code",
   "execution_count": 46,
   "id": "d18a5c14-3651-41b8-aafb-f786e04887ad",
   "metadata": {},
   "outputs": [
    {
     "data": {
      "text/plain": [
       "''"
      ]
     },
     "execution_count": 46,
     "metadata": {},
     "output_type": "execute_result"
    }
   ],
   "source": [
    "str1[-1:3]"
   ]
  },
  {
   "cell_type": "code",
   "execution_count": 47,
   "id": "671ea8d4-df2e-4360-913a-93945b236201",
   "metadata": {},
   "outputs": [
    {
     "data": {
      "text/plain": [
       "'Welcome to the Data Scienc'"
      ]
     },
     "execution_count": 47,
     "metadata": {},
     "output_type": "execute_result"
    }
   ],
   "source": [
    "str1[:-1]"
   ]
  },
  {
   "cell_type": "code",
   "execution_count": 48,
   "id": "2f1bf354-94ff-4352-849b-4bb583e556e5",
   "metadata": {},
   "outputs": [
    {
     "data": {
      "text/plain": [
       "'Welcome to the Data Science'"
      ]
     },
     "execution_count": 48,
     "metadata": {},
     "output_type": "execute_result"
    }
   ],
   "source": [
    "str1[:]"
   ]
  },
  {
   "cell_type": "code",
   "execution_count": 49,
   "id": "699b8ab3-6720-403e-958c-9b187f5b0983",
   "metadata": {},
   "outputs": [
    {
     "data": {
      "text/plain": [
       "'art'"
      ]
     },
     "execution_count": 49,
     "metadata": {},
     "output_type": "execute_result"
    }
   ],
   "source": [
    "name='Kartik'\n",
    "name[-5:4]"
   ]
  },
  {
   "cell_type": "code",
   "execution_count": 51,
   "id": "9de4582f-5853-44cc-9448-c26a15f3e9f5",
   "metadata": {},
   "outputs": [
    {
     "data": {
      "text/plain": [
       "'jiv'"
      ]
     },
     "execution_count": 51,
     "metadata": {},
     "output_type": "execute_result"
    }
   ],
   "source": [
    "n='jivan'\n",
    "n[-5:3]"
   ]
  },
  {
   "cell_type": "code",
   "execution_count": 52,
   "id": "67f81f7f-137c-474b-abe1-b8d1fdf0956f",
   "metadata": {},
   "outputs": [
    {
     "name": "stdout",
     "output_type": "stream",
     "text": [
      "Welcome to the Data Science\n"
     ]
    }
   ],
   "source": [
    "str1='Welcome to the Data Science'\n",
    "print(str1)"
   ]
  },
  {
   "cell_type": "code",
   "execution_count": 54,
   "id": "9422ce41-fd33-4eba-b6e2-2d1683f10b6e",
   "metadata": {},
   "outputs": [
    {
     "data": {
      "text/plain": [
       "'ecneicS ataD eht ot emocleW'"
      ]
     },
     "execution_count": 54,
     "metadata": {},
     "output_type": "execute_result"
    }
   ],
   "source": [
    "str1[::-1]"
   ]
  },
  {
   "cell_type": "code",
   "execution_count": 55,
   "id": "82ff8eaf-7f0e-469b-a415-e51fe561a468",
   "metadata": {},
   "outputs": [
    {
     "data": {
      "text/plain": [
       "'aba'"
      ]
     },
     "execution_count": 55,
     "metadata": {},
     "output_type": "execute_result"
    }
   ],
   "source": [
    "a='aba'\n",
    "a[::-1]"
   ]
  },
  {
   "cell_type": "code",
   "execution_count": 56,
   "id": "f8c2c435-d7d3-4add-8d86-386be5b236b7",
   "metadata": {},
   "outputs": [
    {
     "name": "stdout",
     "output_type": "stream",
     "text": [
      "Palindrome\n"
     ]
    }
   ],
   "source": [
    "if a==a[::-1]:\n",
    "    print(\"Palindrome\")"
   ]
  },
  {
   "cell_type": "code",
   "execution_count": 57,
   "id": "fdc11c74-5492-496f-af22-020df6b1c551",
   "metadata": {},
   "outputs": [
    {
     "data": {
      "text/plain": [
       "'sirk'"
      ]
     },
     "execution_count": 57,
     "metadata": {},
     "output_type": "execute_result"
    }
   ],
   "source": [
    "name='krish'\n",
    "name[3::-1]"
   ]
  },
  {
   "cell_type": "code",
   "execution_count": 63,
   "id": "aa7261cf-6d84-438a-925c-7681ae1f2552",
   "metadata": {},
   "outputs": [
    {
     "data": {
      "text/plain": [
       "'ecneicS'"
      ]
     },
     "execution_count": 63,
     "metadata": {},
     "output_type": "execute_result"
    }
   ],
   "source": [
    "course_name=\"Data Science Masters\"\n",
    "course_name[11:4:-1]"
   ]
  },
  {
   "cell_type": "code",
   "execution_count": 3,
   "id": "5734ab60-7fc7-4a05-8fe4-1623a0730cff",
   "metadata": {},
   "outputs": [
    {
     "data": {
      "text/plain": [
       "'Data Science Masters course'"
      ]
     },
     "execution_count": 3,
     "metadata": {},
     "output_type": "execute_result"
    }
   ],
   "source": [
    "course_name=\"Data Science Masters \"\n",
    "course_name + \"course\""
   ]
  },
  {
   "cell_type": "code",
   "execution_count": 4,
   "id": "18b51b86-debf-4656-81bd-e9216734303e",
   "metadata": {},
   "outputs": [
    {
     "data": {
      "text/plain": [
       "21"
      ]
     },
     "execution_count": 4,
     "metadata": {},
     "output_type": "execute_result"
    }
   ],
   "source": [
    "len (course_name)"
   ]
  },
  {
   "cell_type": "code",
   "execution_count": 6,
   "id": "44205d25-d1a5-411c-bcd8-561ed7ca42a2",
   "metadata": {},
   "outputs": [
    {
     "data": {
      "text/plain": [
       "9"
      ]
     },
     "execution_count": 6,
     "metadata": {},
     "output_type": "execute_result"
    }
   ],
   "source": [
    "course_name.find(\"n\")"
   ]
  },
  {
   "cell_type": "code",
   "execution_count": 7,
   "id": "235714cc-7135-4bca-bbf6-9a1406772ca9",
   "metadata": {},
   "outputs": [
    {
     "data": {
      "text/plain": [
       "3"
      ]
     },
     "execution_count": 7,
     "metadata": {},
     "output_type": "execute_result"
    }
   ],
   "source": [
    "course_name.find(\"a\",2,10)"
   ]
  },
  {
   "cell_type": "code",
   "execution_count": 9,
   "id": "54f0aa65-2871-42d3-b92a-eea54389faaf",
   "metadata": {},
   "outputs": [
    {
     "data": {
      "text/plain": [
       "-1"
      ]
     },
     "execution_count": 9,
     "metadata": {},
     "output_type": "execute_result"
    }
   ],
   "source": [
    "course_name.find(\"z\")"
   ]
  },
  {
   "cell_type": "code",
   "execution_count": 10,
   "id": "a6d9ec97-820b-479c-9194-20b53ad1ccd7",
   "metadata": {},
   "outputs": [
    {
     "data": {
      "text/plain": [
       "3"
      ]
     },
     "execution_count": 10,
     "metadata": {},
     "output_type": "execute_result"
    }
   ],
   "source": [
    "course_name.count(\"a\")"
   ]
  },
  {
   "cell_type": "code",
   "execution_count": 1,
   "id": "f3b80ec9-cf80-4b19-bff4-a437e449e84d",
   "metadata": {},
   "outputs": [],
   "source": [
    "## string split functions"
   ]
  },
  {
   "cell_type": "code",
   "execution_count": 3,
   "id": "888018e6-8c7a-4f91-b10d-51a119f534dc",
   "metadata": {},
   "outputs": [
    {
     "data": {
      "text/plain": [
       "['Data', 'Science', 'Masters']"
      ]
     },
     "execution_count": 3,
     "metadata": {},
     "output_type": "execute_result"
    }
   ],
   "source": [
    "course_name=\"Data Science Masters\"\n",
    "course_name.split(' ')"
   ]
  },
  {
   "cell_type": "code",
   "execution_count": 4,
   "id": "e241aa07-deee-4a9f-9b0a-34537799efac",
   "metadata": {},
   "outputs": [
    {
     "data": {
      "text/plain": [
       "['Data ', 'cience Masters']"
      ]
     },
     "execution_count": 4,
     "metadata": {},
     "output_type": "execute_result"
    }
   ],
   "source": [
    "course_name=\"Data Science Masters\"\n",
    "course_name.split('S')"
   ]
  },
  {
   "cell_type": "code",
   "execution_count": 5,
   "id": "8e4a05c8-3255-458f-a6fd-a779ac526db6",
   "metadata": {},
   "outputs": [
    {
     "data": {
      "text/plain": [
       "('Data ', 'S', 'cience Masters')"
      ]
     },
     "execution_count": 5,
     "metadata": {},
     "output_type": "execute_result"
    }
   ],
   "source": [
    "course_name.partition('S')"
   ]
  },
  {
   "cell_type": "code",
   "execution_count": 6,
   "id": "15463995-35f8-4c9f-a09f-cfe658bd899a",
   "metadata": {},
   "outputs": [],
   "source": [
    "## String Upper and Lower Case"
   ]
  },
  {
   "cell_type": "code",
   "execution_count": 7,
   "id": "0c9a54ac-6f9c-4fcb-8697-30c5e53db4ff",
   "metadata": {},
   "outputs": [
    {
     "data": {
      "text/plain": [
       "'DATA SCIENCE MASTERS'"
      ]
     },
     "execution_count": 7,
     "metadata": {},
     "output_type": "execute_result"
    }
   ],
   "source": [
    "course_name.upper()"
   ]
  },
  {
   "cell_type": "code",
   "execution_count": 8,
   "id": "bcfdbf97-e169-4a85-a875-08d747b302bd",
   "metadata": {},
   "outputs": [
    {
     "data": {
      "text/plain": [
       "'dATA sCIENCE mASTERS'"
      ]
     },
     "execution_count": 8,
     "metadata": {},
     "output_type": "execute_result"
    }
   ],
   "source": [
    "course_name.swapcase()"
   ]
  },
  {
   "cell_type": "code",
   "execution_count": 9,
   "id": "f3ab3bcd-8e39-48d7-b052-b3795b8a86a6",
   "metadata": {},
   "outputs": [
    {
     "data": {
      "text/plain": [
       "'data science masters'"
      ]
     },
     "execution_count": 9,
     "metadata": {},
     "output_type": "execute_result"
    }
   ],
   "source": [
    "course_name.lower()"
   ]
  },
  {
   "cell_type": "code",
   "execution_count": 10,
   "id": "ef4ee948-df00-44e6-bd08-08f887f5a36a",
   "metadata": {},
   "outputs": [
    {
     "data": {
      "text/plain": [
       "'Data Science Masters'"
      ]
     },
     "execution_count": 10,
     "metadata": {},
     "output_type": "execute_result"
    }
   ],
   "source": [
    "course_name.title()"
   ]
  },
  {
   "cell_type": "code",
   "execution_count": 12,
   "id": "dc758650-264e-4c7e-b4fd-a638217202e6",
   "metadata": {},
   "outputs": [],
   "source": [
    "k=1"
   ]
  },
  {
   "cell_type": "code",
   "execution_count": 13,
   "id": "41b49665-d527-4a19-88bd-d10324af0ca3",
   "metadata": {},
   "outputs": [
    {
     "name": "stdout",
     "output_type": "stream",
     "text": [
      "1\n"
     ]
    }
   ],
   "source": [
    "print(k)"
   ]
  },
  {
   "cell_type": "code",
   "execution_count": 14,
   "id": "db333e0c-afbd-41c5-a49f-92aefcc82b4e",
   "metadata": {},
   "outputs": [
    {
     "name": "stdout",
     "output_type": "stream",
     "text": [
      "This is hello\n"
     ]
    }
   ],
   "source": [
    "print(f\"This is hello\")"
   ]
  }
 ],
 "metadata": {
  "kernelspec": {
   "display_name": "Python 3 (ipykernel)",
   "language": "python",
   "name": "python3"
  },
  "language_info": {
   "codemirror_mode": {
    "name": "ipython",
    "version": 3
   },
   "file_extension": ".py",
   "mimetype": "text/x-python",
   "name": "python",
   "nbconvert_exporter": "python",
   "pygments_lexer": "ipython3",
   "version": "3.10.8"
  }
 },
 "nbformat": 4,
 "nbformat_minor": 5
}
