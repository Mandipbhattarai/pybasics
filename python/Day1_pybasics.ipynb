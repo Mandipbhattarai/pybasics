{
 "cells": [
  {
   "cell_type": "code",
   "execution_count": 1,
   "id": "68762cfb-ea2d-4039-b04e-3eaad233a0f8",
   "metadata": {},
   "outputs": [
    {
     "data": {
      "text/plain": [
       "2"
      ]
     },
     "execution_count": 1,
     "metadata": {},
     "output_type": "execute_result"
    }
   ],
   "source": [
    "1+1"
   ]
  },
  {
   "cell_type": "code",
   "execution_count": 2,
   "id": "abcd91c2-7e85-44bd-8720-ab7166bce9d6",
   "metadata": {},
   "outputs": [],
   "source": [
    "## this is a python learning project \n",
    "a=10"
   ]
  },
  {
   "cell_type": "code",
   "execution_count": 4,
   "id": "3a330d49-9ce7-4920-a240-a098344a20b8",
   "metadata": {},
   "outputs": [
    {
     "name": "stdout",
     "output_type": "stream",
     "text": [
      "10\n"
     ]
    }
   ],
   "source": [
    "\"\"\"\n",
    "for multiline comment \n",
    "\"\"\"\n",
    "print(a)"
   ]
  },
  {
   "cell_type": "markdown",
   "id": "f18c7de5-1050-48bc-a74a-2b95a0425e8e",
   "metadata": {},
   "source": [
    "## This is a markdown section. you can keep anything as a html view over here."
   ]
  },
  {
   "cell_type": "raw",
   "id": "ecb7f1b4-e2c2-463f-b10a-7ea467ae164b",
   "metadata": {},
   "source": [
    "print(10)"
   ]
  },
  {
   "cell_type": "code",
   "execution_count": 5,
   "id": "2900fd69-5019-44ca-a52d-fdb66c02fa9f",
   "metadata": {},
   "outputs": [
    {
     "name": "stdout",
     "output_type": "stream",
     "text": [
      "10\n"
     ]
    }
   ],
   "source": [
    "print(10)"
   ]
  },
  {
   "cell_type": "markdown",
   "id": "eefaf584-ef30-4322-9692-2f20c080b502",
   "metadata": {},
   "source": [
    "## Numbers\n"
   ]
  },
  {
   "cell_type": "code",
   "execution_count": 6,
   "id": "cca8ef1f-e20a-4cdb-a3bd-31420d775359",
   "metadata": {},
   "outputs": [
    {
     "data": {
      "text/plain": [
       "4"
      ]
     },
     "execution_count": 6,
     "metadata": {},
     "output_type": "execute_result"
    }
   ],
   "source": [
    "1+3"
   ]
  },
  {
   "cell_type": "code",
   "execution_count": 7,
   "id": "14267444-0fb9-420e-8e0b-0a04516f80a0",
   "metadata": {},
   "outputs": [
    {
     "name": "stdout",
     "output_type": "stream",
     "text": [
      "4\n"
     ]
    }
   ],
   "source": [
    "print(1+3)"
   ]
  },
  {
   "cell_type": "markdown",
   "id": "11fc4012-ea82-4621-8a7b-9ca92ba0a18f",
   "metadata": {},
   "source": [
    "### The only difference is that we can see output console after printing which we cannot after not using print"
   ]
  },
  {
   "cell_type": "markdown",
   "id": "1f853365-1172-4f06-b4f6-a2b99840fa3c",
   "metadata": {},
   "source": [
    "## Variables assigning"
   ]
  },
  {
   "cell_type": "code",
   "execution_count": 8,
   "id": "c9a587f4-e34e-4345-818d-55e8e8daa483",
   "metadata": {},
   "outputs": [
    {
     "name": "stdout",
     "output_type": "stream",
     "text": [
      "Hello there this is an example \n",
      " wow\n"
     ]
    }
   ],
   "source": [
    "print(\"Hello there this is an example \\n wow\")"
   ]
  },
  {
   "cell_type": "code",
   "execution_count": 9,
   "id": "378d05d8-4dbc-420f-829b-cdd2f2ec982b",
   "metadata": {},
   "outputs": [],
   "source": [
    "Name = \"AnyBoy\"\n",
    "Company = \"New Company\""
   ]
  },
  {
   "cell_type": "code",
   "execution_count": 10,
   "id": "725c1926-c419-4660-a073-973cec2c3de4",
   "metadata": {},
   "outputs": [
    {
     "data": {
      "text/plain": [
       "'AnyBoy'"
      ]
     },
     "execution_count": 10,
     "metadata": {},
     "output_type": "execute_result"
    }
   ],
   "source": [
    "Name"
   ]
  },
  {
   "cell_type": "code",
   "execution_count": null,
   "id": "7496e847-5ab1-41a3-9786-d7ddaf233417",
   "metadata": {},
   "outputs": [
    {
     "data": {
      "text/plain": [
       "'New Company'"
      ]
     },
     "execution_count": 11,
     "metadata": {},
     "output_type": "execute_result"
    }
   ],
   "source": [
    "Company"
   ]
  },
  {
   "cell_type": "markdown",
   "id": "19c9ed05-58cb-4908-a62f-b4a35cd0b55b",
   "metadata": {},
   "source": [
    "### type "
   ]
  },
  {
   "cell_type": "code",
   "execution_count": 12,
   "id": "d997dcb5-a4e7-4478-aa6f-e2b5a3c8b0a2",
   "metadata": {},
   "outputs": [
    {
     "data": {
      "text/plain": [
       "str"
      ]
     },
     "execution_count": 12,
     "metadata": {},
     "output_type": "execute_result"
    }
   ],
   "source": [
    "type(\"\")"
   ]
  },
  {
   "cell_type": "code",
   "execution_count": 13,
   "id": "a60853fb-f3f7-4259-84a4-99ff6b4f1d31",
   "metadata": {},
   "outputs": [
    {
     "data": {
      "text/plain": [
       "int"
      ]
     },
     "execution_count": 13,
     "metadata": {},
     "output_type": "execute_result"
    }
   ],
   "source": [
    "type(10)"
   ]
  },
  {
   "cell_type": "code",
   "execution_count": 14,
   "id": "a53d661d-66c3-4950-94aa-579023e7b510",
   "metadata": {},
   "outputs": [],
   "source": [
    "point=2.111111111111"
   ]
  },
  {
   "cell_type": "code",
   "execution_count": 15,
   "id": "954082a4-2faf-4864-9559-1e6271b1c95b",
   "metadata": {},
   "outputs": [
    {
     "data": {
      "text/plain": [
       "float"
      ]
     },
     "execution_count": 15,
     "metadata": {},
     "output_type": "execute_result"
    }
   ],
   "source": [
    "type(point)"
   ]
  },
  {
   "cell_type": "code",
   "execution_count": 16,
   "id": "3c959b2b-9c2c-4c78-b1db-c421f407e7c3",
   "metadata": {},
   "outputs": [
    {
     "ename": "SyntaxError",
     "evalue": "invalid decimal literal (1922063087.py, line 2)",
     "output_type": "error",
     "traceback": [
      "\u001b[0;36m  Cell \u001b[0;32mIn[16], line 2\u001b[0;36m\u001b[0m\n\u001b[0;31m    1a\u001b[0m\n\u001b[0m    ^\u001b[0m\n\u001b[0;31mSyntaxError\u001b[0m\u001b[0;31m:\u001b[0m invalid decimal literal\n"
     ]
    }
   ],
   "source": [
    "## bad way\n",
    "1a \n",
    "3answer"
   ]
  },
  {
   "cell_type": "code",
   "execution_count": 17,
   "id": "0a87888a-9645-4e68-befc-a00d72f39672",
   "metadata": {},
   "outputs": [],
   "source": [
    "number1 =23"
   ]
  },
  {
   "cell_type": "code",
   "execution_count": 21,
   "id": "7a084c4d-1efe-4c20-a4d2-6352eec2b706",
   "metadata": {},
   "outputs": [
    {
     "name": "stdout",
     "output_type": "stream",
     "text": [
      "New\n",
      "old\n"
     ]
    }
   ],
   "source": [
    " ## Variables are case sensitive \n",
    "company='New'\n",
    "Company ='old'\n",
    "print(company)\n",
    "print(Company)"
   ]
  },
  {
   "cell_type": "code",
   "execution_count": 23,
   "id": "f45a6322-b04d-4d4e-8e1b-c61c9e69b1de",
   "metadata": {},
   "outputs": [
    {
     "data": {
      "text/plain": [
       "'\\nint, float, len, complex,bool, str,return, yield\\n'"
      ]
     },
     "execution_count": 23,
     "metadata": {},
     "output_type": "execute_result"
    }
   ],
   "source": [
    "## Reserved Keywords\n",
    "'''\n",
    "int, float, len, complex,bool, str,return, yield\n",
    "'''"
   ]
  },
  {
   "cell_type": "code",
   "execution_count": 25,
   "id": "6e83688e-375c-4136-b1f6-133b09f9c11e",
   "metadata": {},
   "outputs": [
    {
     "data": {
      "text/plain": [
       "False"
      ]
     },
     "execution_count": 25,
     "metadata": {},
     "output_type": "execute_result"
    }
   ],
   "source": [
    "True and False"
   ]
  },
  {
   "cell_type": "code",
   "execution_count": 26,
   "id": "572596f5-1036-4b07-8388-3e545f8ee89b",
   "metadata": {},
   "outputs": [
    {
     "data": {
      "text/plain": [
       "True"
      ]
     },
     "execution_count": 26,
     "metadata": {},
     "output_type": "execute_result"
    }
   ],
   "source": [
    "True or False"
   ]
  },
  {
   "cell_type": "code",
   "execution_count": 27,
   "id": "aae2da5e-3b82-4b36-938b-06c58a17b8bc",
   "metadata": {},
   "outputs": [
    {
     "data": {
      "text/plain": [
       "True"
      ]
     },
     "execution_count": 27,
     "metadata": {},
     "output_type": "execute_result"
    }
   ],
   "source": [
    "not False"
   ]
  },
  {
   "cell_type": "code",
   "execution_count": 29,
   "id": "fab4c537-c4df-4aa7-b578-53bd2fe61ecc",
   "metadata": {},
   "outputs": [
    {
     "name": "stdout",
     "output_type": "stream",
     "text": [
      "True\n"
     ]
    }
   ],
   "source": [
    "a=1\n",
    "if(bool(a)==True):\n",
    "    print('True')"
   ]
  },
  {
   "cell_type": "markdown",
   "id": "d8178789-b9f8-4c85-b796-5ac9703e0256",
   "metadata": {},
   "source": [
    "#### This is typecasting section"
   ]
  },
  {
   "cell_type": "code",
   "execution_count": 30,
   "id": "9a42972d-0fd3-41ff-9edd-21f0bb26a53d",
   "metadata": {},
   "outputs": [
    {
     "data": {
      "text/plain": [
       "'10'"
      ]
     },
     "execution_count": 30,
     "metadata": {},
     "output_type": "execute_result"
    }
   ],
   "source": [
    "str(10)"
   ]
  },
  {
   "cell_type": "code",
   "execution_count": 31,
   "id": "39762efd-9181-44d8-a47a-af3e74512d7a",
   "metadata": {},
   "outputs": [
    {
     "data": {
      "text/plain": [
       "23"
      ]
     },
     "execution_count": 31,
     "metadata": {},
     "output_type": "execute_result"
    }
   ],
   "source": [
    "int ('23')"
   ]
  },
  {
   "cell_type": "code",
   "execution_count": 32,
   "id": "ae17b7c6-f554-49f7-8254-3bf209aa2629",
   "metadata": {},
   "outputs": [
    {
     "data": {
      "text/plain": [
       "int"
      ]
     },
     "execution_count": 32,
     "metadata": {},
     "output_type": "execute_result"
    }
   ],
   "source": [
    "type(int('23'))"
   ]
  },
  {
   "cell_type": "code",
   "execution_count": 33,
   "id": "9a1dbf92-99ac-462d-88cc-e7a569485dec",
   "metadata": {},
   "outputs": [
    {
     "ename": "ValueError",
     "evalue": "invalid literal for int() with base 10: 'abcd'",
     "output_type": "error",
     "traceback": [
      "\u001b[0;31m---------------------------------------------------------------------------\u001b[0m",
      "\u001b[0;31mValueError\u001b[0m                                Traceback (most recent call last)",
      "Cell \u001b[0;32mIn[33], line 1\u001b[0m\n\u001b[0;32m----> 1\u001b[0m \u001b[38;5;28;43mint\u001b[39;49m\u001b[43m(\u001b[49m\u001b[38;5;124;43m'\u001b[39;49m\u001b[38;5;124;43mabcd\u001b[39;49m\u001b[38;5;124;43m'\u001b[39;49m\u001b[43m)\u001b[49m\n",
      "\u001b[0;31mValueError\u001b[0m: invalid literal for int() with base 10: 'abcd'"
     ]
    }
   ],
   "source": [
    "int('abcd')"
   ]
  },
  {
   "cell_type": "markdown",
   "id": "38350bf8-94f9-4b2c-a066-d804b5c9327b",
   "metadata": {},
   "source": [
    "### Dynamic Typing "
   ]
  },
  {
   "cell_type": "code",
   "execution_count": 34,
   "id": "3c147187-1fb1-44ad-be50-7ac66bc81d74",
   "metadata": {},
   "outputs": [],
   "source": [
    "a=12\n",
    "str1=\"Krishh\"\n",
    "a=\"var\""
   ]
  },
  {
   "cell_type": "code",
   "execution_count": 35,
   "id": "24d5261f-f567-44f0-bb9c-3c4e7713edd7",
   "metadata": {},
   "outputs": [
    {
     "name": "stdout",
     "output_type": "stream",
     "text": [
      "<class 'str'>\n"
     ]
    }
   ],
   "source": [
    "print(type(a))"
   ]
  },
  {
   "cell_type": "code",
   "execution_count": 36,
   "id": "fe304778-7d21-4ab6-bd4a-5b66c6974e48",
   "metadata": {},
   "outputs": [
    {
     "data": {
      "text/plain": [
       "1"
      ]
     },
     "execution_count": 36,
     "metadata": {},
     "output_type": "execute_result"
    }
   ],
   "source": [
    "int(1.54)"
   ]
  },
  {
   "cell_type": "code",
   "execution_count": null,
   "id": "ade64a6a-5d09-4f59-ae78-0a2774c653e7",
   "metadata": {},
   "outputs": [],
   "source": [
    "## concatenation between different types"
   ]
  },
  {
   "cell_type": "code",
   "execution_count": 37,
   "id": "85dc424e-2281-4b2d-8d52-d46617bfdefa",
   "metadata": {},
   "outputs": [
    {
     "data": {
      "text/plain": [
       "'11'"
      ]
     },
     "execution_count": 37,
     "metadata": {},
     "output_type": "execute_result"
    }
   ],
   "source": [
    "\"1\" + \"1\""
   ]
  },
  {
   "cell_type": "code",
   "execution_count": 38,
   "id": "70007448-1308-4f9a-928c-e81b1df074cb",
   "metadata": {},
   "outputs": [
    {
     "ename": "TypeError",
     "evalue": "unsupported operand type(s) for +: 'int' and 'str'",
     "output_type": "error",
     "traceback": [
      "\u001b[0;31m---------------------------------------------------------------------------\u001b[0m",
      "\u001b[0;31mTypeError\u001b[0m                                 Traceback (most recent call last)",
      "Cell \u001b[0;32mIn[38], line 1\u001b[0m\n\u001b[0;32m----> 1\u001b[0m \u001b[38;5;28;43mint\u001b[39;49m\u001b[43m(\u001b[49m\u001b[38;5;124;43m\"\u001b[39;49m\u001b[38;5;124;43m1\u001b[39;49m\u001b[38;5;124;43m\"\u001b[39;49m\u001b[43m)\u001b[49m\u001b[43m \u001b[49m\u001b[38;5;241;43m+\u001b[39;49m\u001b[38;5;124;43m\"\u001b[39;49m\u001b[38;5;124;43m1\u001b[39;49m\u001b[38;5;124;43m\"\u001b[39;49m\n",
      "\u001b[0;31mTypeError\u001b[0m: unsupported operand type(s) for +: 'int' and 'str'"
     ]
    }
   ],
   "source": [
    "int(\"1\") +\"1\""
   ]
  },
  {
   "cell_type": "code",
   "execution_count": 39,
   "id": "b2683ee9-b124-46b7-821f-3c8020eb224d",
   "metadata": {},
   "outputs": [],
   "source": [
    "## Note: Concatenation cannot happen in different data types"
   ]
  },
  {
   "cell_type": "code",
   "execution_count": 40,
   "id": "e7711170-a11e-4d13-844e-9f6d569f6e12",
   "metadata": {},
   "outputs": [
    {
     "ename": "TypeError",
     "evalue": "can't multiply sequence by non-int of type 'str'",
     "output_type": "error",
     "traceback": [
      "\u001b[0;31m---------------------------------------------------------------------------\u001b[0m",
      "\u001b[0;31mTypeError\u001b[0m                                 Traceback (most recent call last)",
      "Cell \u001b[0;32mIn[40], line 1\u001b[0m\n\u001b[0;32m----> 1\u001b[0m \u001b[38;5;124;43m\"\u001b[39;49m\u001b[38;5;124;43m1\u001b[39;49m\u001b[38;5;124;43m\"\u001b[39;49m\u001b[43m \u001b[49m\u001b[38;5;241;43m*\u001b[39;49m\u001b[43m \u001b[49m\u001b[38;5;124;43m\"\u001b[39;49m\u001b[38;5;124;43m1\u001b[39;49m\u001b[38;5;124;43m\"\u001b[39;49m\n",
      "\u001b[0;31mTypeError\u001b[0m: can't multiply sequence by non-int of type 'str'"
     ]
    }
   ],
   "source": [
    "\"1\" * \"1\""
   ]
  },
  {
   "cell_type": "code",
   "execution_count": 41,
   "id": "657afd31-7df0-4f13-838c-c6c30d13b763",
   "metadata": {},
   "outputs": [
    {
     "data": {
      "text/plain": [
       "'1111111111111111111111111111111111111111111111111111111111111111111111111111111111111111111111111111'"
      ]
     },
     "execution_count": 41,
     "metadata": {},
     "output_type": "execute_result"
    }
   ],
   "source": [
    "\"1\" * 100"
   ]
  }
 ],
 "metadata": {
  "kernelspec": {
   "display_name": "Python 3 (ipykernel)",
   "language": "python",
   "name": "python3"
  },
  "language_info": {
   "codemirror_mode": {
    "name": "ipython",
    "version": 3
   },
   "file_extension": ".py",
   "mimetype": "text/x-python",
   "name": "python",
   "nbconvert_exporter": "python",
   "pygments_lexer": "ipython3",
   "version": "3.10.8"
  }
 },
 "nbformat": 4,
 "nbformat_minor": 5
}
