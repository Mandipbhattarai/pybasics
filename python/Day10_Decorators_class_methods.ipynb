{
 "cells": [
  {
   "cell_type": "markdown",
   "id": "ce66873f-9967-46c5-82b8-a17bec61315c",
   "metadata": {},
   "source": [
    "## Decorators"
   ]
  },
  {
   "cell_type": "code",
   "execution_count": 1,
   "id": "23455160-9c68-4208-95a7-24fe63ba053a",
   "metadata": {},
   "outputs": [],
   "source": [
    "def test():\n",
    "    print(\"this is the start of this function\")\n",
    "    print(4+5)\n",
    "    print(\"this is the end of this function\")"
   ]
  },
  {
   "cell_type": "code",
   "execution_count": 2,
   "id": "b7a677a0-33fd-4dd3-84cc-7a575508bf44",
   "metadata": {},
   "outputs": [
    {
     "name": "stdout",
     "output_type": "stream",
     "text": [
      "this is the start of this function\n",
      "9\n",
      "this is the end of this function\n"
     ]
    }
   ],
   "source": [
    "test()"
   ]
  },
  {
   "cell_type": "code",
   "execution_count": 3,
   "id": "a7649d96-816b-4f38-b01b-b7ededbcbe80",
   "metadata": {},
   "outputs": [],
   "source": [
    "def deco(func):\n",
    "    def inner_deco():\n",
    "        print(\"this is the start of this function\")\n",
    "        func()\n",
    "        print(\"this is the end of this function\")\n",
    "    return inner_deco"
   ]
  },
  {
   "cell_type": "code",
   "execution_count": 8,
   "id": "1916b85a-aa8e-46ed-9684-ef1f915f0813",
   "metadata": {},
   "outputs": [],
   "source": [
    "@deco\n",
    "def test1():\n",
    "    print(4+5)"
   ]
  },
  {
   "cell_type": "code",
   "execution_count": 9,
   "id": "db0ed6e3-f713-4f5f-90bc-b44c32eb9411",
   "metadata": {},
   "outputs": [
    {
     "name": "stdout",
     "output_type": "stream",
     "text": [
      "this is the start of this function\n",
      "9\n",
      "this is the end of this function\n"
     ]
    }
   ],
   "source": [
    "test1()"
   ]
  },
  {
   "cell_type": "code",
   "execution_count": 21,
   "id": "847dc263-afbe-4783-95fe-3b1a8bd4d4b9",
   "metadata": {},
   "outputs": [],
   "source": [
    "import time\n",
    "def timer_test(func):\n",
    "    def timer_test_inner():\n",
    "        start=time.time()\n",
    "        func()\n",
    "        end=time.time()\n",
    "        print(start-end)\n",
    "    return timer_test_inner"
   ]
  },
  {
   "cell_type": "code",
   "execution_count": 22,
   "id": "158274f9-8d77-4501-a280-45b26eedadb0",
   "metadata": {},
   "outputs": [],
   "source": [
    "@timer_test\n",
    "def test2():\n",
    "    print(5+3)"
   ]
  },
  {
   "cell_type": "code",
   "execution_count": 23,
   "id": "51bc4392-cb15-40b8-81de-00a72e0f95d3",
   "metadata": {},
   "outputs": [
    {
     "name": "stdout",
     "output_type": "stream",
     "text": [
      "8\n",
      "-4.9591064453125e-05\n"
     ]
    }
   ],
   "source": [
    "test2()"
   ]
  },
  {
   "cell_type": "code",
   "execution_count": 29,
   "id": "b3ab7484-4e32-4b44-959f-efd49ebc822b",
   "metadata": {},
   "outputs": [],
   "source": [
    "@timer_test\n",
    "def test3():\n",
    "    for i in range(1000000):\n",
    "        pass"
   ]
  },
  {
   "cell_type": "code",
   "execution_count": 30,
   "id": "882a6f6d-f237-4273-a883-811585f65f60",
   "metadata": {},
   "outputs": [
    {
     "name": "stdout",
     "output_type": "stream",
     "text": [
      "-0.025700092315673828\n"
     ]
    }
   ],
   "source": [
    "test3()"
   ]
  },
  {
   "cell_type": "code",
   "execution_count": 6,
   "id": "984bd0e7-2891-4807-a00b-82e0a7390cf6",
   "metadata": {},
   "outputs": [],
   "source": [
    "\n",
    "def fun1(test1):\n",
    "    def func1_inner():\n",
    "        print(\"this is func1\")\n",
    "        test1()\n",
    "        print(\"this is func1 end\")\n",
    "    return func1_inner"
   ]
  },
  {
   "cell_type": "code",
   "execution_count": 9,
   "id": "b3ef81ac-19bc-4bfc-9e03-b845e3768d1c",
   "metadata": {},
   "outputs": [],
   "source": [
    "@fun1\n",
    "def test1():\n",
    "    print(\"Hello World!\")"
   ]
  },
  {
   "cell_type": "code",
   "execution_count": 10,
   "id": "815e8e59-a36e-4165-bc52-7cb545985a53",
   "metadata": {},
   "outputs": [
    {
     "name": "stdout",
     "output_type": "stream",
     "text": [
      "this is func1\n",
      "Hello World!\n",
      "this is func1 end\n"
     ]
    }
   ],
   "source": [
    "test1()"
   ]
  },
  {
   "cell_type": "code",
   "execution_count": 11,
   "id": "37307528-e293-4bcf-aab1-ebe74a2e909c",
   "metadata": {},
   "outputs": [],
   "source": [
    "@fun1\n",
    "def test2():\n",
    "    print(\"i am learning decorators\")"
   ]
  },
  {
   "cell_type": "code",
   "execution_count": 12,
   "id": "119bb7d5-9b6d-4c60-99ae-b9929f61bb82",
   "metadata": {},
   "outputs": [
    {
     "name": "stdout",
     "output_type": "stream",
     "text": [
      "this is func1\n",
      "i am learning decorators\n",
      "this is func1 end\n"
     ]
    }
   ],
   "source": [
    "test2()"
   ]
  },
  {
   "cell_type": "markdown",
   "id": "6e6d1052-12b9-427b-ae48-0719f591b2cb",
   "metadata": {},
   "source": [
    "## CLASS METHODS"
   ]
  },
  {
   "cell_type": "code",
   "execution_count": 26,
   "id": "4cd93e1d-00d5-47ec-9b92-fb1e140b3efe",
   "metadata": {},
   "outputs": [],
   "source": [
    "class pwskills:\n",
    "    def __init__(self,name,email):\n",
    "        self.name=name\n",
    "        self.email=email\n",
    "    \n",
    "    \n",
    "    def student_details(self):\n",
    "        print(self.name,\"\\n\",self.email)"
   ]
  },
  {
   "cell_type": "code",
   "execution_count": 27,
   "id": "46c33a2b-d108-4a49-b2bf-cfabd12ab64e",
   "metadata": {},
   "outputs": [],
   "source": [
    "pw = pwskills(\"sudh\",\"sudh@gmail.com\")"
   ]
  },
  {
   "cell_type": "code",
   "execution_count": 28,
   "id": "98f9e25e-7332-48c6-aef0-57238d1aa29d",
   "metadata": {},
   "outputs": [
    {
     "data": {
      "text/plain": [
       "'sudh'"
      ]
     },
     "execution_count": 28,
     "metadata": {},
     "output_type": "execute_result"
    }
   ],
   "source": [
    "pw.name"
   ]
  },
  {
   "cell_type": "code",
   "execution_count": 29,
   "id": "853310a1-056a-45ce-9d21-77f89c54bd2b",
   "metadata": {},
   "outputs": [
    {
     "data": {
      "text/plain": [
       "'sudh@gmail.com'"
      ]
     },
     "execution_count": 29,
     "metadata": {},
     "output_type": "execute_result"
    }
   ],
   "source": [
    "pw.email"
   ]
  },
  {
   "cell_type": "code",
   "execution_count": 30,
   "id": "9fcc28c4-899e-4bd5-a379-1e7aea0321d0",
   "metadata": {},
   "outputs": [
    {
     "name": "stdout",
     "output_type": "stream",
     "text": [
      "sudh \n",
      " sudh@gmail.com\n"
     ]
    }
   ],
   "source": [
    "pw.student_details()"
   ]
  },
  {
   "cell_type": "code",
   "execution_count": 31,
   "id": "e59808f8-9eed-4f4c-acac-ccafcb06b0d3",
   "metadata": {},
   "outputs": [],
   "source": [
    "class pwskills1:\n",
    "    def __init__(self,name,email):\n",
    "        self.name=name\n",
    "        self.email=email\n",
    "    \n",
    "    @classmethod\n",
    "    def details(cls,name,email):\n",
    "        return cls(name,email)\n",
    "    \n",
    "    def student_details(self):\n",
    "        print(self.name,\"\\n\",self.email)"
   ]
  },
  {
   "cell_type": "code",
   "execution_count": 32,
   "id": "11203796-ef18-4653-9984-3e57beca460b",
   "metadata": {},
   "outputs": [],
   "source": [
    "pw1=pwskills1.details(\"mohan\",'mohan@gmail.com')"
   ]
  },
  {
   "cell_type": "code",
   "execution_count": 34,
   "id": "075a6a59-7107-4ccc-91b1-77c3c4fd7031",
   "metadata": {},
   "outputs": [
    {
     "data": {
      "text/plain": [
       "'mohan'"
      ]
     },
     "execution_count": 34,
     "metadata": {},
     "output_type": "execute_result"
    }
   ],
   "source": [
    "pw1.name"
   ]
  },
  {
   "cell_type": "code",
   "execution_count": 35,
   "id": "4653e86c-58a8-497d-b105-1809c394185d",
   "metadata": {},
   "outputs": [
    {
     "data": {
      "text/plain": [
       "'mohan@gmail.com'"
      ]
     },
     "execution_count": 35,
     "metadata": {},
     "output_type": "execute_result"
    }
   ],
   "source": [
    "pw1.email"
   ]
  },
  {
   "cell_type": "code",
   "execution_count": 40,
   "id": "7e18840a-8769-4cd1-9f00-7b57abf658e9",
   "metadata": {},
   "outputs": [],
   "source": [
    "class pwskills2:\n",
    "    mobile_number=23402940234\n",
    "    def __init__(self,name,email):\n",
    "        self.name=name\n",
    "        self.email=email\n",
    "    \n",
    "    @classmethod\n",
    "    def details(cls,name,email):\n",
    "        return cls(name,email)\n",
    "    \n",
    "    def student_details(self):\n",
    "        print(self.name,\"\\n\",self.email,'\\n',pwskills2.mobile_number)"
   ]
  },
  {
   "cell_type": "code",
   "execution_count": 41,
   "id": "5f1de65a-c7c0-4f4c-82db-52f0deb3dfc6",
   "metadata": {},
   "outputs": [
    {
     "data": {
      "text/plain": [
       "23402940234"
      ]
     },
     "execution_count": 41,
     "metadata": {},
     "output_type": "execute_result"
    }
   ],
   "source": [
    "pwskills2.mobile_number"
   ]
  },
  {
   "cell_type": "code",
   "execution_count": 42,
   "id": "8034cb59-078e-49e1-a30f-6047714f4148",
   "metadata": {},
   "outputs": [],
   "source": [
    "pw2=pwskills2(\"sohan\",\"sohan@gmail.com\")"
   ]
  },
  {
   "cell_type": "code",
   "execution_count": 43,
   "id": "8c8deb0e-40bb-42c3-8c79-6afcab880bde",
   "metadata": {},
   "outputs": [
    {
     "data": {
      "text/plain": [
       "23402940234"
      ]
     },
     "execution_count": 43,
     "metadata": {},
     "output_type": "execute_result"
    }
   ],
   "source": [
    "pw2.mobile_number"
   ]
  },
  {
   "cell_type": "code",
   "execution_count": 44,
   "id": "e8c705ab-dc30-4fa9-b2ea-b55583073031",
   "metadata": {},
   "outputs": [
    {
     "data": {
      "text/plain": [
       "'sohan'"
      ]
     },
     "execution_count": 44,
     "metadata": {},
     "output_type": "execute_result"
    }
   ],
   "source": [
    "pw2.name"
   ]
  },
  {
   "cell_type": "code",
   "execution_count": 45,
   "id": "93b78ec5-163b-4877-97b8-099c4fe791fd",
   "metadata": {},
   "outputs": [
    {
     "data": {
      "text/plain": [
       "'sohan@gmail.com'"
      ]
     },
     "execution_count": 45,
     "metadata": {},
     "output_type": "execute_result"
    }
   ],
   "source": [
    "pw2.email"
   ]
  },
  {
   "cell_type": "code",
   "execution_count": 46,
   "id": "40feda3e-6ce4-4507-81df-16ad88ead366",
   "metadata": {},
   "outputs": [
    {
     "name": "stdout",
     "output_type": "stream",
     "text": [
      "sohan \n",
      " sohan@gmail.com \n",
      " 23402940234\n"
     ]
    }
   ],
   "source": [
    "pw2.student_details()"
   ]
  },
  {
   "cell_type": "code",
   "execution_count": 60,
   "id": "9745b2d3-f356-4ea7-b01c-47232586183b",
   "metadata": {},
   "outputs": [],
   "source": [
    "class pwskills2:\n",
    "    mobile_number=23402940234\n",
    "    def __init__(self,name,email):\n",
    "        self.name=name\n",
    "        self.email=email\n",
    "    @classmethod\n",
    "    def change_number(cls,mobile):\n",
    "        pwskills2.mobile_number=mobile\n",
    "    \n",
    "    @classmethod\n",
    "    def details(cls,name,email):\n",
    "        return cls(name,email)\n",
    "    \n",
    "    def student_details(self):\n",
    "        print(self.name,\"\\n\",self.email,'\\n',pwskills2.mobile_number)"
   ]
  },
  {
   "cell_type": "code",
   "execution_count": 61,
   "id": "0ab8e72a-8c88-45b9-8fa4-d7af6230c820",
   "metadata": {},
   "outputs": [
    {
     "data": {
      "text/plain": [
       "283402"
      ]
     },
     "execution_count": 61,
     "metadata": {},
     "output_type": "execute_result"
    }
   ],
   "source": [
    "pwskills.mobile_number"
   ]
  },
  {
   "cell_type": "code",
   "execution_count": 62,
   "id": "13083157-b062-4895-aab5-344536ac6d16",
   "metadata": {},
   "outputs": [],
   "source": [
    "pwskills2.change_number(283402)"
   ]
  },
  {
   "cell_type": "code",
   "execution_count": 63,
   "id": "43c06a4e-e0f1-498e-b1d2-bd4f527a162e",
   "metadata": {},
   "outputs": [
    {
     "data": {
      "text/plain": [
       "283402"
      ]
     },
     "execution_count": 63,
     "metadata": {},
     "output_type": "execute_result"
    }
   ],
   "source": [
    "pwskills2.mobile_number"
   ]
  },
  {
   "cell_type": "code",
   "execution_count": 64,
   "id": "c3aacee2-97e2-4769-ad43-8205fc2d9364",
   "metadata": {},
   "outputs": [],
   "source": [
    "pw=pwskills2('mohan','mohan@gmail.com')"
   ]
  },
  {
   "cell_type": "code",
   "execution_count": 65,
   "id": "0446b27f-1e59-4e01-9d5f-87eeb41302b8",
   "metadata": {},
   "outputs": [],
   "source": [
    "pwskills2.change_number(283402)"
   ]
  },
  {
   "cell_type": "code",
   "execution_count": 66,
   "id": "da0a037d-57db-4f9b-84d0-f93a0617e643",
   "metadata": {},
   "outputs": [
    {
     "data": {
      "text/plain": [
       "283402"
      ]
     },
     "execution_count": 66,
     "metadata": {},
     "output_type": "execute_result"
    }
   ],
   "source": [
    "pwskills2.mobile_number"
   ]
  },
  {
   "cell_type": "code",
   "execution_count": 67,
   "id": "dde1dc2b-2130-4068-868e-56d6a61da164",
   "metadata": {},
   "outputs": [],
   "source": [
    "pw=pwskills2('mohan','mohan@gmail.com')"
   ]
  },
  {
   "cell_type": "code",
   "execution_count": 69,
   "id": "13147488-404d-4871-949f-33e11b21a66e",
   "metadata": {},
   "outputs": [],
   "source": [
    "pw.change_number(3499324)"
   ]
  },
  {
   "cell_type": "code",
   "execution_count": 70,
   "id": "7db1c223-d97b-4bb3-b2bf-21b2f1d1d4e5",
   "metadata": {},
   "outputs": [
    {
     "data": {
      "text/plain": [
       "3499324"
      ]
     },
     "execution_count": 70,
     "metadata": {},
     "output_type": "execute_result"
    }
   ],
   "source": [
    "pw.mobile_number"
   ]
  },
  {
   "cell_type": "code",
   "execution_count": 71,
   "id": "3b80d13c-a45a-41f1-98af-e5d3f976d88f",
   "metadata": {},
   "outputs": [],
   "source": [
    "def course_details(cls,course_name):\n",
    "    print(\"course details\",course_name)"
   ]
  },
  {
   "cell_type": "code",
   "execution_count": 73,
   "id": "12ae7d68-78ba-47e3-8db9-17d22c029fcb",
   "metadata": {},
   "outputs": [],
   "source": [
    "pwskills2.course_details=classmethod(course_details)"
   ]
  },
  {
   "cell_type": "code",
   "execution_count": 74,
   "id": "82f1ba97-2995-4e3f-a1c3-ce02ceb32e5a",
   "metadata": {},
   "outputs": [],
   "source": [
    "pw3=pwskills2('s','s@g.com')"
   ]
  },
  {
   "cell_type": "code",
   "execution_count": 77,
   "id": "d78653e2-8051-4c49-b8a0-ba03e30a7c6f",
   "metadata": {},
   "outputs": [
    {
     "name": "stdout",
     "output_type": "stream",
     "text": [
      "course details web\n"
     ]
    }
   ],
   "source": [
    "pw3.course_details('web')"
   ]
  },
  {
   "cell_type": "code",
   "execution_count": 78,
   "id": "ef73500a-0ef8-489a-b51c-76669df85af3",
   "metadata": {},
   "outputs": [],
   "source": [
    "class pwskills4:\n",
    "    mobile_number=23402940234\n",
    "    def __init__(self,name,email):\n",
    "        self.name=name\n",
    "        self.email=email\n",
    "    @classmethod\n",
    "    def change_number(cls,mobile):\n",
    "        pwskills2.mobile_number=mobile\n",
    "    \n",
    "    @classmethod\n",
    "    def details(cls,name,email):\n",
    "        return cls(name,email)\n",
    "    \n",
    "    def student_details(self):\n",
    "        print(self.name,\"\\n\",self.email,'\\n',pwskills2.mobile_number)"
   ]
  },
  {
   "cell_type": "code",
   "execution_count": 79,
   "id": "0e098af8-146f-4403-a6d4-0ad7be812141",
   "metadata": {},
   "outputs": [],
   "source": [
    "del pwskills4.change_number"
   ]
  },
  {
   "cell_type": "code",
   "execution_count": 80,
   "id": "49ce88f1-85d0-40c4-a574-b9c5bbfd4d13",
   "metadata": {},
   "outputs": [
    {
     "ename": "AttributeError",
     "evalue": "type object 'pwskills' has no attribute 'change_number'",
     "output_type": "error",
     "traceback": [
      "\u001b[0;31m---------------------------------------------------------------------------\u001b[0m",
      "\u001b[0;31mAttributeError\u001b[0m                            Traceback (most recent call last)",
      "Cell \u001b[0;32mIn[80], line 1\u001b[0m\n\u001b[0;32m----> 1\u001b[0m \u001b[43mpwskills\u001b[49m\u001b[38;5;241;43m.\u001b[39;49m\u001b[43mchange_number\u001b[49m(\u001b[38;5;241m471298\u001b[39m)\n",
      "\u001b[0;31mAttributeError\u001b[0m: type object 'pwskills' has no attribute 'change_number'"
     ]
    }
   ],
   "source": [
    "pwskills.change_number(471298)"
   ]
  },
  {
   "cell_type": "code",
   "execution_count": 81,
   "id": "afbf1278-5723-434d-ae7d-0c2916cf3e28",
   "metadata": {},
   "outputs": [],
   "source": [
    "delattr(pwskills4,\"details\")"
   ]
  },
  {
   "cell_type": "code",
   "execution_count": 82,
   "id": "ebd87dbb-123b-4f15-ad3b-4b2c46b7e195",
   "metadata": {},
   "outputs": [
    {
     "data": {
      "text/plain": [
       "23402940234"
      ]
     },
     "execution_count": 82,
     "metadata": {},
     "output_type": "execute_result"
    }
   ],
   "source": [
    "pwskills4.mobile_number"
   ]
  },
  {
   "cell_type": "code",
   "execution_count": 83,
   "id": "e95b135a-8af0-4d5e-b816-3cda173414e0",
   "metadata": {},
   "outputs": [],
   "source": [
    "delattr(pwskills4,\"mobile_number\")"
   ]
  },
  {
   "cell_type": "code",
   "execution_count": 84,
   "id": "ce78a035-81fa-4c41-991d-89db5f7e329e",
   "metadata": {},
   "outputs": [
    {
     "ename": "AttributeError",
     "evalue": "type object 'pwskills4' has no attribute 'mobile_number'",
     "output_type": "error",
     "traceback": [
      "\u001b[0;31m---------------------------------------------------------------------------\u001b[0m",
      "\u001b[0;31mAttributeError\u001b[0m                            Traceback (most recent call last)",
      "Cell \u001b[0;32mIn[84], line 1\u001b[0m\n\u001b[0;32m----> 1\u001b[0m \u001b[43mpwskills4\u001b[49m\u001b[38;5;241;43m.\u001b[39;49m\u001b[43mmobile_number\u001b[49m\n",
      "\u001b[0;31mAttributeError\u001b[0m: type object 'pwskills4' has no attribute 'mobile_number'"
     ]
    }
   ],
   "source": [
    "pwskills4.mobile_number"
   ]
  },
  {
   "cell_type": "code",
   "execution_count": 85,
   "id": "515bbfef-fd08-4b98-90a3-9eed40cb5ba2",
   "metadata": {},
   "outputs": [],
   "source": [
    "delattr(pwskills4,\"student_details\")"
   ]
  },
  {
   "cell_type": "code",
   "execution_count": 86,
   "id": "db66acf8-ace1-4739-b95b-d7c8cc2770ac",
   "metadata": {},
   "outputs": [
    {
     "ename": "AttributeError",
     "evalue": "type object 'pwskills4' has no attribute 'student_details'",
     "output_type": "error",
     "traceback": [
      "\u001b[0;31m---------------------------------------------------------------------------\u001b[0m",
      "\u001b[0;31mAttributeError\u001b[0m                            Traceback (most recent call last)",
      "Cell \u001b[0;32mIn[86], line 1\u001b[0m\n\u001b[0;32m----> 1\u001b[0m \u001b[43mpwskills4\u001b[49m\u001b[38;5;241;43m.\u001b[39;49m\u001b[43mstudent_details\u001b[49m\n",
      "\u001b[0;31mAttributeError\u001b[0m: type object 'pwskills4' has no attribute 'student_details'"
     ]
    }
   ],
   "source": [
    "pwskills4.student_details"
   ]
  },
  {
   "cell_type": "code",
   "execution_count": 87,
   "id": "97daa8e5-e99a-4d61-8e40-24a5b244edc7",
   "metadata": {},
   "outputs": [
    {
     "data": {
      "text/plain": [
       "<function pwskills4.mro()>"
      ]
     },
     "execution_count": 87,
     "metadata": {},
     "output_type": "execute_result"
    }
   ],
   "source": [
    "pwskills4.mro"
   ]
  },
  {
   "cell_type": "markdown",
   "id": "65906aaf-6811-4aa5-8084-2520eb1ab242",
   "metadata": {},
   "source": [
    "## Static Methods"
   ]
  },
  {
   "cell_type": "code",
   "execution_count": 4,
   "id": "5a058e44-1344-4dcc-baa5-fe6ad4ed7288",
   "metadata": {},
   "outputs": [],
   "source": [
    "class pwskills:\n",
    "    def student_details(self,name,mail_id,number):\n",
    "        print(name,mail_id,number)"
   ]
  },
  {
   "cell_type": "code",
   "execution_count": 5,
   "id": "ef6f2dfa-8de8-49d7-a542-6aefc58db009",
   "metadata": {},
   "outputs": [],
   "source": [
    "pws= pwskills()"
   ]
  },
  {
   "cell_type": "code",
   "execution_count": 6,
   "id": "5787a3a7-457b-45e8-8676-6e6da35a58c6",
   "metadata": {},
   "outputs": [
    {
     "name": "stdout",
     "output_type": "stream",
     "text": [
      "rupesh rupesh@gmail.com 46346238\n"
     ]
    }
   ],
   "source": [
    "pws.student_details(\"rupesh\",'rupesh@gmail.com',46346238)"
   ]
  },
  {
   "cell_type": "code",
   "execution_count": 3,
   "id": "b50191fc-f45e-4c31-909c-0a46348279d4",
   "metadata": {},
   "outputs": [],
   "source": [
    "class pwskills:\n",
    "    def student_details(self,name,mail_id,number):\n",
    "        print(name,mail_id,number)\n",
    "    \n",
    "    @staticmethod\n",
    "    def mentor_class(list_mentor):\n",
    "        print(list_mentor)\n",
    "        \n",
    "    def mentor (self,mentor_list):\n",
    "        print(mentor_list)"
   ]
  },
  {
   "cell_type": "code",
   "execution_count": 2,
   "id": "4335a1c7-636b-4848-9595-fe9260785f57",
   "metadata": {},
   "outputs": [
    {
     "name": "stdout",
     "output_type": "stream",
     "text": [
      "['sudh', 'krish']\n"
     ]
    }
   ],
   "source": [
    "pwskills.mentor_class(['sudh','krish'])"
   ]
  },
  {
   "cell_type": "code",
   "execution_count": 4,
   "id": "be0a74d5-2d66-4cb4-b5b5-ee41ab4ac8dd",
   "metadata": {},
   "outputs": [],
   "source": [
    "pw2=pwskills()"
   ]
  },
  {
   "cell_type": "code",
   "execution_count": 8,
   "id": "7f93e81b-034f-4c81-94d3-47d2c51746a5",
   "metadata": {},
   "outputs": [
    {
     "name": "stdout",
     "output_type": "stream",
     "text": [
      "['sudh', 'krish']\n"
     ]
    }
   ],
   "source": [
    "pw2.mentor(['sudh','krish'])"
   ]
  },
  {
   "cell_type": "code",
   "execution_count": 11,
   "id": "998b2b7e-0edc-4787-aded-e94a469bfbce",
   "metadata": {},
   "outputs": [
    {
     "name": "stdout",
     "output_type": "stream",
     "text": [
      "['sid', 'nayak']\n"
     ]
    }
   ],
   "source": [
    "pwskills.mentor_class(['sid','nayak'])"
   ]
  },
  {
   "cell_type": "code",
   "execution_count": 13,
   "id": "882e5003-b256-44eb-9e73-dc2fe27010f5",
   "metadata": {},
   "outputs": [],
   "source": [
    "class pwskills:\n",
    "    def student_details(self,name,mail_id,number):\n",
    "        print(name,mail_id,number)\n",
    "    \n",
    "    @staticmethod\n",
    "    def mentor_mail_id(mail_id):\n",
    "        print(mail_id)\n",
    "    \n",
    "    @staticmethod\n",
    "    def mentor_class(list_mentor):\n",
    "        print(list_mentor)\n",
    "        pwskills.mentor_mail_id(['mentor@gmail.com','menter@gmail.com'])\n",
    "    \n",
    "    @classmethod\n",
    "    def class_name(cls,class_name):\n",
    "        cls.mentor_class(['sudh','nayak'])\n",
    "    \n",
    "    def mentor (self,mentor_list):\n",
    "        print(mentor_list)\n",
    "        self.mentor_class(['krish','sudh'])"
   ]
  },
  {
   "cell_type": "code",
   "execution_count": 14,
   "id": "02a0825f-3281-4ed1-8812-5720e1c323f5",
   "metadata": {},
   "outputs": [],
   "source": [
    "pw1=pwskills()"
   ]
  },
  {
   "cell_type": "code",
   "execution_count": 19,
   "id": "2a7154ae-b0e4-4886-b194-22e8560ba0f8",
   "metadata": {},
   "outputs": [
    {
     "name": "stdout",
     "output_type": "stream",
     "text": [
      "['l@gmail.com', 'i@gmail.com']\n"
     ]
    }
   ],
   "source": [
    "pwskills.mentor_mail_id(['l@gmail.com','i@gmail.com'])"
   ]
  },
  {
   "cell_type": "code",
   "execution_count": 18,
   "id": "bb0273f1-189b-4ffd-a1f2-861d3a878f9f",
   "metadata": {},
   "outputs": [
    {
     "name": "stdout",
     "output_type": "stream",
     "text": [
      "mohan werwe@gmail.com 218109\n"
     ]
    }
   ],
   "source": [
    "pw1.student_details('mohan','werwe@gmail.com',218109)"
   ]
  },
  {
   "cell_type": "code",
   "execution_count": 20,
   "id": "00c152f3-2083-4c56-96fa-7095bd01cb82",
   "metadata": {},
   "outputs": [
    {
     "name": "stdout",
     "output_type": "stream",
     "text": [
      "['sudh', 'nayak']\n",
      "['mentor@gmail.com', 'menter@gmail.com']\n"
     ]
    }
   ],
   "source": [
    "pw1.class_name('data science masters')"
   ]
  },
  {
   "cell_type": "markdown",
   "id": "1e27bdaa-5a6a-4031-a0c1-a861c4601d33",
   "metadata": {},
   "source": [
    "## Magic or Dunder method"
   ]
  },
  {
   "cell_type": "code",
   "execution_count": 21,
   "id": "2f98146d-ef66-4520-963a-a378ba0a16bc",
   "metadata": {},
   "outputs": [
    {
     "data": {
      "text/plain": [
       "['__abs__',\n",
       " '__add__',\n",
       " '__and__',\n",
       " '__bool__',\n",
       " '__ceil__',\n",
       " '__class__',\n",
       " '__delattr__',\n",
       " '__dir__',\n",
       " '__divmod__',\n",
       " '__doc__',\n",
       " '__eq__',\n",
       " '__float__',\n",
       " '__floor__',\n",
       " '__floordiv__',\n",
       " '__format__',\n",
       " '__ge__',\n",
       " '__getattribute__',\n",
       " '__getnewargs__',\n",
       " '__gt__',\n",
       " '__hash__',\n",
       " '__index__',\n",
       " '__init__',\n",
       " '__init_subclass__',\n",
       " '__int__',\n",
       " '__invert__',\n",
       " '__le__',\n",
       " '__lshift__',\n",
       " '__lt__',\n",
       " '__mod__',\n",
       " '__mul__',\n",
       " '__ne__',\n",
       " '__neg__',\n",
       " '__new__',\n",
       " '__or__',\n",
       " '__pos__',\n",
       " '__pow__',\n",
       " '__radd__',\n",
       " '__rand__',\n",
       " '__rdivmod__',\n",
       " '__reduce__',\n",
       " '__reduce_ex__',\n",
       " '__repr__',\n",
       " '__rfloordiv__',\n",
       " '__rlshift__',\n",
       " '__rmod__',\n",
       " '__rmul__',\n",
       " '__ror__',\n",
       " '__round__',\n",
       " '__rpow__',\n",
       " '__rrshift__',\n",
       " '__rshift__',\n",
       " '__rsub__',\n",
       " '__rtruediv__',\n",
       " '__rxor__',\n",
       " '__setattr__',\n",
       " '__sizeof__',\n",
       " '__str__',\n",
       " '__sub__',\n",
       " '__subclasshook__',\n",
       " '__truediv__',\n",
       " '__trunc__',\n",
       " '__xor__',\n",
       " 'as_integer_ratio',\n",
       " 'bit_count',\n",
       " 'bit_length',\n",
       " 'conjugate',\n",
       " 'denominator',\n",
       " 'from_bytes',\n",
       " 'imag',\n",
       " 'numerator',\n",
       " 'real',\n",
       " 'to_bytes']"
      ]
     },
     "execution_count": 21,
     "metadata": {},
     "output_type": "execute_result"
    }
   ],
   "source": [
    "dir(int)"
   ]
  },
  {
   "cell_type": "code",
   "execution_count": 22,
   "id": "a3ee4256-7a4a-48df-aef1-90e21b77a56b",
   "metadata": {},
   "outputs": [],
   "source": [
    "a=10"
   ]
  },
  {
   "cell_type": "code",
   "execution_count": 23,
   "id": "727b983a-c085-4c0a-93e5-4bd9886220ec",
   "metadata": {},
   "outputs": [
    {
     "data": {
      "text/plain": [
       "16"
      ]
     },
     "execution_count": 23,
     "metadata": {},
     "output_type": "execute_result"
    }
   ],
   "source": [
    "a+6"
   ]
  },
  {
   "cell_type": "code",
   "execution_count": 24,
   "id": "ba5c4367-aa00-479c-9260-2e3706765caa",
   "metadata": {},
   "outputs": [
    {
     "data": {
      "text/plain": [
       "16"
      ]
     },
     "execution_count": 24,
     "metadata": {},
     "output_type": "execute_result"
    }
   ],
   "source": [
    "a.__add__(6)"
   ]
  },
  {
   "cell_type": "code",
   "execution_count": 25,
   "id": "a3643147-f7d5-46ff-b4c6-a1365d26fc10",
   "metadata": {},
   "outputs": [],
   "source": [
    "a=2/3"
   ]
  },
  {
   "cell_type": "code",
   "execution_count": 32,
   "id": "a859f3e3-3239-47d7-b0a8-a1dc996a061e",
   "metadata": {},
   "outputs": [],
   "source": [
    "class pwskills:\n",
    "    \n",
    "    def __new__(cls):\n",
    "        print('this  is my new')\n",
    "    \n",
    "    def __init__(self):\n",
    "        print('this is my init')"
   ]
  },
  {
   "cell_type": "code",
   "execution_count": 33,
   "id": "c2b846f6-b429-43f0-9682-996b829ff2f8",
   "metadata": {},
   "outputs": [
    {
     "name": "stdout",
     "output_type": "stream",
     "text": [
      "this  is my new\n"
     ]
    }
   ],
   "source": [
    "pw=pwskills()"
   ]
  },
  {
   "cell_type": "code",
   "execution_count": 39,
   "id": "f19f474e-c370-4ac1-9612-f74a2d92accb",
   "metadata": {},
   "outputs": [],
   "source": [
    "class pwskills1:\n",
    "    def __init__(self):\n",
    "        self.number=230123\n",
    "    \n",
    "    def __str(self):\n",
    "        return \"this is a magic method which will print something for object\""
   ]
  },
  {
   "cell_type": "code",
   "execution_count": 40,
   "id": "ee4d8dca-a010-4ad5-9dbc-ed082f247e0a",
   "metadata": {},
   "outputs": [],
   "source": [
    "pw1=pwskills1()"
   ]
  },
  {
   "cell_type": "code",
   "execution_count": 41,
   "id": "5a946736-9c2f-4fd5-95c3-723685ca7087",
   "metadata": {},
   "outputs": [
    {
     "data": {
      "text/plain": [
       "<__main__.pwskills1 at 0x7f48034513f0>"
      ]
     },
     "execution_count": 41,
     "metadata": {},
     "output_type": "execute_result"
    }
   ],
   "source": [
    "pw1"
   ]
  },
  {
   "cell_type": "code",
   "execution_count": 42,
   "id": "52a49fed-0a34-412c-87ba-91921d78725d",
   "metadata": {},
   "outputs": [
    {
     "name": "stdout",
     "output_type": "stream",
     "text": [
      "<__main__.pwskills1 object at 0x7f48034513f0>\n"
     ]
    }
   ],
   "source": [
    "print(pw1)"
   ]
  },
  {
   "cell_type": "code",
   "execution_count": 43,
   "id": "16c7f1c4-4f74-4976-a927-ae9b8c0fc8ee",
   "metadata": {},
   "outputs": [
    {
     "data": {
      "text/plain": [
       "['__add__',\n",
       " '__class__',\n",
       " '__class_getitem__',\n",
       " '__contains__',\n",
       " '__delattr__',\n",
       " '__dir__',\n",
       " '__doc__',\n",
       " '__eq__',\n",
       " '__format__',\n",
       " '__ge__',\n",
       " '__getattribute__',\n",
       " '__getitem__',\n",
       " '__getnewargs__',\n",
       " '__gt__',\n",
       " '__hash__',\n",
       " '__init__',\n",
       " '__init_subclass__',\n",
       " '__iter__',\n",
       " '__le__',\n",
       " '__len__',\n",
       " '__lt__',\n",
       " '__mul__',\n",
       " '__ne__',\n",
       " '__new__',\n",
       " '__reduce__',\n",
       " '__reduce_ex__',\n",
       " '__repr__',\n",
       " '__rmul__',\n",
       " '__setattr__',\n",
       " '__sizeof__',\n",
       " '__str__',\n",
       " '__subclasshook__',\n",
       " 'count',\n",
       " 'index']"
      ]
     },
     "execution_count": 43,
     "metadata": {},
     "output_type": "execute_result"
    }
   ],
   "source": [
    "dir(tuple)"
   ]
  },
  {
   "cell_type": "code",
   "execution_count": 44,
   "id": "93d05560-0564-41dc-b100-e002bf1b5530",
   "metadata": {},
   "outputs": [],
   "source": [
    "l=('as','ase')"
   ]
  },
  {
   "cell_type": "code",
   "execution_count": 45,
   "id": "a89d1713-d1be-4935-9b33-45700096486c",
   "metadata": {},
   "outputs": [
    {
     "data": {
      "text/plain": [
       "tuple"
      ]
     },
     "execution_count": 45,
     "metadata": {},
     "output_type": "execute_result"
    }
   ],
   "source": [
    "type(l)"
   ]
  },
  {
   "cell_type": "markdown",
   "id": "593f5de4-c794-4210-be2f-1bfb3507272f",
   "metadata": {},
   "source": [
    "## Property Decorator"
   ]
  },
  {
   "cell_type": "code",
   "execution_count": 88,
   "id": "45f08b55-5abe-40fd-933b-e86fadaff832",
   "metadata": {},
   "outputs": [],
   "source": [
    "class pwskills:\n",
    "    \n",
    "    def __init__(self,course_price,course_name):\n",
    "        self.__course_price=course_price\n",
    "        self.course_name=course_name\n",
    "    \n",
    "    @property\n",
    "    def course_price_access(self):\n",
    "        return self.__course_price\n",
    "    \n",
    "    @course_price_access.setter\n",
    "    def course_price_set(self,price):\n",
    "        if price<=3500:\n",
    "            pass\n",
    "        else:\n",
    "            self.__course_price=price\n",
    "        \n",
    "    @course_price_access.deleter\n",
    "    def course_price_del(self):\n",
    "        del self.__course_price"
   ]
  },
  {
   "cell_type": "code",
   "execution_count": 89,
   "id": "81f41475-c7d5-4382-affc-f87899891b98",
   "metadata": {},
   "outputs": [],
   "source": [
    "pw = pwskills(1200,'dsm')"
   ]
  },
  {
   "cell_type": "code",
   "execution_count": 90,
   "id": "1fb78b6a-b769-4d89-b7e6-0fcc131b1a1f",
   "metadata": {},
   "outputs": [
    {
     "data": {
      "text/plain": [
       "'dsm'"
      ]
     },
     "execution_count": 90,
     "metadata": {},
     "output_type": "execute_result"
    }
   ],
   "source": [
    "pw.course_name"
   ]
  },
  {
   "cell_type": "code",
   "execution_count": 91,
   "id": "060651e5-f60b-45b2-a2c2-fe3d79246058",
   "metadata": {},
   "outputs": [
    {
     "data": {
      "text/plain": [
       "1200"
      ]
     },
     "execution_count": 91,
     "metadata": {},
     "output_type": "execute_result"
    }
   ],
   "source": [
    "pw._pwskills__course_price"
   ]
  },
  {
   "cell_type": "code",
   "execution_count": 92,
   "id": "a73849f1-76cd-4aaa-8aae-bd436e143be2",
   "metadata": {},
   "outputs": [
    {
     "data": {
      "text/plain": [
       "1200"
      ]
     },
     "execution_count": 92,
     "metadata": {},
     "output_type": "execute_result"
    }
   ],
   "source": [
    "pw.course_price_access"
   ]
  },
  {
   "cell_type": "code",
   "execution_count": 93,
   "id": "59d721af-d98c-451e-9dd4-c231a91a8bde",
   "metadata": {},
   "outputs": [],
   "source": [
    "pw.course_price_set=2300"
   ]
  },
  {
   "cell_type": "code",
   "execution_count": 94,
   "id": "35f6818f-a7ef-4f2e-acef-219a277378b2",
   "metadata": {},
   "outputs": [],
   "source": [
    "pw.course_price_set=3600"
   ]
  },
  {
   "cell_type": "code",
   "execution_count": 95,
   "id": "30d29b01-5b54-455b-b90e-d0cb770719e8",
   "metadata": {},
   "outputs": [
    {
     "data": {
      "text/plain": [
       "3600"
      ]
     },
     "execution_count": 95,
     "metadata": {},
     "output_type": "execute_result"
    }
   ],
   "source": [
    "pw.course_price_access"
   ]
  },
  {
   "cell_type": "code",
   "execution_count": 99,
   "id": "02d35b0e-931a-4fd0-a22f-c326f93aa24f",
   "metadata": {},
   "outputs": [],
   "source": [
    "del pw.course_price_del"
   ]
  },
  {
   "cell_type": "code",
   "execution_count": 100,
   "id": "e5862fad-baaf-49ed-a537-62597f34f107",
   "metadata": {},
   "outputs": [
    {
     "ename": "AttributeError",
     "evalue": "'pwskills' object has no attribute '_pwskills__course_price'",
     "output_type": "error",
     "traceback": [
      "\u001b[0;31m---------------------------------------------------------------------------\u001b[0m",
      "\u001b[0;31mAttributeError\u001b[0m                            Traceback (most recent call last)",
      "Cell \u001b[0;32mIn[100], line 1\u001b[0m\n\u001b[0;32m----> 1\u001b[0m \u001b[43mpw\u001b[49m\u001b[38;5;241;43m.\u001b[39;49m\u001b[43m_pwskills__course_price\u001b[49m\n",
      "\u001b[0;31mAttributeError\u001b[0m: 'pwskills' object has no attribute '_pwskills__course_price'"
     ]
    }
   ],
   "source": [
    "pw._pwskills__course_price"
   ]
  },
  {
   "cell_type": "code",
   "execution_count": 103,
   "id": "fa65126e-174b-49d5-a4da-f31d89516dd0",
   "metadata": {},
   "outputs": [],
   "source": [
    "pw.course_price_set=5000"
   ]
  },
  {
   "cell_type": "code",
   "execution_count": 104,
   "id": "9d72bd18-6085-455f-85b8-4ccba8883b15",
   "metadata": {},
   "outputs": [
    {
     "data": {
      "text/plain": [
       "5000"
      ]
     },
     "execution_count": 104,
     "metadata": {},
     "output_type": "execute_result"
    }
   ],
   "source": [
    "pw.course_price_access"
   ]
  }
 ],
 "metadata": {
  "kernelspec": {
   "display_name": "Python 3 (ipykernel)",
   "language": "python",
   "name": "python3"
  },
  "language_info": {
   "codemirror_mode": {
    "name": "ipython",
    "version": 3
   },
   "file_extension": ".py",
   "mimetype": "text/x-python",
   "name": "python",
   "nbconvert_exporter": "python",
   "pygments_lexer": "ipython3",
   "version": "3.10.8"
  }
 },
 "nbformat": 4,
 "nbformat_minor": 5
}
