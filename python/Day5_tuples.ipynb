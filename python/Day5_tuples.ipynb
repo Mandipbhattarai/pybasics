{
 "cells": [
  {
   "cell_type": "markdown",
   "id": "a4a9213c-7ad5-4bd3-badd-fb65844d0392",
   "metadata": {},
   "source": [
    "# Tuple"
   ]
  },
  {
   "cell_type": "code",
   "execution_count": 1,
   "id": "2eaa5ca7-8835-4570-9018-603ac33f0f1e",
   "metadata": {},
   "outputs": [
    {
     "data": {
      "text/plain": [
       "tuple"
      ]
     },
     "execution_count": 1,
     "metadata": {},
     "output_type": "execute_result"
    }
   ],
   "source": [
    "t=()\n",
    "type(t)"
   ]
  },
  {
   "cell_type": "code",
   "execution_count": 2,
   "id": "59149afe-0b5d-43e0-85dd-fa4309177827",
   "metadata": {},
   "outputs": [],
   "source": [
    "t1=(1,2,3,4,4.4,3+3j,'sudh',True)"
   ]
  },
  {
   "cell_type": "code",
   "execution_count": 3,
   "id": "80250dbe-e518-45b8-8513-c213a8ba0e2b",
   "metadata": {},
   "outputs": [
    {
     "data": {
      "text/plain": [
       "tuple"
      ]
     },
     "execution_count": 3,
     "metadata": {},
     "output_type": "execute_result"
    }
   ],
   "source": [
    "type(t1)"
   ]
  },
  {
   "cell_type": "code",
   "execution_count": 4,
   "id": "3cf72f93-4dfd-4bea-9986-c30f9262d45c",
   "metadata": {},
   "outputs": [
    {
     "data": {
      "text/plain": [
       "1"
      ]
     },
     "execution_count": 4,
     "metadata": {},
     "output_type": "execute_result"
    }
   ],
   "source": [
    "t1[0]"
   ]
  },
  {
   "cell_type": "code",
   "execution_count": 9,
   "id": "cf9ef254-d848-43fa-960e-a0705f28d555",
   "metadata": {},
   "outputs": [
    {
     "data": {
      "text/plain": [
       "4"
      ]
     },
     "execution_count": 9,
     "metadata": {},
     "output_type": "execute_result"
    }
   ],
   "source": [
    "t1[3]"
   ]
  },
  {
   "cell_type": "code",
   "execution_count": 10,
   "id": "25ad855e-9e3e-4ef8-ab66-090c77130ac2",
   "metadata": {},
   "outputs": [
    {
     "data": {
      "text/plain": [
       "(True, 'sudh', (3+3j), 4.4, 4, 3, 2, 1)"
      ]
     },
     "execution_count": 10,
     "metadata": {},
     "output_type": "execute_result"
    }
   ],
   "source": [
    "t1[::-1]"
   ]
  },
  {
   "cell_type": "code",
   "execution_count": 11,
   "id": "530ef236-2ce2-4ad4-ae59-a495af5e4400",
   "metadata": {},
   "outputs": [
    {
     "data": {
      "text/plain": [
       "(1, 2, 3)"
      ]
     },
     "execution_count": 11,
     "metadata": {},
     "output_type": "execute_result"
    }
   ],
   "source": [
    "t1[0:3]"
   ]
  },
  {
   "cell_type": "code",
   "execution_count": 12,
   "id": "fa0777e3-605a-447b-b2d4-884a3ea71285",
   "metadata": {},
   "outputs": [],
   "source": [
    "t1=t1[::-1]"
   ]
  },
  {
   "cell_type": "code",
   "execution_count": 13,
   "id": "110d004f-babb-407a-bef0-4041ec5f6f41",
   "metadata": {},
   "outputs": [
    {
     "data": {
      "text/plain": [
       "(True, 'sudh', (3+3j), 4.4, 4, 3, 2, 1)"
      ]
     },
     "execution_count": 13,
     "metadata": {},
     "output_type": "execute_result"
    }
   ],
   "source": [
    "t1"
   ]
  },
  {
   "cell_type": "code",
   "execution_count": 16,
   "id": "2e7c5b1d-884a-40b6-a7e9-511f2dba51bf",
   "metadata": {},
   "outputs": [
    {
     "data": {
      "text/plain": [
       "1"
      ]
     },
     "execution_count": 16,
     "metadata": {},
     "output_type": "execute_result"
    }
   ],
   "source": [
    "t1.count(4)"
   ]
  },
  {
   "cell_type": "code",
   "execution_count": 19,
   "id": "c7f3cc05-e2f5-4a05-8707-663a1dee046c",
   "metadata": {},
   "outputs": [
    {
     "data": {
      "text/plain": [
       "1"
      ]
     },
     "execution_count": 19,
     "metadata": {},
     "output_type": "execute_result"
    }
   ],
   "source": [
    "t1.count('sudh')"
   ]
  },
  {
   "cell_type": "code",
   "execution_count": 21,
   "id": "5be19975-fe70-45ee-aca3-32b5d8f837d1",
   "metadata": {},
   "outputs": [
    {
     "data": {
      "text/plain": [
       "0"
      ]
     },
     "execution_count": 21,
     "metadata": {},
     "output_type": "execute_result"
    }
   ],
   "source": [
    "t1.index(1)"
   ]
  },
  {
   "cell_type": "code",
   "execution_count": 22,
   "id": "6074df55-36a1-45bf-bfac-718bff9598d2",
   "metadata": {},
   "outputs": [
    {
     "data": {
      "text/plain": [
       "4"
      ]
     },
     "execution_count": 22,
     "metadata": {},
     "output_type": "execute_result"
    }
   ],
   "source": [
    "t1.index(4)"
   ]
  },
  {
   "cell_type": "code",
   "execution_count": 23,
   "id": "9603ca77-d312-4110-938e-0d9e54217623",
   "metadata": {},
   "outputs": [
    {
     "data": {
      "text/plain": [
       "1"
      ]
     },
     "execution_count": 23,
     "metadata": {},
     "output_type": "execute_result"
    }
   ],
   "source": [
    "t1.index('sudh')"
   ]
  },
  {
   "cell_type": "markdown",
   "id": "cb6b5034-e84a-487f-a561-6f7d9f0c2598",
   "metadata": {},
   "source": [
    "## Difference between Tupple and list\n",
    "1. Tuples doesn't allow to change in any index but list does allow us\n",
    "2. Tuples are immutable but list are mutable"
   ]
  },
  {
   "cell_type": "code",
   "execution_count": 25,
   "id": "6df5e353-305b-489e-a1cb-d19bdde97e7b",
   "metadata": {},
   "outputs": [],
   "source": [
    "t1=(1,2,3,4,4.4,3+3j,'sudh',True)"
   ]
  },
  {
   "cell_type": "code",
   "execution_count": 29,
   "id": "81585f73-0e64-4033-8c61-f9d9f743a6e5",
   "metadata": {},
   "outputs": [
    {
     "name": "stdout",
     "output_type": "stream",
     "text": [
      "t ====> <class 'int'>\n",
      "t ====> <class 'int'>\n",
      "t ====> <class 'int'>\n",
      "t ====> <class 'int'>\n",
      "t ====> <class 'float'>\n",
      "t ====> <class 'complex'>\n",
      "t ====> <class 'str'>\n",
      "t ====> <class 'bool'>\n"
     ]
    }
   ],
   "source": [
    "for t in t1:\n",
    "    print(f't ====> {type(t)}')"
   ]
  },
  {
   "cell_type": "code",
   "execution_count": 30,
   "id": "e2235958-d1b4-4e72-9c6c-3b518e326d5a",
   "metadata": {},
   "outputs": [],
   "source": [
    "t2=(1,2,3,4)"
   ]
  },
  {
   "cell_type": "code",
   "execution_count": 31,
   "id": "40af5b66-1a59-4a0a-952a-9a3ccd89a07e",
   "metadata": {},
   "outputs": [
    {
     "data": {
      "text/plain": [
       "(1, 2, 3, 4)"
      ]
     },
     "execution_count": 31,
     "metadata": {},
     "output_type": "execute_result"
    }
   ],
   "source": [
    "t2"
   ]
  },
  {
   "cell_type": "code",
   "execution_count": 32,
   "id": "ab75376c-a6e5-4b90-9f04-6429776cbe33",
   "metadata": {},
   "outputs": [
    {
     "data": {
      "text/plain": [
       "(1, 2, 3, 4, 1, 2, 3, 4, 1, 2, 3, 4)"
      ]
     },
     "execution_count": 32,
     "metadata": {},
     "output_type": "execute_result"
    }
   ],
   "source": [
    "t2*3"
   ]
  },
  {
   "cell_type": "code",
   "execution_count": 37,
   "id": "f41e4782-23c3-4bfe-b709-bcab758da951",
   "metadata": {},
   "outputs": [
    {
     "data": {
      "text/plain": [
       "4"
      ]
     },
     "execution_count": 37,
     "metadata": {},
     "output_type": "execute_result"
    }
   ],
   "source": [
    "max(t2) "
   ]
  },
  {
   "cell_type": "code",
   "execution_count": 36,
   "id": "fd683408-988c-4b8f-8f06-50d2d92cd926",
   "metadata": {},
   "outputs": [
    {
     "data": {
      "text/plain": [
       "1"
      ]
     },
     "execution_count": 36,
     "metadata": {},
     "output_type": "execute_result"
    }
   ],
   "source": [
    "min(t2)"
   ]
  },
  {
   "cell_type": "markdown",
   "id": "5adcf699-5639-41e7-a3ce-0a9de9a13342",
   "metadata": {},
   "source": [
    "Tuples are basically following immutability concepts where it is not going to allow to change any element at particular index"
   ]
  },
  {
   "cell_type": "code",
   "execution_count": 38,
   "id": "5f53bdbd-5cfc-46c7-b6ca-d9e02a5cc40a",
   "metadata": {},
   "outputs": [],
   "source": [
    "t1=(1,2,3,4,5)\n",
    "t2=(6,7,8,9,10)\n",
    "t3=(t1+t2)"
   ]
  },
  {
   "cell_type": "code",
   "execution_count": 39,
   "id": "4fa81be5-718e-4c51-a036-ee65b326b779",
   "metadata": {},
   "outputs": [
    {
     "data": {
      "text/plain": [
       "(1, 2, 3, 4, 5, 6, 7, 8, 9, 10)"
      ]
     },
     "execution_count": 39,
     "metadata": {},
     "output_type": "execute_result"
    }
   ],
   "source": [
    "t3"
   ]
  },
  {
   "cell_type": "code",
   "execution_count": 40,
   "id": "32f90abe-3db1-4ba4-a63d-89188208d267",
   "metadata": {},
   "outputs": [],
   "source": [
    "t1=(1,2,3,4,5)\n",
    "t2=(6,7,8,9,10)\n",
    "t3=(t1,t2)"
   ]
  },
  {
   "cell_type": "code",
   "execution_count": 41,
   "id": "d83faef3-ca25-4c18-a0bd-77ea72446532",
   "metadata": {},
   "outputs": [
    {
     "data": {
      "text/plain": [
       "((1, 2, 3, 4, 5), (6, 7, 8, 9, 10))"
      ]
     },
     "execution_count": 41,
     "metadata": {},
     "output_type": "execute_result"
    }
   ],
   "source": [
    "t3"
   ]
  },
  {
   "cell_type": "code",
   "execution_count": 42,
   "id": "0d48e6cf-ddd5-4beb-858f-cade446f2882",
   "metadata": {},
   "outputs": [],
   "source": [
    "t1=(1,2,3,4,5)\n",
    "t2=[6,7,8,9,10]\n",
    "t3=(t1,t2)"
   ]
  },
  {
   "cell_type": "code",
   "execution_count": 43,
   "id": "7228d007-3be3-46b1-816b-7caebdb9f400",
   "metadata": {},
   "outputs": [
    {
     "data": {
      "text/plain": [
       "((1, 2, 3, 4, 5), [6, 7, 8, 9, 10])"
      ]
     },
     "execution_count": 43,
     "metadata": {},
     "output_type": "execute_result"
    }
   ],
   "source": [
    "t3"
   ]
  },
  {
   "cell_type": "code",
   "execution_count": 44,
   "id": "280d80bb-e310-492c-bb3a-b5d976397a7f",
   "metadata": {},
   "outputs": [],
   "source": [
    "## delete tuple"
   ]
  },
  {
   "cell_type": "code",
   "execution_count": 45,
   "id": "62f427da-9718-4158-975b-63540f14c8df",
   "metadata": {},
   "outputs": [],
   "source": [
    "del t3"
   ]
  },
  {
   "cell_type": "code",
   "execution_count": 46,
   "id": "8f873c56-8109-4520-95bd-f9355ad53a1a",
   "metadata": {},
   "outputs": [
    {
     "ename": "NameError",
     "evalue": "name 't3' is not defined",
     "output_type": "error",
     "traceback": [
      "\u001b[0;31m---------------------------------------------------------------------------\u001b[0m",
      "\u001b[0;31mNameError\u001b[0m                                 Traceback (most recent call last)",
      "Cell \u001b[0;32mIn[46], line 1\u001b[0m\n\u001b[0;32m----> 1\u001b[0m \u001b[43mt3\u001b[49m\n",
      "\u001b[0;31mNameError\u001b[0m: name 't3' is not defined"
     ]
    }
   ],
   "source": [
    "t3"
   ]
  },
  {
   "cell_type": "code",
   "execution_count": 47,
   "id": "f4a9960b-7ac6-4c86-9445-6c3617ce0d96",
   "metadata": {},
   "outputs": [
    {
     "data": {
      "text/plain": [
       "5"
      ]
     },
     "execution_count": 47,
     "metadata": {},
     "output_type": "execute_result"
    }
   ],
   "source": [
    "t1=(1,2,3,4,5)\n",
    "t2=[6,7,8,9,10]\n",
    "len(t1)\n"
   ]
  },
  {
   "cell_type": "code",
   "execution_count": 48,
   "id": "4a6c52ff-8202-4a47-8c99-0b18b4352ca7",
   "metadata": {},
   "outputs": [
    {
     "data": {
      "text/plain": [
       "5"
      ]
     },
     "execution_count": 48,
     "metadata": {},
     "output_type": "execute_result"
    }
   ],
   "source": [
    "len(t2)"
   ]
  },
  {
   "cell_type": "code",
   "execution_count": 49,
   "id": "4b93bc22-a23a-472f-9553-f982f7a4e91c",
   "metadata": {},
   "outputs": [
    {
     "data": {
      "text/plain": [
       "False"
      ]
     },
     "execution_count": 49,
     "metadata": {},
     "output_type": "execute_result"
    }
   ],
   "source": [
    "4 in t2"
   ]
  },
  {
   "cell_type": "code",
   "execution_count": 50,
   "id": "30407c9b-1301-4103-8a34-563d0ca9bbfa",
   "metadata": {},
   "outputs": [
    {
     "data": {
      "text/plain": [
       "True"
      ]
     },
     "execution_count": 50,
     "metadata": {},
     "output_type": "execute_result"
    }
   ],
   "source": [
    "4 in t1"
   ]
  },
  {
   "cell_type": "markdown",
   "id": "961d8f62-c907-4d1a-9c36-f52d06aefa6f",
   "metadata": {},
   "source": [
    "## SET"
   ]
  },
  {
   "cell_type": "code",
   "execution_count": 1,
   "id": "7ccc1ca2-1788-4bf3-90f1-373907dc12f4",
   "metadata": {},
   "outputs": [],
   "source": [
    "s={}"
   ]
  },
  {
   "cell_type": "code",
   "execution_count": 2,
   "id": "797aaf04-1151-48f9-aeae-16b4ebb2e2ec",
   "metadata": {},
   "outputs": [
    {
     "data": {
      "text/plain": [
       "dict"
      ]
     },
     "execution_count": 2,
     "metadata": {},
     "output_type": "execute_result"
    }
   ],
   "source": [
    "type(s)"
   ]
  },
  {
   "cell_type": "code",
   "execution_count": 3,
   "id": "593fd8d7-7627-49e4-a4a0-2b69cbfa356e",
   "metadata": {},
   "outputs": [],
   "source": [
    "s={1,2,3,4}"
   ]
  },
  {
   "cell_type": "code",
   "execution_count": 4,
   "id": "0218fd23-d58d-4615-a5ab-0b1c1466c3ef",
   "metadata": {},
   "outputs": [
    {
     "data": {
      "text/plain": [
       "set"
      ]
     },
     "execution_count": 4,
     "metadata": {},
     "output_type": "execute_result"
    }
   ],
   "source": [
    "type(s)"
   ]
  },
  {
   "cell_type": "code",
   "execution_count": 5,
   "id": "7e15635f-a832-4377-8fbb-5b4c4619bf2f",
   "metadata": {},
   "outputs": [],
   "source": [
    "s={1,2,2,2,3,4,5,1,2,6,70}"
   ]
  },
  {
   "cell_type": "code",
   "execution_count": 6,
   "id": "a988b162-66c3-473a-9f6c-9d0761559763",
   "metadata": {},
   "outputs": [
    {
     "data": {
      "text/plain": [
       "{1, 2, 3, 4, 5, 6, 70}"
      ]
     },
     "execution_count": 6,
     "metadata": {},
     "output_type": "execute_result"
    }
   ],
   "source": [
    "s"
   ]
  },
  {
   "cell_type": "markdown",
   "id": "7deb1241-f2e3-4c8a-814b-f73edb0a27ec",
   "metadata": {},
   "source": [
    "Set always try to hold unique element"
   ]
  },
  {
   "cell_type": "code",
   "execution_count": 8,
   "id": "651d5124-033a-4118-b24b-9978a0f68ae8",
   "metadata": {},
   "outputs": [],
   "source": [
    "l = [1,2,2,2,3,4,5,1,2,6,70]"
   ]
  },
  {
   "cell_type": "code",
   "execution_count": 9,
   "id": "7b334c1c-6b41-4852-9374-7ad23486886b",
   "metadata": {},
   "outputs": [
    {
     "data": {
      "text/plain": [
       "[1, 2, 2, 2, 3, 4, 5, 1, 2, 6, 70]"
      ]
     },
     "execution_count": 9,
     "metadata": {},
     "output_type": "execute_result"
    }
   ],
   "source": [
    "l"
   ]
  },
  {
   "cell_type": "code",
   "execution_count": 10,
   "id": "ebd724eb-6daf-44ec-bb83-2495a53f3ab8",
   "metadata": {},
   "outputs": [
    {
     "data": {
      "text/plain": [
       "{1, 2, 3, 4, 5, 6, 70}"
      ]
     },
     "execution_count": 10,
     "metadata": {},
     "output_type": "execute_result"
    }
   ],
   "source": [
    "set(l)"
   ]
  },
  {
   "cell_type": "code",
   "execution_count": 12,
   "id": "d94a4e85-adbc-426b-ac38-88b1d34296a0",
   "metadata": {},
   "outputs": [
    {
     "ename": "TypeError",
     "evalue": "unhashable type: 'list'",
     "output_type": "error",
     "traceback": [
      "\u001b[0;31m---------------------------------------------------------------------------\u001b[0m",
      "\u001b[0;31mTypeError\u001b[0m                                 Traceback (most recent call last)",
      "Cell \u001b[0;32mIn[12], line 1\u001b[0m\n\u001b[0;32m----> 1\u001b[0m s4\u001b[38;5;241m=\u001b[39m{\u001b[38;5;241m1\u001b[39m,\u001b[38;5;241m2\u001b[39m,\u001b[38;5;241m3\u001b[39m,\u001b[38;5;241m4\u001b[39m,[\u001b[38;5;241m1\u001b[39m,\u001b[38;5;241m2\u001b[39m,\u001b[38;5;241m3\u001b[39m,\u001b[38;5;241m4\u001b[39m]}\n",
      "\u001b[0;31mTypeError\u001b[0m: unhashable type: 'list'"
     ]
    }
   ],
   "source": [
    "s4={1,2,3,4,[1,2,3,4]}"
   ]
  },
  {
   "cell_type": "markdown",
   "id": "3c514fb5-78bd-4589-bee2-19f9b0a5743d",
   "metadata": {},
   "source": [
    "list isn't allowed to be stored in a set. But tuple is allowed"
   ]
  },
  {
   "cell_type": "code",
   "execution_count": 14,
   "id": "1c7d9fce-9685-44dc-842b-4da21084a98c",
   "metadata": {},
   "outputs": [],
   "source": [
    "s1={1,2,3,4,(1,2,3,4)}"
   ]
  },
  {
   "cell_type": "code",
   "execution_count": 15,
   "id": "4a668271-e035-444d-86a6-4177115cbb0c",
   "metadata": {},
   "outputs": [
    {
     "data": {
      "text/plain": [
       "{(1, 2, 3, 4), 1, 2, 3, 4}"
      ]
     },
     "execution_count": 15,
     "metadata": {},
     "output_type": "execute_result"
    }
   ],
   "source": [
    "s1"
   ]
  },
  {
   "cell_type": "code",
   "execution_count": 16,
   "id": "aa8951c5-0cdc-4940-81ad-4c515406063c",
   "metadata": {},
   "outputs": [],
   "source": [
    "s6= {'a','A',1,2,4,3}"
   ]
  },
  {
   "cell_type": "code",
   "execution_count": 17,
   "id": "26e5f4f4-85c8-478c-a883-23b3520d4f85",
   "metadata": {},
   "outputs": [
    {
     "data": {
      "text/plain": [
       "{1, 2, 3, 4, 'A', 'a'}"
      ]
     },
     "execution_count": 17,
     "metadata": {},
     "output_type": "execute_result"
    }
   ],
   "source": [
    "s6"
   ]
  },
  {
   "cell_type": "code",
   "execution_count": 18,
   "id": "ec301d0f-2517-4a76-bf69-e8cc90ae519f",
   "metadata": {},
   "outputs": [
    {
     "ename": "TypeError",
     "evalue": "'set' object is not subscriptable",
     "output_type": "error",
     "traceback": [
      "\u001b[0;31m---------------------------------------------------------------------------\u001b[0m",
      "\u001b[0;31mTypeError\u001b[0m                                 Traceback (most recent call last)",
      "Cell \u001b[0;32mIn[18], line 1\u001b[0m\n\u001b[0;32m----> 1\u001b[0m \u001b[43ms6\u001b[49m\u001b[43m[\u001b[49m\u001b[38;5;241;43m1\u001b[39;49m\u001b[43m]\u001b[49m\n",
      "\u001b[0;31mTypeError\u001b[0m: 'set' object is not subscriptable"
     ]
    }
   ],
   "source": [
    "s6[1]"
   ]
  },
  {
   "cell_type": "code",
   "execution_count": 19,
   "id": "e5872f95-58fe-4324-ac41-711073332546",
   "metadata": {},
   "outputs": [
    {
     "ename": "TypeError",
     "evalue": "'set' object is not subscriptable",
     "output_type": "error",
     "traceback": [
      "\u001b[0;31m---------------------------------------------------------------------------\u001b[0m",
      "\u001b[0;31mTypeError\u001b[0m                                 Traceback (most recent call last)",
      "Cell \u001b[0;32mIn[19], line 1\u001b[0m\n\u001b[0;32m----> 1\u001b[0m \u001b[43ms6\u001b[49m\u001b[43m[\u001b[49m\u001b[43m:\u001b[49m\u001b[43m:\u001b[49m\u001b[38;5;241;43m-\u001b[39;49m\u001b[38;5;241;43m1\u001b[39;49m\u001b[43m]\u001b[49m\n",
      "\u001b[0;31mTypeError\u001b[0m: 'set' object is not subscriptable"
     ]
    }
   ],
   "source": [
    "s6[::-1]"
   ]
  },
  {
   "cell_type": "code",
   "execution_count": 20,
   "id": "c310bdd3-2a33-479b-938e-4fbccc4212a2",
   "metadata": {},
   "outputs": [
    {
     "name": "stdout",
     "output_type": "stream",
     "text": [
      "1\n",
      "2\n",
      "3\n",
      "A\n",
      "4\n",
      "a\n"
     ]
    }
   ],
   "source": [
    "for i in s6:\n",
    "    print(i)"
   ]
  },
  {
   "cell_type": "code",
   "execution_count": 24,
   "id": "1113be27-16a4-41a4-8651-f51228ded07e",
   "metadata": {},
   "outputs": [],
   "source": [
    "s6.add(32)"
   ]
  },
  {
   "cell_type": "code",
   "execution_count": 25,
   "id": "af5b29cf-10e3-40bf-9b42-129bf411e12c",
   "metadata": {},
   "outputs": [
    {
     "data": {
      "text/plain": [
       "{1, 2, 3, 32, 4, 'A', 'a'}"
      ]
     },
     "execution_count": 25,
     "metadata": {},
     "output_type": "execute_result"
    }
   ],
   "source": [
    "s6"
   ]
  },
  {
   "cell_type": "code",
   "execution_count": 26,
   "id": "545d58a5-31e9-40cd-98d3-2332e3180507",
   "metadata": {},
   "outputs": [
    {
     "data": {
      "text/plain": [
       "7"
      ]
     },
     "execution_count": 26,
     "metadata": {},
     "output_type": "execute_result"
    }
   ],
   "source": [
    "len(s6)"
   ]
  },
  {
   "cell_type": "code",
   "execution_count": 29,
   "id": "195a5724-cb79-4f35-9c2e-920e4556270c",
   "metadata": {},
   "outputs": [
    {
     "data": {
      "text/plain": [
       "32"
      ]
     },
     "execution_count": 29,
     "metadata": {},
     "output_type": "execute_result"
    }
   ],
   "source": [
    "s6.pop()"
   ]
  },
  {
   "cell_type": "code",
   "execution_count": 30,
   "id": "0b080a6f-82c4-4482-bf56-3ea952bb4941",
   "metadata": {},
   "outputs": [
    {
     "data": {
      "text/plain": [
       "{1, 2, 3, 4, 'A', 'a'}"
      ]
     },
     "execution_count": 30,
     "metadata": {},
     "output_type": "execute_result"
    }
   ],
   "source": [
    "s6"
   ]
  },
  {
   "cell_type": "code",
   "execution_count": 31,
   "id": "47c899ae-348d-45a6-b00d-25aab1337e6b",
   "metadata": {},
   "outputs": [],
   "source": [
    "s6.clear()"
   ]
  },
  {
   "cell_type": "code",
   "execution_count": 32,
   "id": "86d2bc3d-e7f1-4ba2-b47a-b69f3ba1b4a7",
   "metadata": {},
   "outputs": [
    {
     "data": {
      "text/plain": [
       "set()"
      ]
     },
     "execution_count": 32,
     "metadata": {},
     "output_type": "execute_result"
    }
   ],
   "source": [
    "s6"
   ]
  },
  {
   "cell_type": "code",
   "execution_count": 33,
   "id": "96f421ba-75be-4eb3-aeaa-a541ba6daaba",
   "metadata": {},
   "outputs": [],
   "source": [
    "s8={1,2,3,4,5}\n",
    "s9={1,2,3,6,7}"
   ]
  },
  {
   "cell_type": "code",
   "execution_count": 34,
   "id": "c665282d-8075-43ed-97e5-b7985c210789",
   "metadata": {},
   "outputs": [
    {
     "data": {
      "text/plain": [
       "{4, 5}"
      ]
     },
     "execution_count": 34,
     "metadata": {},
     "output_type": "execute_result"
    }
   ],
   "source": [
    "s8.difference(s9)"
   ]
  },
  {
   "cell_type": "markdown",
   "id": "7b69cf4e-92a5-4369-9470-7247c7ade60b",
   "metadata": {},
   "source": [
    "\n",
    "## Dictionary"
   ]
  },
  {
   "cell_type": "code",
   "execution_count": 1,
   "id": "654a6c63-9f32-471b-b991-1caf9b17e6e4",
   "metadata": {},
   "outputs": [],
   "source": [
    "d={}"
   ]
  },
  {
   "cell_type": "code",
   "execution_count": 2,
   "id": "ce6b51a7-023c-4eeb-8501-d585f8de69ea",
   "metadata": {},
   "outputs": [
    {
     "data": {
      "text/plain": [
       "dict"
      ]
     },
     "execution_count": 2,
     "metadata": {},
     "output_type": "execute_result"
    }
   ],
   "source": [
    "type(d)"
   ]
  },
  {
   "cell_type": "code",
   "execution_count": 3,
   "id": "8b8c92ac-1287-4c3b-ae89-bd6809592076",
   "metadata": {},
   "outputs": [],
   "source": [
    "d = {'name' : 'sudh' , 'email_id' : 'ss@gmail.com' , 'number': 3412}"
   ]
  },
  {
   "cell_type": "code",
   "execution_count": 7,
   "id": "b5f87835-4448-4881-ad3b-feebc8578673",
   "metadata": {},
   "outputs": [
    {
     "data": {
      "text/plain": [
       "dict"
      ]
     },
     "execution_count": 7,
     "metadata": {},
     "output_type": "execute_result"
    }
   ],
   "source": [
    "type(d)"
   ]
  },
  {
   "cell_type": "code",
   "execution_count": 8,
   "id": "b38c6388-3f97-4dfb-9bed-c5a1bc70e4b9",
   "metadata": {},
   "outputs": [
    {
     "data": {
      "text/plain": [
       "{'name': 'sudh', 'email_id': 'ss@gmail.com', 'number': 3412}"
      ]
     },
     "execution_count": 8,
     "metadata": {},
     "output_type": "execute_result"
    }
   ],
   "source": [
    "d"
   ]
  },
  {
   "cell_type": "code",
   "execution_count": 11,
   "id": "ca4b39b8-cd77-4b3f-b407-70a637bfd1e0",
   "metadata": {},
   "outputs": [],
   "source": [
    "d2 = {'name' : 'sudh', 'name' : 'jakjdfa'}"
   ]
  },
  {
   "cell_type": "code",
   "execution_count": 12,
   "id": "c4eb60a1-9f7d-4df1-a678-acb582eda18f",
   "metadata": {},
   "outputs": [
    {
     "data": {
      "text/plain": [
       "{'name': 'jakjdfa'}"
      ]
     },
     "execution_count": 12,
     "metadata": {},
     "output_type": "execute_result"
    }
   ],
   "source": [
    "d2"
   ]
  },
  {
   "cell_type": "code",
   "execution_count": 13,
   "id": "dd687c77-3dd3-41b2-b611-6c1a7c151afb",
   "metadata": {},
   "outputs": [],
   "source": [
    "d3={123423: 'abc'}"
   ]
  },
  {
   "cell_type": "code",
   "execution_count": 14,
   "id": "1ee615cd-fb18-42db-b9b6-e9e707855984",
   "metadata": {},
   "outputs": [
    {
     "data": {
      "text/plain": [
       "{123423: 'abc'}"
      ]
     },
     "execution_count": 14,
     "metadata": {},
     "output_type": "execute_result"
    }
   ],
   "source": [
    "d3"
   ]
  },
  {
   "cell_type": "code",
   "execution_count": 15,
   "id": "1ea984a3-440e-45ab-836a-e17ce9e20657",
   "metadata": {},
   "outputs": [],
   "source": [
    "d4={22.1:'abd'}"
   ]
  },
  {
   "cell_type": "code",
   "execution_count": 16,
   "id": "97e961ab-90fb-44e6-9108-5c7472c2f582",
   "metadata": {},
   "outputs": [
    {
     "data": {
      "text/plain": [
       "{22.1: 'abd'}"
      ]
     },
     "execution_count": 16,
     "metadata": {},
     "output_type": "execute_result"
    }
   ],
   "source": [
    "d4"
   ]
  },
  {
   "cell_type": "code",
   "execution_count": 17,
   "id": "4165b8f6-c950-4396-ba98-52f4026c8c48",
   "metadata": {},
   "outputs": [],
   "source": [
    "d5= {True : 1231}"
   ]
  },
  {
   "cell_type": "code",
   "execution_count": 18,
   "id": "769c63de-1b14-4f1c-85e8-6483610c4698",
   "metadata": {},
   "outputs": [
    {
     "data": {
      "text/plain": [
       "{True: 1231}"
      ]
     },
     "execution_count": 18,
     "metadata": {},
     "output_type": "execute_result"
    }
   ],
   "source": [
    "d5"
   ]
  },
  {
   "cell_type": "code",
   "execution_count": 19,
   "id": "d4e66a8b-87c7-43e5-aacc-13560993ea5f",
   "metadata": {},
   "outputs": [
    {
     "ename": "SyntaxError",
     "evalue": "incomplete input (1197858164.py, line 1)",
     "output_type": "error",
     "traceback": [
      "\u001b[0;36m  Cell \u001b[0;32mIn[19], line 1\u001b[0;36m\u001b[0m\n\u001b[0;31m    d6 ={# : 234q}\u001b[0m\n\u001b[0m                  ^\u001b[0m\n\u001b[0;31mSyntaxError\u001b[0m\u001b[0;31m:\u001b[0m incomplete input\n"
     ]
    }
   ],
   "source": [
    "d6 ={# : 234q}"
   ]
  },
  {
   "cell_type": "markdown",
   "id": "7094ebd7-4530-4b76-b067-644f5c10deeb",
   "metadata": {},
   "source": [
    "we can't take special case character"
   ]
  },
  {
   "cell_type": "code",
   "execution_count": 21,
   "id": "bbdd29aa-9a9e-4440-9a2f-f58f5852f547",
   "metadata": {},
   "outputs": [
    {
     "ename": "TypeError",
     "evalue": "unhashable type: 'list'",
     "output_type": "error",
     "traceback": [
      "\u001b[0;31m---------------------------------------------------------------------------\u001b[0m",
      "\u001b[0;31mTypeError\u001b[0m                                 Traceback (most recent call last)",
      "Cell \u001b[0;32mIn[21], line 1\u001b[0m\n\u001b[0;32m----> 1\u001b[0m d8 \u001b[38;5;241m=\u001b[39m {[\u001b[38;5;241m1\u001b[39m,\u001b[38;5;241m2\u001b[39m,\u001b[38;5;241m3\u001b[39m,\u001b[38;5;241m4\u001b[39m] : \u001b[38;5;124m'\u001b[39m\u001b[38;5;124mabc\u001b[39m\u001b[38;5;124m'\u001b[39m}\n",
      "\u001b[0;31mTypeError\u001b[0m: unhashable type: 'list'"
     ]
    }
   ],
   "source": [
    "d8 = {[1,2,3,4] : 'abc'}"
   ]
  },
  {
   "cell_type": "code",
   "execution_count": 22,
   "id": "cc5aa922-e791-42a6-ba9e-7aee121c43f6",
   "metadata": {},
   "outputs": [],
   "source": [
    "d9= {(1,2,3) : '222'}"
   ]
  },
  {
   "cell_type": "code",
   "execution_count": 23,
   "id": "5fefdc16-bfab-4729-ad8c-f6ebc1f8b6d1",
   "metadata": {},
   "outputs": [
    {
     "data": {
      "text/plain": [
       "{(1, 2, 3): '222'}"
      ]
     },
     "execution_count": 23,
     "metadata": {},
     "output_type": "execute_result"
    }
   ],
   "source": [
    "d9"
   ]
  },
  {
   "cell_type": "markdown",
   "id": "99961716-555c-49be-88a3-94300ef2aaca",
   "metadata": {},
   "source": [
    "list isn't working but tupples are working"
   ]
  },
  {
   "cell_type": "code",
   "execution_count": 1,
   "id": "cd562c14-e871-4871-bcb3-fe490c55c261",
   "metadata": {},
   "outputs": [
    {
     "ename": "TypeError",
     "evalue": "unhashable type: 'set'",
     "output_type": "error",
     "traceback": [
      "\u001b[0;31m---------------------------------------------------------------------------\u001b[0m",
      "\u001b[0;31mTypeError\u001b[0m                                 Traceback (most recent call last)",
      "Cell \u001b[0;32mIn[1], line 1\u001b[0m\n\u001b[0;32m----> 1\u001b[0m d10\u001b[38;5;241m=\u001b[39m{{\u001b[38;5;241m1\u001b[39m,\u001b[38;5;241m2\u001b[39m,\u001b[38;5;241m3\u001b[39m} : \u001b[38;5;124m'\u001b[39m\u001b[38;5;124msbc\u001b[39m\u001b[38;5;124m'\u001b[39m}\n",
      "\u001b[0;31mTypeError\u001b[0m: unhashable type: 'set'"
     ]
    }
   ],
   "source": [
    "d10={{1,2,3} : 'sbc'}"
   ]
  },
  {
   "cell_type": "code",
   "execution_count": 2,
   "id": "4790c54e-716d-4203-ae4f-87d5f1cd5c6a",
   "metadata": {},
   "outputs": [
    {
     "ename": "TypeError",
     "evalue": "unhashable type: 'dict'",
     "output_type": "error",
     "traceback": [
      "\u001b[0;31m---------------------------------------------------------------------------\u001b[0m",
      "\u001b[0;31mTypeError\u001b[0m                                 Traceback (most recent call last)",
      "Cell \u001b[0;32mIn[2], line 1\u001b[0m\n\u001b[0;32m----> 1\u001b[0m d11\u001b[38;5;241m=\u001b[39m {{\u001b[38;5;124m\"\u001b[39m\u001b[38;5;124mkey\u001b[39m\u001b[38;5;124m\"\u001b[39m : \u001b[38;5;241m234\u001b[39m}:\u001b[38;5;124m\"\u001b[39m\u001b[38;5;124mabc\u001b[39m\u001b[38;5;124m\"\u001b[39m}\n",
      "\u001b[0;31mTypeError\u001b[0m: unhashable type: 'dict'"
     ]
    }
   ],
   "source": [
    "d11= {{\"key\" : 234}:\"abc\"}"
   ]
  },
  {
   "cell_type": "code",
   "execution_count": 3,
   "id": "e8aa4bf3-391e-45f5-8ba8-7d92876470a0",
   "metadata": {},
   "outputs": [],
   "source": [
    "d12={'course_name' : ['data science master','web dev','java with dsa and system design']}"
   ]
  },
  {
   "cell_type": "code",
   "execution_count": 4,
   "id": "5933353b-8bdb-4c4e-997c-9f66ec6f5741",
   "metadata": {},
   "outputs": [
    {
     "data": {
      "text/plain": [
       "{'course_name': ['data science master',\n",
       "  'web dev',\n",
       "  'java with dsa and system design']}"
      ]
     },
     "execution_count": 4,
     "metadata": {},
     "output_type": "execute_result"
    }
   ],
   "source": [
    "d12"
   ]
  },
  {
   "cell_type": "code",
   "execution_count": 5,
   "id": "7685befe-f754-4052-8ee7-30ab2997ad24",
   "metadata": {},
   "outputs": [],
   "source": [
    "d13= {\"key\" : (1,2,3,4,5)}"
   ]
  },
  {
   "cell_type": "code",
   "execution_count": 6,
   "id": "f0b1b7e2-f5aa-4da8-aeba-4f5a19abacd9",
   "metadata": {},
   "outputs": [
    {
     "data": {
      "text/plain": [
       "{'key': (1, 2, 3, 4, 5)}"
      ]
     },
     "execution_count": 6,
     "metadata": {},
     "output_type": "execute_result"
    }
   ],
   "source": [
    "d13"
   ]
  },
  {
   "cell_type": "code",
   "execution_count": 8,
   "id": "115286fb-665b-4e6e-8507-606bc3bde79c",
   "metadata": {},
   "outputs": [],
   "source": [
    "d14= {\"key\" : (1,2,3,4)}"
   ]
  },
  {
   "cell_type": "code",
   "execution_count": 9,
   "id": "3b23d5d1-18ca-481a-a245-a898587e72aa",
   "metadata": {},
   "outputs": [
    {
     "data": {
      "text/plain": [
       "{'key': (1, 2, 3, 4)}"
      ]
     },
     "execution_count": 9,
     "metadata": {},
     "output_type": "execute_result"
    }
   ],
   "source": [
    "d14"
   ]
  },
  {
   "cell_type": "code",
   "execution_count": 10,
   "id": "f16b7105-c7c3-4c69-8ac6-f12bfbfef186",
   "metadata": {},
   "outputs": [],
   "source": [
    "d15 = {'key' : {'name' : 'sudhanshu', 'class' : 'DSM'}}"
   ]
  },
  {
   "cell_type": "code",
   "execution_count": 11,
   "id": "ed922f55-32ee-4e4d-b777-a1ce94db9a4a",
   "metadata": {},
   "outputs": [
    {
     "data": {
      "text/plain": [
       "{'key': {'name': 'sudhanshu', 'class': 'DSM'}}"
      ]
     },
     "execution_count": 11,
     "metadata": {},
     "output_type": "execute_result"
    }
   ],
   "source": [
    "d15"
   ]
  },
  {
   "cell_type": "code",
   "execution_count": 12,
   "id": "857e8669-44a9-416c-9a6c-319d90ae0c36",
   "metadata": {},
   "outputs": [],
   "source": [
    "d16 = {'batch_name' : ['ds masters','web dev','JDS'],'start_date' : (28,14,22),'mentors_name': {'krish','sudhanshu','Ram'} }"
   ]
  },
  {
   "cell_type": "code",
   "execution_count": 13,
   "id": "9c55aa14-0769-42d0-bb6a-cb444d89303b",
   "metadata": {},
   "outputs": [
    {
     "data": {
      "text/plain": [
       "{'batch_name': ['ds masters', 'web dev', 'JDS'],\n",
       " 'start_date': (28, 14, 22),\n",
       " 'mentors_name': {'Ram', 'krish', 'sudhanshu'}}"
      ]
     },
     "execution_count": 13,
     "metadata": {},
     "output_type": "execute_result"
    }
   ],
   "source": [
    "d16"
   ]
  },
  {
   "cell_type": "code",
   "execution_count": 15,
   "id": "8b1ca059-b593-47f1-9c6c-251aa9a1aa10",
   "metadata": {},
   "outputs": [],
   "source": [
    "d16['timing']=(8,8,8)"
   ]
  },
  {
   "cell_type": "code",
   "execution_count": 16,
   "id": "2d6305c4-7919-4512-b1be-20ee5ba4a4cb",
   "metadata": {},
   "outputs": [
    {
     "data": {
      "text/plain": [
       "{'batch_name': ['ds masters', 'web dev', 'JDS'],\n",
       " 'start_date': (28, 14, 22),\n",
       " 'mentors_name': {'Ram', 'krish', 'sudhanshu'},\n",
       " 'timing': (8, 8, 8)}"
      ]
     },
     "execution_count": 16,
     "metadata": {},
     "output_type": "execute_result"
    }
   ],
   "source": [
    "d16"
   ]
  },
  {
   "cell_type": "code",
   "execution_count": 17,
   "id": "5dd25659-80d3-4b77-a8b9-f6d2ea8cb3a5",
   "metadata": {},
   "outputs": [
    {
     "data": {
      "text/plain": [
       "['ds masters', 'web dev', 'JDS']"
      ]
     },
     "execution_count": 17,
     "metadata": {},
     "output_type": "execute_result"
    }
   ],
   "source": [
    "d16['batch_name']"
   ]
  },
  {
   "cell_type": "code",
   "execution_count": 18,
   "id": "5b462799-35ba-4e76-9b69-be3c9e286ee5",
   "metadata": {},
   "outputs": [
    {
     "data": {
      "text/plain": [
       "{'Ram', 'krish', 'sudhanshu'}"
      ]
     },
     "execution_count": 18,
     "metadata": {},
     "output_type": "execute_result"
    }
   ],
   "source": [
    "d16['mentors_name']"
   ]
  },
  {
   "cell_type": "code",
   "execution_count": 19,
   "id": "452d1758-aa2e-402e-91ab-a621a5a54780",
   "metadata": {},
   "outputs": [
    {
     "data": {
      "text/plain": [
       "set"
      ]
     },
     "execution_count": 19,
     "metadata": {},
     "output_type": "execute_result"
    }
   ],
   "source": [
    "type(d16['mentors_name'])"
   ]
  },
  {
   "cell_type": "code",
   "execution_count": 20,
   "id": "de64d013-625d-4a97-af46-72bc4af1533a",
   "metadata": {},
   "outputs": [
    {
     "ename": "KeyError",
     "evalue": "'key'",
     "output_type": "error",
     "traceback": [
      "\u001b[0;31m---------------------------------------------------------------------------\u001b[0m",
      "\u001b[0;31mKeyError\u001b[0m                                  Traceback (most recent call last)",
      "Cell \u001b[0;32mIn[20], line 1\u001b[0m\n\u001b[0;32m----> 1\u001b[0m \u001b[43md16\u001b[49m\u001b[43m[\u001b[49m\u001b[38;5;124;43m'\u001b[39;49m\u001b[38;5;124;43mkey\u001b[39;49m\u001b[38;5;124;43m'\u001b[39;49m\u001b[43m]\u001b[49m\n",
      "\u001b[0;31mKeyError\u001b[0m: 'key'"
     ]
    }
   ],
   "source": [
    "d16['key']"
   ]
  },
  {
   "cell_type": "code",
   "execution_count": 23,
   "id": "65494650-6cc2-469c-a651-02faf478c2b2",
   "metadata": {},
   "outputs": [],
   "source": [
    "d16[\"name\"] = \"news\""
   ]
  },
  {
   "cell_type": "code",
   "execution_count": 24,
   "id": "d9e244e0-305f-42c6-96e0-5dc71336a0a8",
   "metadata": {},
   "outputs": [
    {
     "data": {
      "text/plain": [
       "{'batch_name': ['ds masters', 'web dev', 'JDS'],\n",
       " 'start_date': (28, 14, 22),\n",
       " 'mentors_name': {'Ram', 'krish', 'sudhanshu'},\n",
       " 'timing': (8, 8, 8),\n",
       " 'name': 'news'}"
      ]
     },
     "execution_count": 24,
     "metadata": {},
     "output_type": "execute_result"
    }
   ],
   "source": [
    "d16"
   ]
  },
  {
   "cell_type": "code",
   "execution_count": 27,
   "id": "1dd67519-e67d-4208-9a40-25f3373e54d3",
   "metadata": {},
   "outputs": [
    {
     "data": {
      "text/plain": [
       "'NEWS'"
      ]
     },
     "execution_count": 27,
     "metadata": {},
     "output_type": "execute_result"
    }
   ],
   "source": [
    "d16['name'].upper()"
   ]
  },
  {
   "cell_type": "code",
   "execution_count": 28,
   "id": "e63a08d7-7dd0-4d63-bf6f-7bc0589d589d",
   "metadata": {},
   "outputs": [
    {
     "data": {
      "text/plain": [
       "{'key': {'name': 'sudhanshu', 'class': 'DSM'}}"
      ]
     },
     "execution_count": 28,
     "metadata": {},
     "output_type": "execute_result"
    }
   ],
   "source": [
    "d15"
   ]
  },
  {
   "cell_type": "code",
   "execution_count": 29,
   "id": "ca95801f-4e97-4536-8f66-4a604fbd5da8",
   "metadata": {},
   "outputs": [
    {
     "data": {
      "text/plain": [
       "{'name': 'sudhanshu', 'class': 'DSM'}"
      ]
     },
     "execution_count": 29,
     "metadata": {},
     "output_type": "execute_result"
    }
   ],
   "source": [
    "d15['key']"
   ]
  },
  {
   "cell_type": "code",
   "execution_count": 30,
   "id": "445f6980-4662-4b7e-a543-045434f45a8c",
   "metadata": {},
   "outputs": [
    {
     "data": {
      "text/plain": [
       "dict"
      ]
     },
     "execution_count": 30,
     "metadata": {},
     "output_type": "execute_result"
    }
   ],
   "source": [
    "type(d15)"
   ]
  },
  {
   "cell_type": "code",
   "execution_count": 32,
   "id": "09d47298-4c72-4528-9539-14c78697bd04",
   "metadata": {},
   "outputs": [
    {
     "data": {
      "text/plain": [
       "'DSM'"
      ]
     },
     "execution_count": 32,
     "metadata": {},
     "output_type": "execute_result"
    }
   ],
   "source": [
    "d15['key']['class']"
   ]
  },
  {
   "cell_type": "code",
   "execution_count": 33,
   "id": "a48a64df-9b8a-4b8c-ad14-4e698df75103",
   "metadata": {},
   "outputs": [],
   "source": [
    "d15['key1'] ='abc'"
   ]
  },
  {
   "cell_type": "code",
   "execution_count": 34,
   "id": "770d11cf-9a2c-4431-872c-5327552d8b75",
   "metadata": {},
   "outputs": [
    {
     "data": {
      "text/plain": [
       "{'key': {'name': 'sudhanshu', 'class': 'DSM'}, 'key1': 'abc'}"
      ]
     },
     "execution_count": 34,
     "metadata": {},
     "output_type": "execute_result"
    }
   ],
   "source": [
    "d15"
   ]
  },
  {
   "cell_type": "code",
   "execution_count": 35,
   "id": "b9a3c23a-2756-4129-8d07-9859217eca6b",
   "metadata": {},
   "outputs": [],
   "source": [
    "del d15['key1']"
   ]
  },
  {
   "cell_type": "code",
   "execution_count": 36,
   "id": "c552b430-9562-4a39-b929-48fc95aba9e3",
   "metadata": {},
   "outputs": [
    {
     "data": {
      "text/plain": [
       "{'key': {'name': 'sudhanshu', 'class': 'DSM'}}"
      ]
     },
     "execution_count": 36,
     "metadata": {},
     "output_type": "execute_result"
    }
   ],
   "source": [
    "d15"
   ]
  },
  {
   "cell_type": "code",
   "execution_count": 37,
   "id": "2aec2504-6c99-4643-8456-d72d4ac71e26",
   "metadata": {},
   "outputs": [],
   "source": [
    "d15.clear()"
   ]
  },
  {
   "cell_type": "code",
   "execution_count": 38,
   "id": "b84c7313-0254-4848-9e2c-5001f0c2133b",
   "metadata": {},
   "outputs": [
    {
     "data": {
      "text/plain": [
       "{}"
      ]
     },
     "execution_count": 38,
     "metadata": {},
     "output_type": "execute_result"
    }
   ],
   "source": [
    "d15"
   ]
  },
  {
   "cell_type": "code",
   "execution_count": 39,
   "id": "24051387-4511-45c3-8e8f-4e9c1fbd3205",
   "metadata": {},
   "outputs": [
    {
     "data": {
      "text/plain": [
       "5"
      ]
     },
     "execution_count": 39,
     "metadata": {},
     "output_type": "execute_result"
    }
   ],
   "source": [
    "len(d16)"
   ]
  },
  {
   "cell_type": "code",
   "execution_count": 41,
   "id": "d01c2789-9392-4405-993e-6a770f65774a",
   "metadata": {},
   "outputs": [
    {
     "data": {
      "text/plain": [
       "dict_keys(['batch_name', 'start_date', 'mentors_name', 'timing', 'name'])"
      ]
     },
     "execution_count": 41,
     "metadata": {},
     "output_type": "execute_result"
    }
   ],
   "source": [
    "d16.keys()"
   ]
  },
  {
   "cell_type": "code",
   "execution_count": 42,
   "id": "90c79bab-204c-4252-9635-4c14577396e0",
   "metadata": {},
   "outputs": [
    {
     "data": {
      "text/plain": [
       "dict_values([['ds masters', 'web dev', 'JDS'], (28, 14, 22), {'krish', 'sudhanshu', 'Ram'}, (8, 8, 8), 'news'])"
      ]
     },
     "execution_count": 42,
     "metadata": {},
     "output_type": "execute_result"
    }
   ],
   "source": [
    "d16.values()"
   ]
  },
  {
   "cell_type": "code",
   "execution_count": 43,
   "id": "bcacca47-4f16-4459-8dfb-25ccee286e1a",
   "metadata": {},
   "outputs": [
    {
     "data": {
      "text/plain": [
       "[['ds masters', 'web dev', 'JDS'],\n",
       " (28, 14, 22),\n",
       " {'Ram', 'krish', 'sudhanshu'},\n",
       " (8, 8, 8),\n",
       " 'news']"
      ]
     },
     "execution_count": 43,
     "metadata": {},
     "output_type": "execute_result"
    }
   ],
   "source": [
    "list(d16.values())"
   ]
  },
  {
   "cell_type": "code",
   "execution_count": 44,
   "id": "96cacc2d-451b-42cb-a1db-84320f0f436e",
   "metadata": {},
   "outputs": [
    {
     "data": {
      "text/plain": [
       "['batch_name', 'start_date', 'mentors_name', 'timing', 'name']"
      ]
     },
     "execution_count": 44,
     "metadata": {},
     "output_type": "execute_result"
    }
   ],
   "source": [
    "list(d16.keys())"
   ]
  },
  {
   "cell_type": "code",
   "execution_count": 45,
   "id": "136a7000-011d-4891-a7b0-b2c3902c838f",
   "metadata": {},
   "outputs": [
    {
     "data": {
      "text/plain": [
       "dict_items([('batch_name', ['ds masters', 'web dev', 'JDS']), ('start_date', (28, 14, 22)), ('mentors_name', {'krish', 'sudhanshu', 'Ram'}), ('timing', (8, 8, 8)), ('name', 'news')])"
      ]
     },
     "execution_count": 45,
     "metadata": {},
     "output_type": "execute_result"
    }
   ],
   "source": [
    "d16.items()"
   ]
  },
  {
   "cell_type": "code",
   "execution_count": 46,
   "id": "c5abaf5e-fe30-4ffe-b66b-35d2c25a4333",
   "metadata": {},
   "outputs": [
    {
     "data": {
      "text/plain": [
       "list[dict_items([('batch_name', ['ds masters', 'web dev', 'JDS']), ('start_date', (28, 14, 22)), ('mentors_name', {'krish', 'sudhanshu', 'Ram'}), ('timing', (8, 8, 8)), ('name', 'news')])]"
      ]
     },
     "execution_count": 46,
     "metadata": {},
     "output_type": "execute_result"
    }
   ],
   "source": [
    "list[d16.items()]"
   ]
  },
  {
   "cell_type": "code",
   "execution_count": 47,
   "id": "a611eeea-d782-41a6-b1ff-d1c55c4ae618",
   "metadata": {},
   "outputs": [
    {
     "data": {
      "text/plain": [
       "{'batch_name': ['ds masters', 'web dev', 'JDS'],\n",
       " 'start_date': (28, 14, 22),\n",
       " 'mentors_name': {'Ram', 'krish', 'sudhanshu'},\n",
       " 'timing': (8, 8, 8),\n",
       " 'name': 'news'}"
      ]
     },
     "execution_count": 47,
     "metadata": {},
     "output_type": "execute_result"
    }
   ],
   "source": [
    "d16"
   ]
  },
  {
   "cell_type": "code",
   "execution_count": 48,
   "id": "fc498aed-7c48-4a20-8559-56266596d58e",
   "metadata": {},
   "outputs": [],
   "source": [
    "d17 =d16.copy()"
   ]
  },
  {
   "cell_type": "code",
   "execution_count": 49,
   "id": "2960add7-4842-423a-934b-36f0a425aa5d",
   "metadata": {},
   "outputs": [
    {
     "data": {
      "text/plain": [
       "{'batch_name': ['ds masters', 'web dev', 'JDS'],\n",
       " 'start_date': (28, 14, 22),\n",
       " 'mentors_name': {'Ram', 'krish', 'sudhanshu'},\n",
       " 'timing': (8, 8, 8),\n",
       " 'name': 'news'}"
      ]
     },
     "execution_count": 49,
     "metadata": {},
     "output_type": "execute_result"
    }
   ],
   "source": [
    "d17"
   ]
  },
  {
   "cell_type": "code",
   "execution_count": 52,
   "id": "6f1dc1d7-85c5-406c-899e-7f2b67313f16",
   "metadata": {},
   "outputs": [],
   "source": [
    "del d16['name']"
   ]
  },
  {
   "cell_type": "code",
   "execution_count": 53,
   "id": "a8de570b-2655-40ff-b070-b03b0fe71170",
   "metadata": {},
   "outputs": [
    {
     "data": {
      "text/plain": [
       "{'batch_name': ['ds masters', 'web dev', 'JDS'],\n",
       " 'start_date': (28, 14, 22),\n",
       " 'mentors_name': {'Ram', 'krish', 'sudhanshu'},\n",
       " 'timing': (8, 8, 8)}"
      ]
     },
     "execution_count": 53,
     "metadata": {},
     "output_type": "execute_result"
    }
   ],
   "source": [
    "d16"
   ]
  },
  {
   "cell_type": "code",
   "execution_count": 54,
   "id": "f3ecc3d6-50ac-4628-b736-b74b1513868c",
   "metadata": {},
   "outputs": [
    {
     "data": {
      "text/plain": [
       "{'batch_name': ['ds masters', 'web dev', 'JDS'],\n",
       " 'start_date': (28, 14, 22),\n",
       " 'mentors_name': {'Ram', 'krish', 'sudhanshu'},\n",
       " 'timing': (8, 8, 8),\n",
       " 'name': 'news'}"
      ]
     },
     "execution_count": 54,
     "metadata": {},
     "output_type": "execute_result"
    }
   ],
   "source": [
    "d17"
   ]
  },
  {
   "cell_type": "code",
   "execution_count": 50,
   "id": "519cb88b-ea0a-4675-899b-199618162904",
   "metadata": {},
   "outputs": [],
   "source": [
    "d18 = d16"
   ]
  },
  {
   "cell_type": "code",
   "execution_count": 55,
   "id": "94528b76-9843-4a7a-b359-06d6434f6fe2",
   "metadata": {},
   "outputs": [
    {
     "data": {
      "text/plain": [
       "{'batch_name': ['ds masters', 'web dev', 'JDS'],\n",
       " 'start_date': (28, 14, 22),\n",
       " 'mentors_name': {'Ram', 'krish', 'sudhanshu'},\n",
       " 'timing': (8, 8, 8)}"
      ]
     },
     "execution_count": 55,
     "metadata": {},
     "output_type": "execute_result"
    }
   ],
   "source": [
    "d18"
   ]
  },
  {
   "cell_type": "code",
   "execution_count": 56,
   "id": "a7a5bc1b-8540-48fb-b867-3998c1cb0ba6",
   "metadata": {},
   "outputs": [
    {
     "data": {
      "text/plain": [
       "(8, 8, 8)"
      ]
     },
     "execution_count": 56,
     "metadata": {},
     "output_type": "execute_result"
    }
   ],
   "source": [
    "d16.pop('timing')"
   ]
  },
  {
   "cell_type": "code",
   "execution_count": 57,
   "id": "2c9d40e9-2ca5-4d58-99fc-9083136cc740",
   "metadata": {},
   "outputs": [
    {
     "data": {
      "text/plain": [
       "{'batch_name': ['ds masters', 'web dev', 'JDS'],\n",
       " 'start_date': (28, 14, 22),\n",
       " 'mentors_name': {'Ram', 'krish', 'sudhanshu'}}"
      ]
     },
     "execution_count": 57,
     "metadata": {},
     "output_type": "execute_result"
    }
   ],
   "source": [
    "d16"
   ]
  },
  {
   "cell_type": "code",
   "execution_count": 64,
   "id": "5f3c9b1a-9521-45e6-a32f-3410546b24cc",
   "metadata": {},
   "outputs": [
    {
     "data": {
      "text/plain": [
       "{1: ('a', 'b', 'c'), 2: ('a', 'b', 'c'), 3: ('a', 'b', 'c')}"
      ]
     },
     "execution_count": 64,
     "metadata": {},
     "output_type": "execute_result"
    }
   ],
   "source": [
    "d15.fromkeys((1,2,3) , ('a','b','c'))"
   ]
  },
  {
   "cell_type": "code",
   "execution_count": 65,
   "id": "e2007382-26d3-4875-8fde-f4177c741564",
   "metadata": {},
   "outputs": [],
   "source": [
    "d19={'key1' : 'value','key2' : 'value2'}\n",
    "d20={'key3' : 'value3','key4' : 'value4'}"
   ]
  },
  {
   "cell_type": "code",
   "execution_count": 66,
   "id": "0cc502f7-5c67-45f4-b350-0fba7838409f",
   "metadata": {},
   "outputs": [
    {
     "data": {
      "text/plain": [
       "({'key1': 'value', 'key2': 'value2'}, {'key3': 'value3', 'key4': 'value4'})"
      ]
     },
     "execution_count": 66,
     "metadata": {},
     "output_type": "execute_result"
    }
   ],
   "source": [
    "(d19,d20)"
   ]
  },
  {
   "cell_type": "code",
   "execution_count": 67,
   "id": "f6ec1cb0-bdee-4ca0-9cd6-f103fd86ddad",
   "metadata": {},
   "outputs": [],
   "source": [
    "d19.update(d20)"
   ]
  },
  {
   "cell_type": "code",
   "execution_count": 68,
   "id": "419fb6d9-b71f-4a6f-85c7-cc900fc6fd4e",
   "metadata": {},
   "outputs": [
    {
     "data": {
      "text/plain": [
       "{'key1': 'value', 'key2': 'value2', 'key3': 'value3', 'key4': 'value4'}"
      ]
     },
     "execution_count": 68,
     "metadata": {},
     "output_type": "execute_result"
    }
   ],
   "source": [
    "d19"
   ]
  },
  {
   "cell_type": "code",
   "execution_count": 69,
   "id": "bf99fbf7-39ff-46cf-9c55-b9557f112348",
   "metadata": {},
   "outputs": [
    {
     "data": {
      "text/plain": [
       "{'key3': 'value3', 'key4': 'value4'}"
      ]
     },
     "execution_count": 69,
     "metadata": {},
     "output_type": "execute_result"
    }
   ],
   "source": [
    "d20"
   ]
  },
  {
   "cell_type": "code",
   "execution_count": 70,
   "id": "a7b294f5-4464-4f64-832e-a22dbf39f894",
   "metadata": {},
   "outputs": [],
   "source": [
    "d20.update(d19)"
   ]
  },
  {
   "cell_type": "code",
   "execution_count": 71,
   "id": "f24fe82e-4745-4c0a-8f14-1e9a10451dd2",
   "metadata": {},
   "outputs": [
    {
     "data": {
      "text/plain": [
       "{'key3': 'value3', 'key4': 'value4', 'key1': 'value', 'key2': 'value2'}"
      ]
     },
     "execution_count": 71,
     "metadata": {},
     "output_type": "execute_result"
    }
   ],
   "source": [
    "d20"
   ]
  },
  {
   "cell_type": "code",
   "execution_count": 72,
   "id": "93b45941-b05f-40b7-956f-f851c8e0ec81",
   "metadata": {},
   "outputs": [],
   "source": [
    "d20.get('news')"
   ]
  },
  {
   "cell_type": "code",
   "execution_count": 73,
   "id": "d71ec128-be98-40c9-9bd8-85814945695f",
   "metadata": {},
   "outputs": [
    {
     "data": {
      "text/plain": [
       "'value3'"
      ]
     },
     "execution_count": 73,
     "metadata": {},
     "output_type": "execute_result"
    }
   ],
   "source": [
    "d20.get('key3')"
   ]
  },
  {
   "cell_type": "code",
   "execution_count": null,
   "id": "f9eb7397-5038-4d34-8a19-e7e3be5b4cfc",
   "metadata": {},
   "outputs": [
    {
     "ename": "KeyError",
     "evalue": "'sudh'",
     "output_type": "error",
     "traceback": [
      "\u001b[0;31m---------------------------------------------------------------------------\u001b[0m",
      "\u001b[0;31mKeyError\u001b[0m                                  Traceback (most recent call last)",
      "Cell \u001b[0;32mIn[74], line 1\u001b[0m\n\u001b[0;32m----> 1\u001b[0m \u001b[43md20\u001b[49m\u001b[43m[\u001b[49m\u001b[38;5;124;43m'\u001b[39;49m\u001b[38;5;124;43msudh\u001b[39;49m\u001b[38;5;124;43m'\u001b[39;49m\u001b[43m]\u001b[49m\n",
      "\u001b[0;31mKeyError\u001b[0m: 'sudh'"
     ]
    }
   ],
   "source": [
    "d20['sudh']"
   ]
  },
  {
   "cell_type": "code",
   "execution_count": 77,
   "id": "48795e28-d1b4-447c-a98d-48a81cc3f0ea",
   "metadata": {},
   "outputs": [
    {
     "data": {
      "text/plain": [
       "'value2'"
      ]
     },
     "execution_count": 77,
     "metadata": {},
     "output_type": "execute_result"
    }
   ],
   "source": [
    "d20['key2']"
   ]
  },
  {
   "cell_type": "markdown",
   "id": "1ac8c1ee-873c-4e03-8c2e-67e944493e64",
   "metadata": {},
   "source": [
    "Dictionary Comprehensions"
   ]
  },
  {
   "cell_type": "code",
   "execution_count": 80,
   "id": "20619610-5a5c-4af1-b1b6-5f082a2d4b71",
   "metadata": {},
   "outputs": [
    {
     "data": {
      "text/plain": [
       "{1: 1, 2: 4, 3: 9, 4: 16, 5: 25, 6: 36, 7: 49, 8: 64, 9: 81, 10: 100}"
      ]
     },
     "execution_count": 80,
     "metadata": {},
     "output_type": "execute_result"
    }
   ],
   "source": [
    "{i:i**2 for i in range(1,11)}"
   ]
  },
  {
   "cell_type": "code",
   "execution_count": 79,
   "id": "b3b1d4e5-47ae-4c6c-adc7-5617ad2e27c4",
   "metadata": {},
   "outputs": [
    {
     "data": {
      "text/plain": [
       "[1, 2, 3, 4, 5, 6, 7, 8, 9, 10]"
      ]
     },
     "execution_count": 79,
     "metadata": {},
     "output_type": "execute_result"
    }
   ],
   "source": [
    "list(range(1,11))"
   ]
  },
  {
   "cell_type": "code",
   "execution_count": 81,
   "id": "4a832192-7559-44e9-b0a1-013a76ed4062",
   "metadata": {},
   "outputs": [
    {
     "data": {
      "text/plain": [
       "{1: 3, 2: 4, 3: 5, 4: 6, 5: 7, 6: 8, 7: 9, 8: 10, 9: 11, 10: 12}"
      ]
     },
     "execution_count": 81,
     "metadata": {},
     "output_type": "execute_result"
    }
   ],
   "source": [
    "{i:i+2 for i in range(1,11)}"
   ]
  },
  {
   "cell_type": "code",
   "execution_count": 86,
   "id": "6aa486a4-265a-4271-b0ab-69a8d75cc514",
   "metadata": {},
   "outputs": [],
   "source": [
    "import math\n",
    "d21 = {i:math.log10(i) for i in range(1,11)}"
   ]
  },
  {
   "cell_type": "code",
   "execution_count": 84,
   "id": "7bb117e2-ed87-4614-9244-f72a7728d44a",
   "metadata": {},
   "outputs": [
    {
     "data": {
      "text/plain": [
       "{'batch_name': ['ds masters', 'web dev', 'JDS'],\n",
       " 'start_date': (28, 14, 22),\n",
       " 'mentors_name': {'Ram', 'krish', 'sudhanshu'}}"
      ]
     },
     "execution_count": 84,
     "metadata": {},
     "output_type": "execute_result"
    }
   ],
   "source": [
    "d16"
   ]
  },
  {
   "cell_type": "code",
   "execution_count": 85,
   "id": "b662a54f-ce36-48eb-b129-5ecec74dcbea",
   "metadata": {},
   "outputs": [
    {
     "data": {
      "text/plain": [
       "True"
      ]
     },
     "execution_count": 85,
     "metadata": {},
     "output_type": "execute_result"
    }
   ],
   "source": [
    "'batch_name' in d16"
   ]
  },
  {
   "cell_type": "code",
   "execution_count": 87,
   "id": "789dbb83-410c-472a-82da-d767cb663059",
   "metadata": {},
   "outputs": [
    {
     "data": {
      "text/plain": [
       "{1: 0.0,\n",
       " 2: 0.3010299956639812,\n",
       " 3: 0.47712125471966244,\n",
       " 4: 0.6020599913279624,\n",
       " 5: 0.6989700043360189,\n",
       " 6: 0.7781512503836436,\n",
       " 7: 0.8450980400142568,\n",
       " 8: 0.9030899869919435,\n",
       " 9: 0.9542425094393249,\n",
       " 10: 1.0}"
      ]
     },
     "execution_count": 87,
     "metadata": {},
     "output_type": "execute_result"
    }
   ],
   "source": [
    "d21"
   ]
  },
  {
   "cell_type": "code",
   "execution_count": 89,
   "id": "a07f36ef-c47a-42c4-985f-5b685f323194",
   "metadata": {},
   "outputs": [],
   "source": [
    "import math\n",
    "d21 = {i: i%2==0 for i in range(1,11)}"
   ]
  },
  {
   "cell_type": "code",
   "execution_count": 90,
   "id": "5634f63c-36ce-480a-939e-3d57d6c1af1e",
   "metadata": {},
   "outputs": [
    {
     "data": {
      "text/plain": [
       "{1: False,\n",
       " 2: True,\n",
       " 3: False,\n",
       " 4: True,\n",
       " 5: False,\n",
       " 6: True,\n",
       " 7: False,\n",
       " 8: True,\n",
       " 9: False,\n",
       " 10: True}"
      ]
     },
     "execution_count": 90,
     "metadata": {},
     "output_type": "execute_result"
    }
   ],
   "source": [
    "d21"
   ]
  },
  {
   "cell_type": "code",
   "execution_count": 95,
   "id": "fa89905d-429d-4cd5-bd0c-4c5468fcddef",
   "metadata": {},
   "outputs": [
    {
     "name": "stdout",
     "output_type": "stream",
     "text": [
      "0.3010299956639812\n",
      "0.6020599913279624\n",
      "0.7781512503836436\n",
      "0.9030899869919435\n",
      "1.0\n"
     ]
    }
   ],
   "source": [
    "import math\n",
    "d21 = {i:math.log10(i) for i in range(1,11)}\n",
    "for i in d21.keys():\n",
    "    if i %2 ==0:\n",
    "        print(d21[i])"
   ]
  },
  {
   "cell_type": "code",
   "execution_count": null,
   "id": "f817218e-baf0-4599-bdac-9f0698f7ca8e",
   "metadata": {},
   "outputs": [],
   "source": []
  }
 ],
 "metadata": {
  "kernelspec": {
   "display_name": "Python 3 (ipykernel)",
   "language": "python",
   "name": "python3"
  },
  "language_info": {
   "codemirror_mode": {
    "name": "ipython",
    "version": 3
   },
   "file_extension": ".py",
   "mimetype": "text/x-python",
   "name": "python",
   "nbconvert_exporter": "python",
   "pygments_lexer": "ipython3",
   "version": "3.10.8"
  }
 },
 "nbformat": 4,
 "nbformat_minor": 5
}
