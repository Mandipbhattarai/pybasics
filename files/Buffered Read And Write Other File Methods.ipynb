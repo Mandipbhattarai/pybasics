{
 "cells": [
  {
   "cell_type": "markdown",
   "id": "585636cc-72ca-490d-adde-5dd19cf1d44c",
   "metadata": {},
   "source": [
    "## Buffered Read And Write Other File Methods"
   ]
  },
  {
   "cell_type": "code",
   "execution_count": 1,
   "id": "fcac5bf8-d920-4055-b705-b73c532ab070",
   "metadata": {},
   "outputs": [],
   "source": [
    "import io"
   ]
  },
  {
   "cell_type": "markdown",
   "id": "388464a1-4dc0-4fe7-970c-f03f3b1ed442",
   "metadata": {},
   "source": [
    "if file size is more than we use buffered read and write"
   ]
  },
  {
   "cell_type": "code",
   "execution_count": 6,
   "id": "13d012f3-e200-4a11-a635-e26a51a90a5a",
   "metadata": {},
   "outputs": [],
   "source": [
    "with open('test.txt','wb') as f:\n",
    "    file=io.BufferedWriter(f)\n",
    "    file.write(b'Data Science Masters course is highly curated and uniquely designed according to the latest industry standards. This program instills students the skills essential to knowledge discovery efforts to identify standard, novel, and truly differentiated solutions and decision-making, including skills in managing, querying, analyzing, visualizing, and extracting meaning from extremely large data sets.\\n')\n",
    "    file.write(b'this is my second line that i am trying to write')\n",
    "    file.flush()"
   ]
  },
  {
   "cell_type": "code",
   "execution_count": 12,
   "id": "d3915360-b319-4302-824d-196b43a9d633",
   "metadata": {},
   "outputs": [
    {
     "name": "stdout",
     "output_type": "stream",
     "text": [
      "b'Data Scien'\n"
     ]
    }
   ],
   "source": [
    "with open('test.txt','rb') as f:\n",
    "    file =io.BufferedReader(f)\n",
    "    data =file.read(10)\n",
    "    print(data)"
   ]
  }
 ],
 "metadata": {
  "kernelspec": {
   "display_name": "Python 3 (ipykernel)",
   "language": "python",
   "name": "python3"
  },
  "language_info": {
   "codemirror_mode": {
    "name": "ipython",
    "version": 3
   },
   "file_extension": ".py",
   "mimetype": "text/x-python",
   "name": "python",
   "nbconvert_exporter": "python",
   "pygments_lexer": "ipython3",
   "version": "3.10.8"
  }
 },
 "nbformat": 4,
 "nbformat_minor": 5
}
