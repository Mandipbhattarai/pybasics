{
 "cells": [
  {
   "cell_type": "code",
   "execution_count": 30,
   "id": "b92902f5-a56e-4b24-a31c-15dfc5bdbd4a",
   "metadata": {},
   "outputs": [],
   "source": [
    "data = {\n",
    "    'name':'sudh',\n",
    "    'mail_id': 'sudh@gmail.com',\n",
    "    'phone_number':2989212,\n",
    "    'subject':['data science','big data','data analytics']\n",
    "}"
   ]
  },
  {
   "cell_type": "code",
   "execution_count": 4,
   "id": "2cad905c-a4bf-4480-ab39-2be4820eb7df",
   "metadata": {},
   "outputs": [],
   "source": [
    "import json"
   ]
  },
  {
   "cell_type": "code",
   "execution_count": 6,
   "id": "c746816c-4eb4-4a20-9f5e-b951ec230d65",
   "metadata": {},
   "outputs": [],
   "source": [
    "with open('test1.json','w' ) as f:\n",
    "    json.dump(data,f)"
   ]
  },
  {
   "cell_type": "code",
   "execution_count": 7,
   "id": "fa8baf87-4aed-4561-a277-f0b40398bf75",
   "metadata": {},
   "outputs": [],
   "source": [
    "with open('test1.json','r') as f:\n",
    "    data1=json.load(f)"
   ]
  },
  {
   "cell_type": "code",
   "execution_count": 10,
   "id": "9c637447-9bc8-414e-be14-b56ae7b7cd25",
   "metadata": {},
   "outputs": [
    {
     "data": {
      "text/plain": [
       "{'name': 'sudh',\n",
       " 'mail_id': 'sudh@gmail.com',\n",
       " 'phone_number': 2989212,\n",
       " 'subject': ['data science', 'big data', 'data analytics']}"
      ]
     },
     "execution_count": 10,
     "metadata": {},
     "output_type": "execute_result"
    }
   ],
   "source": [
    "data1"
   ]
  },
  {
   "cell_type": "code",
   "execution_count": 11,
   "id": "79b6b442-54e6-4df6-b85f-4f90ecd21730",
   "metadata": {},
   "outputs": [
    {
     "data": {
      "text/plain": [
       "['data science', 'big data', 'data analytics']"
      ]
     },
     "execution_count": 11,
     "metadata": {},
     "output_type": "execute_result"
    }
   ],
   "source": [
    "data1['subject']"
   ]
  },
  {
   "cell_type": "code",
   "execution_count": 12,
   "id": "1f51bac5-bbe0-4da8-856e-dcecf6812134",
   "metadata": {},
   "outputs": [
    {
     "data": {
      "text/plain": [
       "'big data'"
      ]
     },
     "execution_count": 12,
     "metadata": {},
     "output_type": "execute_result"
    }
   ],
   "source": [
    "data1['subject'][1]"
   ]
  },
  {
   "cell_type": "code",
   "execution_count": 19,
   "id": "d6d87487-a76c-4ea2-8e0e-9d9aa7fbd45a",
   "metadata": {},
   "outputs": [],
   "source": [
    "data =[['name','email_id','number'],\n",
    "       ['sudh','sudh@gmail.com',932984921],\n",
    "       ['krish','krish@gmail.com',23489239]\n",
    "      ]"
   ]
  },
  {
   "cell_type": "code",
   "execution_count": 20,
   "id": "cd18a92e-ed28-418a-8b23-6c1adfa990c7",
   "metadata": {},
   "outputs": [],
   "source": [
    "import csv"
   ]
  },
  {
   "cell_type": "code",
   "execution_count": 21,
   "id": "aeaf1a83-5ff0-4906-910d-fcf8d78b1d0e",
   "metadata": {},
   "outputs": [],
   "source": [
    "with open('test3.csv','w') as f:\n",
    "    w=csv.writer(f)\n",
    "    for i in data:\n",
    "        w.writerow(i)"
   ]
  },
  {
   "cell_type": "code",
   "execution_count": 24,
   "id": "2f24b0aa-4d17-4bb2-91cc-af20dd1f082e",
   "metadata": {},
   "outputs": [
    {
     "name": "stdout",
     "output_type": "stream",
     "text": [
      "['name', 'email_id', 'number']\n",
      "['sudh', 'sudh@gmail.com', '932984921']\n",
      "['krish', 'krish@gmail.com', '23489239']\n"
     ]
    }
   ],
   "source": [
    "with open('test3.csv','r') as f:\n",
    "    read=csv.reader(f)\n",
    "    for i in read:\n",
    "        print(i)"
   ]
  },
  {
   "cell_type": "markdown",
   "id": "1f8aaaf1-bef6-4b04-ac5e-b7578a5377e9",
   "metadata": {},
   "source": [
    "## Separated by commas can be read and write"
   ]
  },
  {
   "cell_type": "code",
   "execution_count": 25,
   "id": "86e4ebca-a7a7-4108-bc7a-bad71b8839ee",
   "metadata": {},
   "outputs": [],
   "source": [
    "with open('test4.bin','wb') as f:\n",
    "    f.write(b'\\x01\\x02\\x03')"
   ]
  },
  {
   "cell_type": "code",
   "execution_count": 29,
   "id": "dc3cdaa5-73c7-479e-a17a-b0316eca7e61",
   "metadata": {},
   "outputs": [
    {
     "name": "stdout",
     "output_type": "stream",
     "text": [
      "b'\\x01\\x02\\x03'\n"
     ]
    }
   ],
   "source": [
    "with open('test4.bin','rb') as f:\n",
    "    print(f.read())"
   ]
  }
 ],
 "metadata": {
  "kernelspec": {
   "display_name": "Python 3 (ipykernel)",
   "language": "python",
   "name": "python3"
  },
  "language_info": {
   "codemirror_mode": {
    "name": "ipython",
    "version": 3
   },
   "file_extension": ".py",
   "mimetype": "text/x-python",
   "name": "python",
   "nbconvert_exporter": "python",
   "pygments_lexer": "ipython3",
   "version": "3.10.8"
  }
 },
 "nbformat": 4,
 "nbformat_minor": 5
}
