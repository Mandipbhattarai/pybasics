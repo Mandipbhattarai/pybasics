{
 "cells": [
  {
   "cell_type": "markdown",
   "id": "3df77b3a-d591-49aa-a79b-9c297a61abc0",
   "metadata": {},
   "source": [
    "## Logging Debugger"
   ]
  },
  {
   "cell_type": "code",
   "execution_count": 2,
   "id": "df49cc43-b94a-4033-ad21-46c8bd645f2b",
   "metadata": {},
   "outputs": [
    {
     "name": "stdout",
     "output_type": "stream",
     "text": [
      "this is my print statement\n"
     ]
    }
   ],
   "source": [
    "print('this is my print statement')"
   ]
  },
  {
   "cell_type": "code",
   "execution_count": 3,
   "id": "e94ce05a-6115-405b-bb62-baffa1b3e802",
   "metadata": {},
   "outputs": [],
   "source": [
    "import logging"
   ]
  },
  {
   "cell_type": "code",
   "execution_count": 4,
   "id": "dc7efe84-3c52-4c3f-858e-a14485de9dec",
   "metadata": {},
   "outputs": [],
   "source": [
    "logging.basicConfig(filename='test.log',level=logging.INFO)"
   ]
  },
  {
   "cell_type": "code",
   "execution_count": 5,
   "id": "a586692c-b112-4cee-9f13-dbee8cd4c3c5",
   "metadata": {},
   "outputs": [],
   "source": [
    "logging.info('this is my file of execution')"
   ]
  },
  {
   "cell_type": "code",
   "execution_count": 7,
   "id": "cd09bd8b-9bf6-4bc2-8166-c53164106b82",
   "metadata": {},
   "outputs": [],
   "source": [
    "logging.error('this is my error')"
   ]
  },
  {
   "cell_type": "code",
   "execution_count": 9,
   "id": "32bff783-5045-4321-a9ed-23e614786c58",
   "metadata": {},
   "outputs": [],
   "source": [
    "logging.critical('this is my debug')"
   ]
  },
  {
   "cell_type": "markdown",
   "id": "79b962c7-37cd-4b62-9265-8b35a54db982",
   "metadata": {},
   "source": [
    "1. NOSET\n",
    "2. DEBUG\n",
    "3. INFO\n",
    "4. WARNING\n",
    "5. ERROR\n",
    "6. CRITICAL"
   ]
  },
  {
   "cell_type": "code",
   "execution_count": 10,
   "id": "76af3910-d9fb-440d-9512-02026a3a40a7",
   "metadata": {},
   "outputs": [],
   "source": [
    "logging.warning('this is my warning')"
   ]
  },
  {
   "cell_type": "code",
   "execution_count": 11,
   "id": "7ff4d2b3-0048-43b4-ad83-090ba0c9e3ff",
   "metadata": {},
   "outputs": [],
   "source": [
    "logging.debug('this is my debug')"
   ]
  },
  {
   "cell_type": "code",
   "execution_count": 13,
   "id": "09984038-2eb6-41f0-8659-ad65847793dd",
   "metadata": {},
   "outputs": [
    {
     "ename": "AttributeError",
     "evalue": "module 'logging' has no attribute 'noset'",
     "output_type": "error",
     "traceback": [
      "\u001b[0;31m---------------------------------------------------------------------------\u001b[0m",
      "\u001b[0;31mAttributeError\u001b[0m                            Traceback (most recent call last)",
      "Cell \u001b[0;32mIn[13], line 1\u001b[0m\n\u001b[0;32m----> 1\u001b[0m \u001b[43mlogging\u001b[49m\u001b[38;5;241;43m.\u001b[39;49m\u001b[43mnoset\u001b[49m(\u001b[38;5;124m'\u001b[39m\u001b[38;5;124mthis is my noset\u001b[39m\u001b[38;5;124m'\u001b[39m)\n",
      "\u001b[0;31mAttributeError\u001b[0m: module 'logging' has no attribute 'noset'"
     ]
    }
   ],
   "source": [
    "logging.noset('this is my noset')"
   ]
  },
  {
   "cell_type": "code",
   "execution_count": 14,
   "id": "a407cd04-bfad-46a8-89e9-22bd904eaab9",
   "metadata": {},
   "outputs": [],
   "source": [
    "logging.shutdown()"
   ]
  },
  {
   "cell_type": "code",
   "execution_count": 4,
   "id": "b3c6f383-4ad6-4227-9741-d34b588bab73",
   "metadata": {},
   "outputs": [],
   "source": [
    "import logging"
   ]
  },
  {
   "cell_type": "code",
   "execution_count": 5,
   "id": "873defd7-29ec-46b6-9136-f2c0adeb0f8d",
   "metadata": {},
   "outputs": [],
   "source": [
    "logging.basicConfig(filename='test1.log',level=logging.DEBUG,format='%(asctime)s %(message)s')"
   ]
  },
  {
   "cell_type": "code",
   "execution_count": 6,
   "id": "f6d0eb3d-fc6d-4695-ae98-2e57da4e405f",
   "metadata": {},
   "outputs": [],
   "source": [
    "logging.info('this is my info log')"
   ]
  },
  {
   "cell_type": "code",
   "execution_count": 7,
   "id": "703521d9-8e22-4b87-a05b-ed0c75e049cd",
   "metadata": {},
   "outputs": [],
   "source": [
    "logging.debug('this is my debug log')"
   ]
  },
  {
   "cell_type": "code",
   "execution_count": 8,
   "id": "227cf076-9d10-4d26-b675-9b9b3841ee69",
   "metadata": {},
   "outputs": [],
   "source": [
    "logging.warning('this is my warning log')"
   ]
  },
  {
   "cell_type": "code",
   "execution_count": 10,
   "id": "a4000962-c1a6-4e9a-bb17-c0ece07845a6",
   "metadata": {},
   "outputs": [],
   "source": [
    "logging.shutdown()"
   ]
  },
  {
   "cell_type": "code",
   "execution_count": 1,
   "id": "83638796-972c-4bbe-94cb-678f5ce396d5",
   "metadata": {},
   "outputs": [],
   "source": [
    "import logging"
   ]
  },
  {
   "cell_type": "code",
   "execution_count": 2,
   "id": "c092449a-22ff-4eac-a011-b441c9de7a5c",
   "metadata": {},
   "outputs": [],
   "source": [
    "logging.basicConfig(filename='test3.log',level=logging.DEBUG,format='%(asctime)s %(name)s %(levelname)s %(message)s')"
   ]
  },
  {
   "cell_type": "code",
   "execution_count": 3,
   "id": "5ab53d3f-6069-4034-8a8f-0ad49fc71227",
   "metadata": {},
   "outputs": [],
   "source": [
    "logging.info('this is my info log')"
   ]
  },
  {
   "cell_type": "code",
   "execution_count": 4,
   "id": "b089ac82-820a-40bc-9ee4-98464d139aa7",
   "metadata": {},
   "outputs": [],
   "source": [
    "logging.warning('this is my warning')"
   ]
  },
  {
   "cell_type": "code",
   "execution_count": 6,
   "id": "2b3b5f52-36ed-48ec-af53-68ecd4fc1575",
   "metadata": {},
   "outputs": [],
   "source": [
    "l=[1,2,3,4,[1,2,3,33],'string','name']"
   ]
  },
  {
   "cell_type": "code",
   "execution_count": 14,
   "id": "b600ccbb-4524-4a5f-98d8-9c28e3c7c105",
   "metadata": {},
   "outputs": [],
   "source": [
    "l1_int =[]\n",
    "l2_str=[]\n",
    "for i in l:\n",
    "    logging.debug('this is the start of my program {}'.format(l))\n",
    "    logging.debug('this is the value of i {}'.format(i))\n",
    "    if type(i)==list:\n",
    "        for j in i:\n",
    "            logging.info('logging my j {j} and i is {i}'.format(i=i,j=j))\n",
    "            if type(j)==int:\n",
    "                l1_int.append(j)\n",
    "    elif type(i)==int:\n",
    "        l1_int.append(i)\n",
    "    else:\n",
    "        if type(i)==str:\n",
    "            l2_str.append(i)"
   ]
  },
  {
   "cell_type": "code",
   "execution_count": 15,
   "id": "ab2703d7-cc03-4f96-ab7c-e19109c89939",
   "metadata": {},
   "outputs": [
    {
     "data": {
      "text/plain": [
       "[1, 2, 3, 4, 1, 2, 3, 33]"
      ]
     },
     "execution_count": 15,
     "metadata": {},
     "output_type": "execute_result"
    }
   ],
   "source": [
    "l1_int"
   ]
  },
  {
   "cell_type": "code",
   "execution_count": 16,
   "id": "96ea6324-77bf-4271-b931-553d97e9fae4",
   "metadata": {},
   "outputs": [
    {
     "data": {
      "text/plain": [
       "['string', 'name']"
      ]
     },
     "execution_count": 16,
     "metadata": {},
     "output_type": "execute_result"
    }
   ],
   "source": [
    "l2_str"
   ]
  }
 ],
 "metadata": {
  "kernelspec": {
   "display_name": "Python 3 (ipykernel)",
   "language": "python",
   "name": "python3"
  },
  "language_info": {
   "codemirror_mode": {
    "name": "ipython",
    "version": 3
   },
   "file_extension": ".py",
   "mimetype": "text/x-python",
   "name": "python",
   "nbconvert_exporter": "python",
   "pygments_lexer": "ipython3",
   "version": "3.10.8"
  }
 },
 "nbformat": 4,
 "nbformat_minor": 5
}
